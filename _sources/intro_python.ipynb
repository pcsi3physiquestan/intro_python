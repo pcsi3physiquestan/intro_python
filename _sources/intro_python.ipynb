{
 "cells": [
  {
   "cell_type": "markdown",
   "id": "scientific-tennis",
   "metadata": {},
   "source": [
    "# Eléments de bases pour programmer en Python\n",
    "\n",
    "Cette présentation regroupe l'ensemble des éléments de langage de Python que vous avez pu utiliserau lycée et qui seront nécessaires pour travailler dans les disciplines scientifiques. Le temps et les attentes en prépas nécessite une maîtrise au préalable de ces éléments pour suivre ce qui sera fait en classe.\n",
    "\n",
    "\n",
    "\n",
    "\n",
    "```{toctree}\n",
    ":hidden:\n",
    ":titlesonly:\n",
    ":numbered: True\n",
    ":caption: Eléments de bases\n",
    "\n",
    "notebook/types\n",
    "```\n",
    "\n",
    "\n",
    "```{toctree}\n",
    ":hidden:\n",
    ":titlesonly:\n",
    ":numbered: True\n",
    ":caption: Fonctions et blocs\n",
    "\n",
    "notebook/fonctions\n",
    "notebook/structures\n",
    "```\n",
    "\n",
    "\n",
    "```{toctree}\n",
    ":hidden:\n",
    ":titlesonly:\n",
    ":numbered: True\n",
    ":caption: Bilbiothèques scientifiques\n",
    "\n",
    "notebook/np_vecteurs\n",
    "notebook/plt_presentation\n",
    "```\n",
    "\n",
    "\n",
    "```{toctree}\n",
    ":hidden:\n",
    ":titlesonly:\n",
    ":numbered: True\n",
    ":caption: S'entrainer\n",
    "\n",
    "notebook/exo_science\n",
    "```"
   ]
  }
 ],
 "metadata": {
  "jupytext": {
   "encoding": "# -*- coding: utf-8 -*-",
   "formats": "ipynb,md:myst",
   "split_at_heading": true,
   "text_representation": {
    "extension": ".md",
    "format_name": "myst",
    "format_version": 0.13,
    "jupytext_version": "1.10.3"
   }
  },
  "kernelspec": {
   "display_name": "Python 3",
   "language": "python",
   "name": "python3"
  },
  "language_info": {
   "codemirror_mode": {
    "name": "ipython",
    "version": 3
   },
   "file_extension": ".py",
   "mimetype": "text/x-python",
   "name": "python",
   "nbconvert_exporter": "python",
   "pygments_lexer": "ipython3",
   "version": "3.9.2"
  },
  "source_map": [
   15
  ]
 },
 "nbformat": 4,
 "nbformat_minor": 5
}