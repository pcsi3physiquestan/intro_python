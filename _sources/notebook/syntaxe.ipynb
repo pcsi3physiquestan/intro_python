{
 "cells": [
  {
   "cell_type": "markdown",
   "id": "fleet-envelope",
   "metadata": {},
   "source": [
    "# Syntaxe\n",
    "\n",
    "## Opérations de base\n",
    "```{tabbed} Les entiers\n",
    "Type : `int`\n",
    "Exemple : `3` ou `123543654` ou `-3465`\n",
    "\n",
    "Opérateur/Fonctions usuelles :\n",
    "* Addition : `3 + 4`\n",
    "* Soustraction : `3 - 4`\n",
    "* Multiplication : `3 * 4`\n",
    "* Division entière : `5 // 3` (renvoie 1)\n",
    "* Reste de la division euclidienne : `5 % 3` (renvoie 2)\n",
    "* Puissance : `3 ** 2` (renvoie 9)\n",
    "```\n",
    "\n",
    "````{tabbed} Les flottants (nombres réels)\n",
    "Type : `float`\n",
    "Exemple : `3.45`ou `3254.234` ou `-23.34` ou `3.` ou `-5.` (observez le `.` après le 3 et le 5).\n",
    "\n",
    "Opérateur/Fonctions usuelles :\n",
    "* Addition : `3.2 + 4.1`\n",
    "* Soustraction : `3. - 4.5`\n",
    "* Multiplication : `3.1 * 4.2`\n",
    "* Division : `3.3 / 4.`\n",
    "* Puissance : `3.3 ** 4.`\n",
    "\n",
    "```{note}\n",
    "Une opération entre un entier et un flottant est possible, elle renverra un flottant.\n",
    "```\n",
    "````\n",
    "\n",
    "\n",
    "```{tabbed} Les booléens (Vrai ou Faux)\n",
    "Type : `bool`\n",
    "Exemple : `True`, `False`\n",
    "\n",
    "Opérateur/Fonctions usuelles :\n",
    "* Négation : `not`\n",
    "* Ou : `or`\n",
    "* Et : `and`\n",
    "```\n",
    "\n",
    "````{tabbed} Les chaines de caractères\n",
    "Type : `str`\n",
    "Exemple : `\"Hello World !\"`, `\"Les guillemets sont importantes\"`, `'Ou des apostrophes'`\n",
    "\n",
    "Opérateur/Fonctions usuelles :\n",
    "* Concaténation : `\"Hello\" + \"World !\"` renvoie `\"HelloWorld !\"`\n",
    "* Longueur : `len(\"Hello\")` renvoie `5`\n",
    "* Transformer un nombre en chaine de caractère : `str(345.2)` renvoie la chaine de caractère `\"345.2\"`\n",
    "* Accès à un caractère : `\"Hello\"[0]` renvoie `\"H\"`, `\"Hello\"[4]` renvoie `\"o\"`,\n",
    "\n",
    "```{attention}\n",
    "La position des caractères commence à 0 et non à 1\n",
    "```\n",
    "\n",
    "````"
   ]
  }
 ],
 "metadata": {
  "jupytext": {
   "encoding": "# -*- coding: utf-8 -*-",
   "formats": "ipynb,md:myst",
   "split_at_heading": true,
   "text_representation": {
    "extension": ".md",
    "format_name": "myst",
    "format_version": 0.13,
    "jupytext_version": "1.10.3"
   }
  },
  "kernelspec": {
   "display_name": "Python 3",
   "language": "python",
   "name": "python3"
  },
  "language_info": {
   "codemirror_mode": {
    "name": "ipython",
    "version": 3
   },
   "file_extension": ".py",
   "mimetype": "text/x-python",
   "name": "python",
   "nbconvert_exporter": "python",
   "pygments_lexer": "ipython3",
   "version": "3.9.2"
  },
  "source_map": [
   15
  ]
 },
 "nbformat": 4,
 "nbformat_minor": 5
}