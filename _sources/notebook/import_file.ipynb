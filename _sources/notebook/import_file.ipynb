{
 "cells": [
  {
   "cell_type": "markdown",
   "id": "819f3bc4",
   "metadata": {},
   "source": [
    "```{note}\n",
    "Il existe des fonctions de la bibliothèque standard (`open`) qui permettent d'accéder au contenu d'un fichier puis d'écrire dans un fichier. Nous ne présentons pas ici ces fonctions pour ne pas alourdir la présentation bien qu'elles puissent être très utiles pour un utilisateur de Python. On se concentre ici sur l'importation et l'exportation de données expérimentales qui seront des nombres (entiers ou flottants) directement dans des vecteurs et tableaux `numpy`.\n",
    "```"
   ]
  },
  {
   "cell_type": "markdown",
   "id": "f1c739f1",
   "metadata": {},
   "source": [
    "# Traiter des données expérimentales avec numpy\n",
    "\n",
    "Lorsqu'il y a peu de données expérimentales, on peut les importer \"à la main\" mais si ces données sont nombreuses, il devient utile de stocker ces données dans un fichier (extension `.txt`, `.dat` ou autre) pour les importer dans Python lorsqu'on veut les utiliser. Cela permettra en plus de réutiliser un script Python déjà écrit sur de nouvelles données expérimentales en ne changeant que le nom du fichier."
   ]
  },
  {
   "cell_type": "markdown",
   "id": "a073f6ff",
   "metadata": {},
   "source": [
    "## Préambule : Répertoire et chemin vers un fichier\n",
    "\n",
    "En général les données expérimentales proviendront :\n",
    "* d'un système d'acquisition tiers qui a enregistré les données dans un fichier localisé ailleurs sur l'ordinateur. Dans ce cas, il faudra localiser l'endroit où est stocké le fichier : la suite de répertoires et sous-répertoires dans lequel se trouve le fichier, c'est-à-dire le __chemin__ vers ce fichier.\n",
    "* d'un fichier partagé par l'enseignant ou par des camarades. Il faudra en général le télécharger sur votre ordinateur (ou celui du TP) en choisissant correctement le répertoire de destination (_il est conseillé de le déplacé dans le même répertoire que le fichier contenant votre script_).\n",
    "\n",
    "Dans tous les cas, Python n'est pas censé connaître où est le fichier de données, il faudra donc lui donner le __chemin__ d'accès au fichier."
   ]
  },
  {
   "cell_type": "markdown",
   "id": "9796f2dc",
   "metadata": {},
   "source": [
    "### Chemin absolu\n",
    "\n",
    "Si vous avez déjà utilisé un explorateur de fichier, vous avez peut-être remarqué qu'en remontant d'un dossier parent à un autre on finit par arrive à un répertoire _racine_ (`C:/` sous `Windows` et `/` ou le nom de l'ordinateur sous `MacOs` et `Linux`). On peut ainsi localiser un fichier par la succession de répértoire dans lesquels il est inclus depuis ce répertoire racine, on parle de __chemin absolu__.\n",
    "\n",
    "> Exemple sous Windows : Si vous créez un fichier `exercice.py` dans le répertoire `python_prepa` que nous vous avons conseillé de créer. Il est situé dans la succession de répertoire (sous Windows) `Users > nom_utilisateur > Documents > python_prepa` (`nom_utilisateur` est à remplacer par le nom que vous avez choisi à la création de votre compte sur votre ordinateur). On note alors le __chemin absolu vers le fichier__ :\n",
    "> `C:/Users/nom_utilisateur/Documents/python_prepa/exercice.py`\n",
    "\n",
    "```{margin}\n",
    "* On donne ici la syntaxe utilisée sous Python. Sous Windows (dans un terminal par exemple), il faudra remplacer les `/` par des `\\`.\n",
    "* Le répertoire racine peut-être une autre lettre (`D:/`, `P:/`) en cas de disques durs multiples ou d'utilisation d'un réseau.\n",
    "```\n",
    "\n",
    "\n",
    "> Exemple sous MacOS et Linux : Si vous créez un fichier `exercice.py` dans le répertoire `python_prepa` que nous vous avons conseillé de créer. Il est situé dans la succession de répertoire (sous MacOs ou Linux) `home > nom_utilisateur > python_prepa` (`nom_utilisateur` est à remplacer par le nom que vous avez choisi à la création de votre compte sur votre ordinateur). On note alors le __chemin absolu vers le fichier__ :\n",
    "> `/home/nom_utilisateur/python_prepa/exercice.py`"
   ]
  },
  {
   "cell_type": "markdown",
   "id": "6779962a",
   "metadata": {},
   "source": [
    "### Chemin relatif\n",
    "Les chemins absolus sont pratiques car ils ne souffrent d'aucune ambiguité. Il ont par contre le défaut d'être long et nécessite la connaissance du chemin complet (logique !). Il est souvent pratique d'utiliser uniquement le chemin depuis le fichier qu'on est en train d'utiliser. On parle de __chemin relatif__.\n",
    "\n",
    "> Exemple : On utilise le fichier `exercice.py` précédent mais on a besoin de données expérimentales situées dans le fichier `/home/nom_utilisateur/python_prepa/donnees/data.txt`. Pour \"passer\" du répertoire de `exercice.py` au répertoire de `data.txt`, il suffit simplement d'entrer dans le répertoire `donnees`. Le __chemin relatif de `exercice.py` vers `data.txt` est alors :__\n",
    "> `donnees/data.txt`\n",
    "> _On remarquera l'absence de `C:/` ou `/` au début qui signifie qu'il s'agit d'un chemin relatif._\n",
    "\n",
    "La plupart du temps, l'utilisation de chemin relatif sera préfèrée.\n",
    "\n",
    "````{note}\n",
    "Il arrive qu'on doivent remonter d'un répertoire, on utilise alors `..`\n",
    "\n",
    "> Exemple : le chemin relatif de `data.txt` vers `exercice.py` est `../exercice.py`\n",
    "\n",
    "````"
   ]
  },
  {
   "cell_type": "markdown",
   "id": "0bc0ade6",
   "metadata": {},
   "source": [
    "## Préparer l'importation\n",
    "Avant d'importer un fichier de données, il est important :\n",
    "* de le localiser (cf. supra)\n",
    "* de l'ouvrir pour regarder la forme du fichier (_pyzo permet en général d'ouvrir un fichier texte contenant des données_)\n",
    "\n",
    "Un fichier de données expérimentales contient en général :\n",
    "1. (Facultatif) un en-tête décrivant les données expérimentales recueillies (expérience réalisée et conditions expérimentales, date, ...)\n",
    "2. Un tableau de valeurs avec \n",
    "\t* une ligne (ou plusieurs) d'en-tête donnant les grandeurs mesurées et leur unité\n",
    "\t* des lignes contenant les données expérimentales\n",
    "\t* sur une ligne, chaque donnée (chaque \"colonne\") est séparée par un séparateur (`,` ou `;`)\n",
    "\n",
    "Pour préparer l'importation, il est important de vérifier le nombre de lignes de commentaires (elles ne seront pas importées), la ligne titre qui donne l'ordre des grandeurs mesurées, l'unité... et le séparateur utilisé. Dans [l'exemple ci-après](donnees_exp), on observe :\n",
    "* 6 lignes de commentaires et une ligne d'en-tête\n",
    "* les mesures dans l'ordre : Température en Kelvin, Pression en bar, Volume en $cm^3$ puis un entier représentant l'état du système (Liquide, Gaz, Liquide+Gaz, Fluide supercritique).\n",
    "* Une séparation des colonnes par des `,`\n",
    "\n",
    "```{figure} ./images/fichier_donnees.png\n",
    ":name: donnees_exp\n",
    ":align: center\n",
    "Exemple de fichier de données affichés dans Pyzo\n",
    "```"
   ]
  },
  {
   "cell_type": "markdown",
   "id": "a5adbfc1",
   "metadata": {},
   "source": [
    "## Importation dans Python\n",
    "```{margin}\n",
    "Il existe d'autres fonctions d'importation comme `fromfile` qui ne sont pas présentée ici pour ne pas alourdir la présentation.\n",
    "```"
   ]
  },
  {
   "cell_type": "markdown",
   "id": "a42afcbc",
   "metadata": {},
   "source": [
    "### Syntaxe\n",
    "La bibliothèque `numpy` propose la fonction `loadtxt` qui permet d'importer des données __numériques__ dans un tableau numpy. Sa signature est :\n",
    "\n",
    "```{code-block}\n",
    "loadtxt('chemin_vers_fichier', skiprows=3, delimiter=',', usecols=(0, 1, 4), unpack=False)\n",
    "```\n",
    "Il renvoie un tableau numpy.\n",
    "\n",
    "* `'chemin_vers_fichier'` est __une chaine de caractère__ (entre `\"\"` donc) donnant le chemin (relatif ou absolu) vers le fichier à lire\n",
    "* `skiprows=3` donne le nombre de ligne au début du fichier à sauter (commentaires et ligne de titre)\n",
    "* `delimiter=','` est le caractère (ne pas oublier les `''`autour de la virgule) qui sépare les colonnes dans le fichier de données.\n",
    "* `usecols=(0, 1, 4)` indique les colonnes à importer. Cet argument est __optionnel__, si rien n'est donné, toutes les colonnes sont importées.\n",
    "```{margin}\n",
    "* Si vous voulez importer une seul colonne, utiliser la syntaxe `usecols=3`. Vous obtiendrez alors un vecteur numpy.\n",
    "* L'indice des colonnes commence à 0 comme pour un tableau numpy.\n",
    "```\n",
    "* `unpack`: (Optionnel). \n",
    "\t* `False` (par défaut), la fonction renvoie les données sous forme de tableau numpy avec la même structure que dans le fichier. \n",
    "\t* `True`, renvoie les données sous plusieurs variables (vecteurs numpy) et chaque variable contient une colonne\n",
    "* _D'autres arguments optionnels existent mais ils ont moins d'utilité._\n",
    "\n",
    "```{attention}\n",
    "L'importation ne pourra fonctionner que si le tableau de données expérimentales est bien formé, c'est-à-dire si chaque ligne de données possède le même nombre de colonnes.\n",
    "```"
   ]
  },
  {
   "cell_type": "markdown",
   "id": "7c155965",
   "metadata": {},
   "source": [
    "### Exemple\n",
    "Le script suivant est dans un fichier. Les données précédentes sont situées dans le fichier `Sf6/sf6.dat`.\n",
    "\n",
    "```{dropdown} C'est un chemin...\n",
    "... relatif par rapport au fichier où se trouve le script.\n",
    "```"
   ]
  },
  {
   "cell_type": "code",
   "execution_count": 1,
   "id": "3e314711",
   "metadata": {
    "tags": [
     "output_scroll"
    ]
   },
   "outputs": [
    {
     "name": "stdout",
     "output_type": "stream",
     "text": [
      "Tableau complet : \n",
      "[[15.1    7.5    4.     0.   ]\n",
      " [15.1    7.75   3.8    0.   ]\n",
      " [15.1    8.     3.6    0.   ]\n",
      " ...\n",
      " [45.6   38.5    0.25   3.   ]\n",
      " [45.6   39.75   0.2    3.   ]\n",
      " [45.6   44.     0.175  3.   ]]\n",
      "Première colonne du tableau :\n",
      "[15.1 15.1 15.1 15.1 15.1 15.1 15.1 15.1 15.1 15.1 15.1 15.1 15.1 15.1\n",
      " 15.1 15.1 15.1 15.1 15.1 15.1 15.1 15.1 15.1 15.1 15.1 15.1 15.1 15.1\n",
      " 15.1 15.1 15.1 15.1 15.1 15.1 15.1 15.1 15.1 20.1 20.1 20.1 20.1 20.1\n",
      " 20.1 20.1 20.1 20.1 20.1 20.1 20.1 20.1 20.1 20.1 20.1 20.1 20.1 20.1\n",
      " 20.1 20.1 20.1 20.1 20.1 20.1 20.1 20.1 20.1 20.1 20.1 20.1 20.1 20.1\n",
      " 20.1 20.1 20.1 20.1 20.1 24.8 24.8 24.8 24.8 24.8 24.8 24.8 24.8 24.8\n",
      " 24.8 24.8 24.8 24.8 24.8 24.8 24.8 24.8 24.8 24.8 24.8 24.8 24.8 24.8\n",
      " 24.8 24.8 24.8 24.8 24.8 24.8 24.8 24.8 24.8 24.8 24.8 24.8 24.8 24.8\n",
      " 24.8 24.8 24.8 30.  30.  30.  30.  30.  30.  30.  30.  30.  30.  30.\n",
      " 30.  30.  30.  30.  30.  30.  30.  30.  30.  30.  30.  30.  30.  30.\n",
      " 30.  30.  30.  30.  30.  30.  30.  30.  30.  30.  30.  30.  30.  30.\n",
      " 30.  35.  35.  35.  35.  35.  35.  35.  35.  35.  35.  35.  35.  35.\n",
      " 35.  35.  35.  35.  35.  35.  35.  35.  35.  35.  35.  35.  35.  35.\n",
      " 35.  35.  35.  35.  35.  35.  35.  35.  35.  35.  35.  35.  35.  35.\n",
      " 35.  35.  35.  35.  35.  40.  40.  40.  40.  40.  40.  40.  40.  40.\n",
      " 40.  40.  40.  40.  40.  40.  40.  40.  40.  40.  40.  40.  40.  40.\n",
      " 40.  40.  40.  40.  40.  40.  40.  40.  40.  40.  40.  40.  40.  40.\n",
      " 40.  40.  40.  40.  40.  40.  40.  40.  40.  45.6 45.6 45.6 45.6 45.6\n",
      " 45.6 45.6 45.6 45.6 45.6 45.6 45.6 45.6 45.6 45.6 45.6 45.6 45.6 45.6\n",
      " 45.6 45.6 45.6 45.6 45.6 45.6 45.6 45.6 45.6 45.6 45.6 45.6 45.6 45.6\n",
      " 45.6 45.6 45.6 45.6 45.6 45.6 45.6 45.6 45.6 45.6 45.6 45.6 45.6 45.6\n",
      " 45.6 45.6]\n",
      "Vecteur de pressions :\n",
      "[ 7.5   7.75  8.    8.5   9.    9.5   9.75 10.   10.5  11.   11.5  12.\n",
      " 12.5  13.   13.5  14.   14.5  15.   15.5  16.   16.5  17.   17.5  18.\n",
      " 18.5  19.   19.   19.   19.1  19.1  19.1  19.1  19.1  19.25 19.5  20.\n",
      " 39.    7.5   8.    8.5   9.    9.5  10.   10.5  11.   11.5  12.   12.5\n",
      " 13.   13.5  14.   14.5  15.   15.5  16.   16.5  17.   17.5  18.   18.5\n",
      " 19.   19.5  20.   20.5  21.   21.5  21.5  21.5  21.5  21.5  21.5  21.75\n",
      " 22.   23.   37.    7.75  8.    8.5   9.    9.5  10.   10.5  11.   11.5\n",
      " 12.   12.5  13.   13.5  14.   14.5  15.   15.5  16.   16.5  17.   17.5\n",
      " 18.   18.5  19.   19.5  20.   20.5  21.   21.75 22.25 23.   23.5  24.\n",
      " 24.   24.   24.   24.25 24.5  25.   28.    8.    8.5   9.    9.5  10.\n",
      " 10.5  11.   11.5  12.   12.5  13.   13.5  14.   14.5  15.   15.5  16.\n",
      " 16.5  17.   17.5  18.   18.5  19.   19.5  20.   20.5  21.5  22.   22.5\n",
      " 23.5  24.5  25.   26.   26.75 27.   27.   27.   27.   28.   30.5   8.\n",
      "  8.5   9.    9.5  10.   10.5  11.   11.5  12.   12.5  13.   13.5  14.\n",
      " 14.5  15.   15.5  16.   16.5  17.   17.5  18.   18.5  19.   19.5  20.\n",
      " 21.25 21.5  22.   22.5  23.25 24.   24.5  25.5  26.25 27.25 28.   29.\n",
      " 29.5  30.25 30.25 30.25 30.5  30.75 31.   31.5  40.    8.5   9.    9.5\n",
      " 10.   10.5  11.   11.5  12.   12.5  13.   13.5  14.   14.5  15.   15.5\n",
      " 16.   16.5  17.   17.5  18.   18.5  19.25 20.   20.75 21.5  22.   22.5\n",
      " 23.25 24.   24.75 25.5  26.25 27.25 28.25 29.   30.   31.   32.   32.75\n",
      " 33.5  33.5  33.5  33.75 34.   35.   38.    8.5   9.    9.5  10.   10.5\n",
      " 11.   11.5  12.   12.5  13.   13.5  14.   14.5  15.   15.5  16.   16.5\n",
      " 17.   17.5  18.   18.5  19.   19.75 20.25 20.75 21.5  22.   22.75 23.25\n",
      " 24.   24.75 25.5  26.5  27.5  28.5  29.5  30.25 31.5  32.5  33.5  35.\n",
      " 35.75 36.75 37.5  38.   38.5  38.5  39.75 44.  ]\n",
      "Vecteur des volumes :\n",
      "[4.    3.8   3.6   3.4   3.2   3.    2.9   2.8   2.65  2.5   2.35  2.25\n",
      " 2.15  2.    1.9   1.85  1.75  1.65  1.6   1.5   1.45  1.4   1.35  1.25\n",
      " 1.2   1.15  1.1   1.    0.9   0.8   0.7   0.6   0.4   0.3   0.2   0.15\n",
      " 0.125 4.    3.8   3.5   3.25  3.05  2.9   2.75  2.6   2.45  2.35  2.2\n",
      " 2.1   2.    1.9   1.85  1.75  1.65  1.6   1.55  1.45  1.4   1.35  1.3\n",
      " 1.25  1.2   1.15  1.1   1.05  1.    0.9   0.8   0.7   0.6   0.4   0.3\n",
      " 0.2   0.15  0.125 4.    3.8   3.55  3.35  3.15  2.95  2.8   2.65  2.5\n",
      " 2.4   2.35  2.15  2.05  1.95  1.9   1.8   1.725 1.65  1.6   1.5   1.45\n",
      " 1.4   1.35  1.3   1.25  1.2   1.15  1.1   1.05  1.    0.95  0.9   0.85\n",
      " 0.8   0.7   0.6   0.5   0.3   0.2   0.15  3.9   3.65  3.4   3.2   3.1\n",
      " 2.9   2.75  2.6   2.45  2.35  2.225 2.15  2.05  1.95  1.85  1.8   1.7\n",
      " 1.65  1.6   1.5   1.45  1.4   1.35  1.3   1.25  1.2   1.15  1.1   1.05\n",
      " 1.    0.9   0.85  0.8   0.75  0.7   0.6   0.5   0.4   0.2   0.15  4.\n",
      " 3.75  3.5   3.3   3.1   2.95  2.8   2.65  2.5   2.4   2.3   2.2   2.1\n",
      " 2.    1.9   1.85  1.75  1.7   1.65  1.575 1.5   1.45  1.4   1.35  1.3\n",
      " 1.25  1.2   1.15  1.1   1.05  1.    0.95  0.9   0.85  0.8   0.75  0.7\n",
      " 0.65  0.6   0.5   0.4   0.35  0.25  0.2   0.175 0.15  3.8   3.55  3.35\n",
      " 3.15  3.    2.95  2.7   2.6   2.45  2.35  2.25  2.15  2.1   2.    1.9\n",
      " 1.825 1.75  1.7   1.65  1.575 1.5   1.45  1.35  1.3   1.25  1.2   1.15\n",
      " 1.1   1.05  1.    0.95  0.9   0.85  0.8   0.75  0.7   0.65  0.6   0.55\n",
      " 0.5   0.4   0.35  0.3   0.25  0.2   0.15  3.95  3.65  3.45  3.25  3.1\n",
      " 2.95  2.8   2.65  2.5   2.4   2.3   2.2   2.1   2.    1.95  1.875 1.8\n",
      " 1.75  1.7   1.6   1.55  1.5   1.45  1.4   1.35  1.3   1.25  1.2   1.15\n",
      " 1.1   1.05  1.    0.95  0.9   0.85  0.8   0.75  0.7   0.65  0.6   0.55\n",
      " 0.5   0.45  0.4   0.35  0.3   0.25  0.2   0.175]\n"
     ]
    }
   ],
   "source": [
    "import numpy as np  # On n'oublie pas d'importer numpy\n",
    "\n",
    "nom_fichier = \"Sf6/sf6.dat\"  # Bien penser aux \"\" car ce doit être une chaine de caractère\n",
    "\n",
    "\"\"\"Importation complète sous forme de tableau\"\"\"\n",
    "datas1 = np.loadtxt(nom_fichier, skiprows=7, delimiter=',')  # Il y a bien 6 lignes de commentaires et une ligne de titre.\n",
    "print(\"Tableau complet : \")\n",
    "print(datas1)  # Le tableau étant volumineux, Python n'en affiche qu'une partie.\n",
    "\n",
    "print(\"Première colonne du tableau :\")\n",
    "print(datas1[:, 0])  # On peut extraire une colonne, ici la colonne des températures.\n",
    "\n",
    "\n",
    "\"\"\"Importation complète avec un vecteur par colonne\"\"\"\n",
    "T, P, V, Etat = np.loadtxt(nom_fichier, skiprows=7, delimiter=',', unpack=True)  # On récupère ainsi des vecteurs séparés\n",
    "\n",
    "print(\"Vecteur de pressions :\")\n",
    "print(P)  # Vecteur des données de Pression en bar\n",
    "\n",
    "\n",
    "\"\"\"Importation partielle d'une colonne\n",
    "Il est déconseillé, pour des raison d'efficacité d'importer une à une les colonnes si vous les voulez toutes.\n",
    "\"\"\"\n",
    "V1 = np.loadtxt(nom_fichier, skiprows=7, delimiter=',', usecols=2)  # On importe la colonne d'indice 2, soit les volumes\n",
    "\n",
    "print(\"Vecteur des volumes :\")\n",
    "print(V1)  # Vecteur de données de Volume en m^3"
   ]
  },
  {
   "cell_type": "markdown",
   "id": "83f4ceec",
   "metadata": {},
   "source": [
    "## Sauvegarder des données depuis Python\n",
    "Vous l'utiliserez peut-être moins souvent, mais vous pouvez sauvegarder un tableau numpy dans un fichier avec `savetxt` de la bibliothèque `numpy` :\n",
    "\n",
    "```{code-block}\n",
    "np.savetxt(nom_fichier, tableau_a_sauver, delimiter=',', comments='', header='')\n",
    "```\n",
    "\n",
    "* `comments` : Commentaires à ajouter au début du fichier\n",
    "* `header` : Chain de caractère ajoutant une ligne d'en-tête (par exemple `\"T(K),P(bar),V(m^3)\"`)"
   ]
  }
 ],
 "metadata": {
  "jupytext": {
   "encoding": "# -*- coding: utf-8 -*-",
   "formats": "ipynb,md:myst",
   "split_at_heading": true,
   "text_representation": {
    "extension": ".md",
    "format_name": "myst",
    "format_version": 0.13,
    "jupytext_version": "1.10.3"
   }
  },
  "kernelspec": {
   "display_name": "Python 3",
   "language": "python",
   "name": "python3"
  },
  "language_info": {
   "codemirror_mode": {
    "name": "ipython",
    "version": 3
   },
   "file_extension": ".py",
   "mimetype": "text/x-python",
   "name": "python",
   "nbconvert_exporter": "python",
   "pygments_lexer": "ipython3",
   "version": "3.7.12"
  },
  "source_map": [
   15,
   21,
   27,
   37,
   55,
   73,
   98,
   105,
   132,
   141,
   173
  ]
 },
 "nbformat": 4,
 "nbformat_minor": 5
}