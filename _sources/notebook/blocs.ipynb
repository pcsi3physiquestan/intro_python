{
 "cells": [
  {
   "cell_type": "markdown",
   "id": "6418e945",
   "metadata": {},
   "source": [
    "# Fonctions, conditions boucles\n",
    "\n",
    "L'utilisation de fichiers pour écrire son écrire permet facilement de créer des __blocs__ d'instructions qui vont avoir un comportement particulier :\n",
    "* les __fonctions__ qui enregistrent une série d'instructions à partir de certains données (arguments) et qui pourront être utilisées et réutilisées ultérieurement.\n",
    "* les __structures conditionnelles__ qui permet au programme d'adapter l'instruction à réaliser en fonction d'une condition.\n",
    "* les __boucles__ qui permettent de répéter plusieurs fois les mêmes instructions.\n",
    "\n",
    "En Python, on rappelle que __toutes les instructions d'un même bloc doivent être indentés avec le même décalage__.\n",
    "\n",
    "```{code-block}\n",
    "\"\"\"La structure d'un bloc sera donc : \"\"\"\n",
    "declaration_du_bloc:  # Les : sont obligatoires. Python renverra une erreur sinon.\n",
    "    a = 1  # On observe l'indentation : début du bloc\n",
    "    b = a\n",
    "    c = b * a  # On est toujours dans le bloc\n",
    "\n",
    "a = 23  # Cette instruction n'est plus dans le bloc.\n",
    "```\n",
    "\n",
    "```{margin}\n",
    "N'hésitez à sautez des lignes avant et après un bloc pour plus de lisibilité.\n",
    "\n",
    "```"
   ]
  }
 ],
 "metadata": {
  "jupytext": {
   "encoding": "# -*- coding: utf-8 -*-",
   "formats": "ipynb,md:myst",
   "split_at_heading": true,
   "text_representation": {
    "extension": ".md",
    "format_name": "myst",
    "format_version": 0.13,
    "jupytext_version": "1.10.3"
   }
  },
  "kernelspec": {
   "display_name": "Python 3",
   "language": "python",
   "name": "python3"
  },
  "language_info": {
   "codemirror_mode": {
    "name": "ipython",
    "version": 3
   },
   "file_extension": ".py",
   "mimetype": "text/x-python",
   "name": "python",
   "nbconvert_exporter": "python",
   "pygments_lexer": "ipython3",
   "version": "3.7.12"
  },
  "source_map": [
   15
  ]
 },
 "nbformat": 4,
 "nbformat_minor": 5
}