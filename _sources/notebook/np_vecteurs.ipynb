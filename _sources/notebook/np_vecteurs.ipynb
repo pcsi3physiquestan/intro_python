{
 "cells": [
  {
   "cell_type": "markdown",
   "id": "involved-score",
   "metadata": {},
   "source": [
    "# Numpy : manipuler des tableaux de nombres.\n",
    "\n",
    "Les listes classiques ont plusieurs limites quand on veut faire du calcul numérique. En effet, les opérations sur les listes classiques éléments par éléments (ajouter le même nombre à tous les éléments d'une liste, sommer deux à deux les éléments de deux listes...) nécessite de créer systématiquement des boucles.\n",
    "\n",
    "C'est pourquoi on utilisera le module `numpy` qui propose un objet particulier : le __tableau numpy__ (ou _vecteur numpy_ quand il n'a qu'une dimension). Les opérations sur un tableau numpy sont __différentes des opérations sur une liste classiques__, il est important de différencier les deux pour ne pas se tromper.\n",
    "\n",
    "## Importer la bibliothèque\n",
    "\n",
    "(import-np)="
   ]
  },
  {
   "cell_type": "code",
   "execution_count": 1,
   "id": "incomplete-style",
   "metadata": {},
   "outputs": [],
   "source": [
    "import numpy as np"
   ]
  },
  {
   "cell_type": "markdown",
   "id": "skilled-dodge",
   "metadata": {},
   "source": [
    "```{admonition} Question\n",
    ":class: tip\n",
    "Pour utiliser la fonction `array` de la bibliothèque `numpy`. On utilise alors `array(...)` ou `np.array(...)` ?\n",
    "```\n",
    "\n",
    "```{dropdown} Cliquez pour avoir la réponse.\n",
    "On a importé numpy dans un espace nommé `np`, on utilisera donc la syntaxe `np.array(...)`.\n",
    "```\n",
    "\n",
    "## Créer un vecteur numpy"
   ]
  },
  {
   "cell_type": "code",
   "execution_count": 2,
   "id": "returning-serve",
   "metadata": {
    "tags": [
     "remove-input",
     "remove-output"
    ]
   },
   "outputs": [
    {
     "data": {
      "text/plain": [
       "array([ 5, 11, 15, 17, 19, 51])"
      ]
     },
     "metadata": {
      "scrapbook": {
       "mime_prefix": "",
       "name": "ex_v"
      }
     },
     "output_type": "display_data"
    },
    {
     "data": {
      "text/plain": [
       "numpy.ndarray"
      ]
     },
     "metadata": {
      "scrapbook": {
       "mime_prefix": "",
       "name": "t_v"
      }
     },
     "output_type": "display_data"
    },
    {
     "data": {
      "text/plain": [
       "array([2. , 2.5, 3. , 3.5, 4. , 4.5, 5. , 5.5])"
      ]
     },
     "metadata": {
      "scrapbook": {
       "mime_prefix": "",
       "name": "ex_v2"
      }
     },
     "output_type": "display_data"
    },
    {
     "data": {
      "text/plain": [
       "array([2. , 2.5, 3. , 3.5, 4. , 4.5, 5. , 5.5, 6. ])"
      ]
     },
     "metadata": {
      "scrapbook": {
       "mime_prefix": "",
       "name": "ex_v3"
      }
     },
     "output_type": "display_data"
    }
   ],
   "source": [
    "from myst_nb import glue\n",
    "\n",
    "y = np.polyval([2, 3], [1, 4, 6, 7, 8, 24])\n",
    "ty = type(y)\n",
    "glue(\"ex_v\", y)\n",
    "glue(\"t_v\", ty)\n",
    "\n",
    "y2 = np.arange(2, 6, 0.5)\n",
    "glue(\"ex_v2\", y2)\n",
    "\n",
    "y3 = np.linspace(2, 6, 9)\n",
    "glue(\"ex_v3\", y3)"
   ]
  },
  {
   "cell_type": "markdown",
   "id": "fewer-traffic",
   "metadata": {},
   "source": [
    "````{tabbed} D'une liste\n",
    "A partir d'une liste d'entiers ou de flottants (uniquement) :\n",
    "\n",
    "```{code-block} ipython3\n",
    "L = [1, 6, 2, 5, 3.4]  # Ne mettre QUE des nombres\n",
    "V1 = np.array(L)  # V1 est un vecteur numpy\n",
    "\n",
    "\"\"\"ou directement\"\"\"\n",
    "V1 = np.array([1, 6, 2, 5, 3.4])  #\n",
    "```\n",
    "````\n",
    "\n",
    "\n",
    "````{tabbed} arange\n",
    "_A connaître_ : `arange(start, stop, step)` est une fonction de `numpy` qui va créer une liste de _flottants_ partant de `start` (inclus) et allant jusqu'à `stop` (__exclus__) par pas de valeur `step`.\n",
    "\n",
    "`start`, `stop` et `step` peuvent être des flottants contrairement à `range`.\n",
    "\n",
    "```{code-block} ipython3\n",
    "y = np.arange(2, 6, 0.5)\n",
    "```\n",
    "`y` est un vecteur numpy contenant {glue:}`ex_v2`\n",
    "\n",
    "````\n",
    "\n",
    "````{tabbed} linspace\n",
    "_A connaître_ : `linspace(start, stop, N)` est une fonction de `numpy` qui crée un vecteur de `N` éléments réparties uniformément entre les valeurs `start` et `stop` (cette fois `stop` est inclus, il faut la compter dans les N valeurs !).\n",
    "\n",
    "```{code-block} ipython3\n",
    "y = np.linspace(2, 6, 9)\n",
    "```\n",
    "`y` est un vecteur numpy contenant {glue:}`ex_v3`\n",
    "\n",
    "````\n",
    "\n",
    "````{tabbed} zeros et ones\n",
    "_A connaître_ : `zeros(N)` est une fonction de `numpy` qui crée un vecteur de `N` éléments nuls.  \n",
    "_A connaître_ : `ones(N)` est une fonction de `numpy` qui crée un vecteur de `N` éléments tous égaux à 1.\n",
    "\n",
    "```{code-block} ipython3\n",
    "y = np.zeros(5)  # Crée un vecteur [0, 0, 0, 0, 0]\n",
    "y = np.ones(5)  # Crée un vecteur [1, 1, 1, 1, 1]\n",
    "```\n",
    "````\n",
    "\n",
    "````{tabbed} D'une fonction\n",
    "Plusieurs fonctions de la bibliothèque numpy renvoient un vecteur numpy.\n",
    "\n",
    "```{code-block} ipython3\n",
    "\"\"\" Exemple : La fonction suivante evalue le polynome \n",
    "p(x) = 2 + 3x (éléments du premièr argument [2, 3])\n",
    "pour les valeurs de la liste [1, 4, 6, 7, 8, 24] (deuxième argument)\n",
    "\"\"\"\n",
    "y = np.polyval([2, 3], [1, 4, 6, 7, 8, 24])\n",
    "\n",
    "```\n",
    "\n",
    "`y` est un vecteur numpy contenant {glue:}`ex_v`\n",
    "\n",
    "````\n",
    "\n",
    "```{margin}\n",
    "La fonction `type(y)` renverra {glue:}`t_v`.\n",
    "```\n",
    "\n",
    "\n",
    "## Opérations sur les vecteurs numpy\n",
    "\n",
    "### Opérations générales\n",
    "`numpy` permet de faire des opérations classiques : `+, -, /, *`\n",
    "*  __termes à termes__ entre deux vecteurs (_Il faut que les deux vecteurs aient la même taille_)\n",
    "* __appliqué à chaque élément d'un vecteur__ entre un vecteur et une valeur seule (un _scalaire_) (cf. exemple ci-dessous)\n",
    "\n",
    "\n",
    "```{attention}\n",
    "L'opérateur `+`  na pas la même fonction que pour des listes classiques.\n",
    "```"
   ]
  },
  {
   "cell_type": "code",
   "execution_count": 3,
   "id": "illegal-period",
   "metadata": {
    "tags": [
     "hide-output"
    ]
   },
   "outputs": [
    {
     "name": "stdout",
     "output_type": "stream",
     "text": [
      "[3 5 7 9]\n",
      "[ 2  6 12 20]\n",
      "[-1 -1 -1 -1]\n",
      "[0.5        0.66666667 0.75       0.8       ]\n",
      "[4. 4. 4. 4. 4.]\n"
     ]
    }
   ],
   "source": [
    "\"\"\"Essayer de prévoir ce que va afficher chaque print puis afficher le résultat (croix à droite en bas)\"\"\"\n",
    "\n",
    "V1 = np.array([1, 2, 3, 4])\n",
    "V2 = np.array([2, 3, 4, 5])\n",
    "\n",
    "print(V1 + V2)\n",
    "print(V1 * V2)\n",
    "print(V1 - V2)\n",
    "print(V1 / V2)\n",
    "\n",
    "V3 = np.ones(5) * 4  # Méthode très utile\n",
    "print(V3)"
   ]
  },
  {
   "cell_type": "markdown",
   "id": "impressed-albany",
   "metadata": {},
   "source": [
    "### Fonctions mathématiques usuelles.\n",
    "`numpy` permet de _vectorialiser_ les fonctions usuelles (sin, cos, tan, exp, log...), c'est-à-dire de les appliquer sur chaque élément d'un vecteur numpy.\n",
    "\n",
    "```{attention}\n",
    "Attention : ces fonctions sont dans la bibliothèque `numpy`, pas la bibliothèque `math`. Si `numpy` est importé dans un espace nommé (`np` par exemple), il faut utiliser : `np.sin, np.cos, np.tan, np.exp, np.log,...`\n",
    "\n",
    "```"
   ]
  },
  {
   "cell_type": "code",
   "execution_count": 4,
   "id": "organized-israel",
   "metadata": {
    "tags": [
     "hide-output"
    ]
   },
   "outputs": [
    {
     "name": "stdout",
     "output_type": "stream",
     "text": [
      "[0.   0.25 0.5  0.75 1.  ]\n",
      "[0.00000000e+00 5.00000000e-01 8.66025404e-01 1.00000000e+00\n",
      " 1.22464680e-16]\n",
      "[ 1.00000000e+00  8.66025404e-01  5.00000000e-01  6.12323400e-17\n",
      " -1.00000000e+00]\n",
      "[ 0.00000000e+00  5.77350269e-01  1.73205081e+00  1.63312394e+16\n",
      " -1.22464680e-16]\n",
      "[1.         1.28402542 1.64872127 2.11700002 2.71828183]\n",
      "[       -inf -1.38629436 -0.69314718 -0.28768207  0.        ]\n"
     ]
    },
    {
     "name": "stderr",
     "output_type": "stream",
     "text": [
      "<ipython-input-4-fefa57ba8fc7>:13: RuntimeWarning: divide by zero encountered in log\n",
      "  print(np.log(V2))  # on écrit log mais il s'agit de la fonction ln classique.\n"
     ]
    }
   ],
   "source": [
    "\"\"\"Essayer de prévoir ce que va afficher chaque print puis afficher le résultat (croix à droite en bas)\n",
    "np.pi est une variable de la bibliothèque numpy égale à pi\n",
    "\"\"\"\n",
    "\n",
    "V1 = np.array([0, np.pi / 6, np.pi / 3, np.pi / 2, np.pi])\n",
    "V2 = np.linspace(0, 1, 5)  \n",
    "\n",
    "print(V2)\n",
    "print(np.sin(V1))\n",
    "print(np.cos(V1))\n",
    "print(np.tan(V1))\n",
    "print(np.exp(V2))\n",
    "print(np.log(V2))  # on écrit log mais il s'agit de la fonction ln classique."
   ]
  },
  {
   "cell_type": "markdown",
   "id": "irish-observation",
   "metadata": {},
   "source": [
    "### Concaténation, ajout d'une valeur\n",
    "\n",
    "```{attention}\n",
    "Les vecteurs `numpy` sont __de taille fixe__. On ne peut pas changer leur taille avec la méthode classique `append`.\n",
    "```\n",
    "\n",
    "Il existe par contre une fonction __dans le module `numpy`__ qui s'appelle `append` (il faut suivre...) qu'on appellera donc ici `np.append` (cf. l'[importation](import-np)). __Cette fonction ne modifie pas le vecteur initial mais crée un nouveau vecteur qu'il va falloir enregistrer dans une variable__."
   ]
  },
  {
   "cell_type": "code",
   "execution_count": 5,
   "id": "interior-imaging",
   "metadata": {},
   "outputs": [
    {
     "name": "stdout",
     "output_type": "stream",
     "text": [
      "[1 2 3]\n",
      "[1 2 3 4]\n",
      "[1 2 3 1 2 3 4]\n"
     ]
    }
   ],
   "source": [
    "V1 = np.array([1, 2, 3])\n",
    "\n",
    "V2 = np.append(V1, 4)  # On ajoute la valeur 4\n",
    "print(V1)  # V1 est toujours array([1, 2, 3])\n",
    "print(V2)  # V2 est array([1, 2, 3, 4])\n",
    "\n",
    "V3 = np.append(V1, V2)  # On peut aussi concatener deux vecteurs numpy.\n",
    "print(V3)"
   ]
  },
  {
   "cell_type": "markdown",
   "id": "received-approval",
   "metadata": {},
   "source": [
    "### Sélection d'une partie d'un vecteur numpy\n",
    "Le principe est le même que pour la sélection d'une partie d'une liste. Si on sélectionne un seul élément, ce sera un entier ou un flottant. Si on sélectionne plusieurs éléments, ce sera un vecteur numpy.\n",
    "\n",
    "## Créer un tableau numpy\n",
    "On peut créer un tableau `numpy` à 2 dimensions. C'est très utile pour traiter des données expérimentales. \n",
    "\n",
    "````{tabbed} D'une liste de liste\n",
    "On utilise à nouveau `array`. Attention : Le tableau doit être rectangulaire (ou carré) : les lignes doivent avoir toutes le même nombre d'éléments.\n",
    "\n",
    "```{code-block} ipython3\n",
    "L = [[2.3, 2.5], [3.14, 3.16]]  # Ne mettre QUE des nombres\n",
    "V1 = np.array(L)  # V1 est un tableau numpy\n",
    "\n",
    "\"\"\"ou directement\"\"\"\n",
    "V1 = np.array([[2.3, 2.5], [3.14, 3.16]])  # Note : on entre le tableau ligne par ligne\n",
    "```\n",
    "````\n",
    "\n",
    "````{tabbed} zeros() et ones()\n",
    "A connaître : `zeros((N, m))` est une fonction de `numpy` qui crée un tableau de `N` éléments par `m` éléments nuls.\n",
    "A connaître : `ones((N, m))` est une fonction de `numpy` qui crée un tableau de `N` éléments par `m` éléments tous égaux à 1.\n",
    "\n",
    "```{margin}\n",
    "La double parenthèse est importante : il y a un seul argument (5, 3) (on parle de _tuple_) et non deux arguments 5 et 3.\n",
    "```\n",
    "\n",
    "\n",
    "```{code-block} ipython3\n",
    "y = np.zeros((5, 3))  # Crée un tableau de 0 contenant 5 lignes et 3 colonnes\n",
    "y2 = np.ones((5, 3))  # Crée un tableau de 1 contenant 5 lignes et 3 colonnes\n",
    "```\n",
    "````\n",
    "\n",
    "## Manipuler un tableau numpy.\n",
    "\n",
    "La manipulation des tableaux numpy est plus délicate que les vecteurs. Une [présentation](tableau_numpy) est proposée pour ceux qui se sentent à l'aise avec le concept de vecteurs.\n",
    "\n",
    "On pourra déjà retenir que les opérations terme à terme sont réalisable aussi avec deux tableaux de même taille.\n",
    "\n",
    "## Fonctions de la bibliothèque\n",
    "`numpy` embarque de nombreuses fonctions très utiles qui seront présentées durant l'année. Vous apprendrez ainsi la syntaxe associée à ces fonctions au fur et à mesure. Citons à titre d'exemple :\n",
    "* `polyfit` :  Permet l'ajustement d'un modèle (linéaire en général)\n",
    "* Sous-module `random` : contient plusieurs fonctions permettant des tirages aléatoires (`uniform`, `normal`) : utile pour les simulations de Monte-Carlo en physique-chimie."
   ]
  }
 ],
 "metadata": {
  "jupytext": {
   "encoding": "# -*- coding: utf-8 -*-",
   "formats": "ipynb,md:myst",
   "split_at_heading": true,
   "text_representation": {
    "extension": ".md",
    "format_name": "myst",
    "format_version": 0.13,
    "jupytext_version": "1.10.3"
   }
  },
  "kernelspec": {
   "display_name": "Python 3",
   "language": "python",
   "name": "python3"
  },
  "language_info": {
   "codemirror_mode": {
    "name": "ipython",
    "version": 3
   },
   "file_extension": ".py",
   "mimetype": "text/x-python",
   "name": "python",
   "nbconvert_exporter": "python",
   "pygments_lexer": "ipython3",
   "version": "3.9.2"
  },
  "source_map": [
   15,
   26,
   28,
   41,
   56,
   138,
   153,
   163,
   179,
   189,
   198
  ]
 },
 "nbformat": 4,
 "nbformat_minor": 5
}