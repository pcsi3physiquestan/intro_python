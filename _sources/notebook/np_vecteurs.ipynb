{
 "cells": [
  {
   "cell_type": "markdown",
   "id": "sapphire-narrative",
   "metadata": {},
   "source": [
    "# Numpy : manipuler des tableaux de nombres.\n",
    "\n",
    "Les listes classiques ont plusieurs limites quand on veut faire du calcul numérique. En effet, les opérations sur les listes classiques éléments par éléments (ajouter le même nombre à tous les éléments d'une liste, sommer deux à deux les éléments de deux listes...) nécessite de créer systématiquement des boucles.\n",
    "\n",
    "C'est pourquoi on utilisera le module `numpy` qui propose un objet particulier : le __tableau numpy__ (ou _vecteur numpy_ qu'on il n'a qu'une dimension). Les opérations sur un tableau numpy sont __différentes des opérations sur une liste classiques__, il est important de différencier les deux pour ne pas se tromper.\n",
    "\n",
    "## Importer la bibliothèque\n",
    "\n",
    "(import-np)="
   ]
  },
  {
   "cell_type": "code",
   "execution_count": 1,
   "id": "median-sheep",
   "metadata": {},
   "outputs": [],
   "source": [
    "import numpy as np"
   ]
  },
  {
   "cell_type": "markdown",
   "id": "rapid-scott",
   "metadata": {},
   "source": [
    "```{admonition} Question\n",
    ":class: tip\n",
    "Pour utiliser la fonction `array` de la bibliothèque `numpy`. On utilise alors `array(...)` ou `np.array(...)` ?\n",
    "```\n",
    "\n",
    "```{dropdown} Cliquez pour avoir la réponse.\n",
    "On a importé numpy dans un espace nommé `np`, on utilisera donc la syntaxe `np.array(...)`.\n",
    "```\n",
    "\n",
    "## Créer un vecteur numpy"
   ]
  },
  {
   "cell_type": "code",
   "execution_count": 2,
   "id": "unique-sender",
   "metadata": {
    "tags": [
     "remove-input",
     "remove-output"
    ]
   },
   "outputs": [
    {
     "data": {
      "text/plain": [
       "array([ 5, 11, 15, 17, 19, 51])"
      ]
     },
     "metadata": {
      "scrapbook": {
       "mime_prefix": "",
       "name": "ex_v"
      }
     },
     "output_type": "display_data"
    },
    {
     "data": {
      "text/plain": [
       "numpy.ndarray"
      ]
     },
     "metadata": {
      "scrapbook": {
       "mime_prefix": "",
       "name": "t_v"
      }
     },
     "output_type": "display_data"
    },
    {
     "data": {
      "text/plain": [
       "array([2. , 2.5, 3. , 3.5, 4. , 4.5, 5. , 5.5])"
      ]
     },
     "metadata": {
      "scrapbook": {
       "mime_prefix": "",
       "name": "ex_v2"
      }
     },
     "output_type": "display_data"
    },
    {
     "data": {
      "text/plain": [
       "array([2. , 2.5, 3. , 3.5, 4. , 4.5, 5. , 5.5, 6. ])"
      ]
     },
     "metadata": {
      "scrapbook": {
       "mime_prefix": "",
       "name": "ex_v3"
      }
     },
     "output_type": "display_data"
    }
   ],
   "source": [
    "from myst_nb import glue\n",
    "\n",
    "y = np.polyval([2, 3], [1, 4, 6, 7, 8, 24])\n",
    "ty = type(y)\n",
    "glue(\"ex_v\", y)\n",
    "glue(\"t_v\", ty)\n",
    "\n",
    "y2 = np.arange(2, 6, 0.5)\n",
    "glue(\"ex_v2\", y2)\n",
    "\n",
    "y3 = np.linspace(2, 6, 9)\n",
    "glue(\"ex_v3\", y3)"
   ]
  },
  {
   "cell_type": "markdown",
   "id": "naval-decrease",
   "metadata": {},
   "source": [
    "````{tabbed} D'une liste\n",
    "A partir d'une liste d'entiers ou de flottants (uniquement) :\n",
    "\n",
    "```{code-block} ipython3\n",
    "L = [1, 6, 2, 5, 3.4]  # Ne mettre QUE des nombres\n",
    "Ln = np.array(L)  # Ln est un vecteur numpy\n",
    "\n",
    "\"\"\"ou directement\"\"\"\n",
    "Ln = np.array([1, 6, 2, 5, 3.4])  #\n",
    "```\n",
    "````\n",
    "\n",
    "````{tabbed} D'une fonction\n",
    "Plusieurs fonctions de la bibliothèque numpy renvoient un vecteur numpy.\n",
    "\n",
    "```{code-block} ipython3\n",
    "\"\"\" Exemple : La fonction suivante evalue le polynome \n",
    "p(x) = 2 + 3x (éléments du premièr argument [2, 3])\n",
    "pour les valeurs de la liste [1, 4, 6, 7, 8, 24] (deuxième argument)\n",
    "\"\"\"\n",
    "y = np.polyval([2, 3], [1, 4, 6, 7, 8, 24])\n",
    "\n",
    "```\n",
    "\n",
    "`y` est un vecteur numpy contenant {glue:}`ex_v`\n",
    "\n",
    "````\n",
    "\n",
    "````{tabbed} arange()\n",
    "A connaître : `arange(start, stop, step)` est une fonction de `numpy` similaire à `range` mais qui produit un tableau numpy. Elle peut aussi utiliser un pas non entier. _La valeur `stop` est exclus comme pour `range`_.\n",
    "\n",
    "```{code-block} ipython3\n",
    "y = np.arange(2, 6, 0.5)\n",
    "```\n",
    "`y` est un vecteur numpy contenant {glue:}`ex_v2`\n",
    "\n",
    "````\n",
    "\n",
    "````{tabbed} linspace()\n",
    "A connaître : `linspace(start, stop, N)` est une fonction de `numpy` qui crée un vecteur de `N` éléments réparties uniformément entre les valeurs `start` et `stop` (cette fois `stop` est inclus, il faut la compter dans les N valeurs !).\n",
    "\n",
    "```{code-block} ipython3\n",
    "y = np.linspace(2, 6, 9)\n",
    "```\n",
    "`y` est un vecteur numpy contenant {glue:}`ex_v3`\n",
    "\n",
    "````\n",
    "\n",
    "````{tabbed} zeros()\n",
    "A connaître : `zeros(N)` est une fonction de `numpy` qui crée un vecteur de `N` éléments nuls.  \n",
    "A connaître : `ones(N)` est une fonction de `numpy` qui crée un vecteur de `N` éléments tous égaux à 1.\n",
    "\n",
    "```{code-block} ipython3\n",
    "y = np.zeros(5)  # Crée un vecteur [0, 0, 0, 0, 0]\n",
    "y = np.ones(5)  # Crée un vecteur [1, 1, 1, 1, 1]\n",
    "```\n",
    "````\n",
    "\n",
    "```{margin}\n",
    "La fonction `type(y)` renverra {glue:}`t_v`.\n",
    "```\n",
    "\n",
    "\n",
    "## Opérations sur les vecteurs numpy\n",
    "\n",
    "### Opérations générales\n",
    "`numpy` permet de faire des opérations classiques : `+, -, /, *`\n",
    "*  __termes à termes__ entre deux vecteurs\n",
    "* __appliqué à chaque de la liste__ entre un vecteur et une valeur seule (un _scalaire_) (cf. exemple ci-dessous)\n",
    "\n",
    "```{attention}\n",
    "L'opérateur `+`  na pas la même fonction que pour des listes classiques.\n",
    "```"
   ]
  },
  {
   "cell_type": "code",
   "execution_count": 3,
   "id": "round-justice",
   "metadata": {
    "tags": [
     "hide-output"
    ]
   },
   "outputs": [
    {
     "name": "stdout",
     "output_type": "stream",
     "text": [
      "[3 5 7 9]\n",
      "[ 2  6 12 20]\n",
      "[-1 -1 -1 -1]\n",
      "[0.5        0.66666667 0.75       0.8       ]\n",
      "[4. 4. 4. 4. 4.]\n"
     ]
    }
   ],
   "source": [
    "\"\"\"Essayer de prévoir ce que va afficher chaque print puis afficher le résultat (croix à droite en bas)\"\"\"\n",
    "\n",
    "L1 = np.array([1, 2, 3, 4])\n",
    "L2 = np.array([2, 3, 4, 5])\n",
    "\n",
    "print(L1 + L2)\n",
    "print(L1 * L2)\n",
    "print(L1 - L2)\n",
    "print(L1 / L2)\n",
    "\n",
    "L3 = np.ones(5) * 4  # Méthode très utile\n",
    "print(L3)"
   ]
  },
  {
   "cell_type": "markdown",
   "id": "quantitative-greensboro",
   "metadata": {},
   "source": [
    "### Fonctions mathématiques usuelles.\n",
    "`numpy` permet de _vectorialiser_ les fonctions usuelles (sin, cos, tan, exp, log...), c'est-à-dire de les appliquer sur chaque élément d'un vecteur numpy.\n",
    "\n",
    "```{attention}\n",
    "Attention : ces fonctions sont dans la bibliothèque `numpy`, pas la bibliothèque `math`. Si `numpy` est importé dans un espace nommé (`np` par exemple), il faut utiliser : `np.sin, np.cos, np.tan, np.exp, np.log,...`\n",
    "\n",
    "```"
   ]
  },
  {
   "cell_type": "code",
   "execution_count": 4,
   "id": "unnecessary-synthesis",
   "metadata": {
    "tags": [
     "hide-output"
    ]
   },
   "outputs": [
    {
     "name": "stdout",
     "output_type": "stream",
     "text": [
      "[0.   0.25 0.5  0.75 1.  ]\n",
      "[0.00000000e+00 5.00000000e-01 8.66025404e-01 1.00000000e+00\n",
      " 1.22464680e-16]\n",
      "[ 1.00000000e+00  8.66025404e-01  5.00000000e-01  6.12323400e-17\n",
      " -1.00000000e+00]\n",
      "[ 0.00000000e+00  5.77350269e-01  1.73205081e+00  1.63312394e+16\n",
      " -1.22464680e-16]\n",
      "[1.         1.28402542 1.64872127 2.11700002 2.71828183]\n",
      "[       -inf -1.38629436 -0.69314718 -0.28768207  0.        ]\n"
     ]
    },
    {
     "name": "stderr",
     "output_type": "stream",
     "text": [
      "<ipython-input-4-2ecb72cb8b35>:13: RuntimeWarning: divide by zero encountered in log\n",
      "  print(np.log(L2))  # on écrit log mais il s'agit de la fonction ln classique.\n"
     ]
    }
   ],
   "source": [
    "\"\"\"Essayer de prévoir ce que va afficher chaque print puis afficher le résultat (croix à droite en bas)\n",
    "np.pi est une variable de la bibliothèque numpy égale à pi\n",
    "\"\"\"\n",
    "\n",
    "L1 = np.array([0, np.pi / 6, np.pi / 3, np.pi / 2, np.pi])\n",
    "L2 = np.linspace(0, 1, 5)  \n",
    "\n",
    "print(L2)\n",
    "print(np.sin(L1))\n",
    "print(np.cos(L1))\n",
    "print(np.tan(L1))\n",
    "print(np.exp(L2))\n",
    "print(np.log(L2))  # on écrit log mais il s'agit de la fonction ln classique."
   ]
  },
  {
   "cell_type": "markdown",
   "id": "secondary-harmony",
   "metadata": {},
   "source": [
    "### Concaténation, ajout d'une valeur\n",
    "\n",
    "```{attention}\n",
    "Les vecteurs `numpy` sont __de taille fixe__. On ne peut pas changer leur taille avec la méthode classique `append`.\n",
    "```\n",
    "\n",
    "Il existe par contre une fonction __dans le module `numpy`__ qui s'appelle `append` (il faut suivre...) qu'on appellera donc ici `np.append` (cf. l'[importation](import-np)). __Cette fonction ne modifie pas le vecteur initial mais crée un nouveau vecteur qu'il va falloir enregistrer dans une variable__."
   ]
  },
  {
   "cell_type": "code",
   "execution_count": 5,
   "id": "promotional-uganda",
   "metadata": {},
   "outputs": [
    {
     "name": "stdout",
     "output_type": "stream",
     "text": [
      "[1 2 3]\n",
      "[1 2 3 4]\n",
      "[1 2 3 1 2 3 4]\n"
     ]
    }
   ],
   "source": [
    "L1 = np.array([1, 2, 3])\n",
    "\n",
    "L2 = np.append(L1, 4)  # On ajoute la valeur 4\n",
    "print(L1)  # L1 est toujours array([1, 2, 3])\n",
    "print(L2)  # L2 est array([1, 2, 3, 4])\n",
    "\n",
    "L3 = np.append(L1, L2)  # On peut aussi concatener deux vecteurs numpy.\n",
    "print(L3)"
   ]
  },
  {
   "cell_type": "markdown",
   "id": "assisted-crossing",
   "metadata": {},
   "source": [
    "### Sélection d'une partie d'un vecteur numpy\n",
    "Le principe est le même que pour la sélection d'une partie d'une liste. Si on sélectionne un seul élément, ce sera un entier ou un flottant. Si on sélectionne plusieurs éléments, ce sera un vecteur numpy.\n",
    "\n",
    "## Créer un tableau numpy\n",
    "On peut créer un tableau `numpy` à 2 dimensions. C'est très utile pour traiter des données expérimentales. \n",
    "\n",
    "````{tabbed} D'une liste de liste\n",
    "On utilise à nouveau `array`. Attention : les lignes doivent avoir toutes le même nombre d'éléments. De même pour les colonnes. Mais le tableau peut-être rectangulaire.\n",
    "\n",
    "```{code-block} ipython3\n",
    "L = [[2.3, 2.5], [3.14, 3.16]]  # Ne mettre QUE des nombres\n",
    "Ln = np.array(L)  # Ln est un tableau numpy\n",
    "\n",
    "\"\"\"ou directement\"\"\"\n",
    "Ln = np.array([[2.3, 2.5], [3.14, 3.16]])  # Note : on entre le tableau ligne par ligne\n",
    "```\n",
    "````\n",
    "\n",
    "````{tabbed} D'une fonction\n",
    "Même principe que précédemment, certaines fonctions renverront un tableau numpy.\n",
    "\n",
    "````\n",
    "\n",
    "````{tabbed} zeros() et ones()\n",
    "A connaître : `zeros((N, m))` est une fonction de `numpy` qui crée un tableau de `N` éléments par `m` éléments nuls.\n",
    "A connaître : `ones((N, m))` est une fonction de `numpy` qui crée un tableau de `N` éléments par `m` éléments tous égaux à 1.\n",
    "\n",
    "```{margin}\n",
    "La double parenthèse est importante : il y a un seul argument (5, 3) (on parle de _tuple_) et non deux argument 5 et 3.\n",
    "```\n",
    "\n",
    "\n",
    "```{code-block} ipython3\n",
    "y = np.zeros((5, 3))  # Crée un tableau de 0 contenant 5 lignes et 3 colonnes\n",
    "y2 = np.ones((5, 3))  # Crée un tableau de 1 contenant 5 lignes et 3 colonnes\n",
    "```\n",
    "````\n",
    "\n",
    "## Manipuler un tableau numpy.\n",
    "\n",
    "### Opérations usuelles et concaténation\n",
    "* Les opérations usuelles et fonctions mathématiques présentées précédemment s'appliquent à nouveau pour les tableaux numpy.\n",
    "* Concaténation : La fonction `append` doit prendre un troisième argument si on concatène deux tableaux (ou un tableau et un vecteur). L'argument `axis = `:\n",
    "    * `axis = 0` : Concaténer _verticalement_ : les deux tableaux doivent donc avec le même nombre de colonnes. Sinon Python renverra une erreur.\n",
    "    * `axis = 1` : Concaténer _horizontalement_ : les deux tableaux doivent donc avec le même nombre de lignes. Sinon Python renverra une erreur.\n",
    "    * Pas de `axis` : Python va transformer les tableaux en vecteurs et concaténer les vecteurs."
   ]
  },
  {
   "cell_type": "code",
   "execution_count": 6,
   "id": "divine-bibliography",
   "metadata": {},
   "outputs": [
    {
     "name": "stdout",
     "output_type": "stream",
     "text": [
      "[2.3  2.5  3.14 3.16 3.14 4.17 1.2  3.7  4.2  3.1 ]\n",
      "[[2.3  2.5 ]\n",
      " [3.14 3.16]\n",
      " [3.14 4.17]\n",
      " [1.2  3.7 ]\n",
      " [4.2  3.1 ]]\n"
     ]
    },
    {
     "ename": "ValueError",
     "evalue": "all the input array dimensions for the concatenation axis must match exactly, but along dimension 0, the array at index 0 has size 3 and the array at index 1 has size 2",
     "output_type": "error",
     "traceback": [
      "\u001b[0;31m--------------------------------------------------------\u001b[0m",
      "\u001b[0;31mValueError\u001b[0m             Traceback (most recent call last)",
      "\u001b[0;32m<ipython-input-6-6a2b3cf6bb19>\u001b[0m in \u001b[0;36m<module>\u001b[0;34m\u001b[0m\n\u001b[1;32m      8\u001b[0m \u001b[0mprint\u001b[0m\u001b[0;34m(\u001b[0m\u001b[0mL4\u001b[0m\u001b[0;34m)\u001b[0m\u001b[0;34m\u001b[0m\u001b[0;34m\u001b[0m\u001b[0m\n\u001b[1;32m      9\u001b[0m \u001b[0;34m\u001b[0m\u001b[0m\n\u001b[0;32m---> 10\u001b[0;31m \u001b[0mL5\u001b[0m \u001b[0;34m=\u001b[0m \u001b[0mnp\u001b[0m\u001b[0;34m.\u001b[0m\u001b[0mappend\u001b[0m\u001b[0;34m(\u001b[0m\u001b[0mL1\u001b[0m\u001b[0;34m,\u001b[0m \u001b[0mL2\u001b[0m\u001b[0;34m,\u001b[0m \u001b[0maxis\u001b[0m\u001b[0;34m=\u001b[0m\u001b[0;36m1\u001b[0m\u001b[0;34m)\u001b[0m  \u001b[0;31m# Renvoie un erreur car on ne peut placer L2 à droite de L1 : pas le même nombre de lignes\u001b[0m\u001b[0;34m\u001b[0m\u001b[0;34m\u001b[0m\u001b[0m\n\u001b[0m\u001b[1;32m     11\u001b[0m \u001b[0mprint\u001b[0m\u001b[0;34m(\u001b[0m\u001b[0mL5\u001b[0m\u001b[0;34m)\u001b[0m\u001b[0;34m\u001b[0m\u001b[0;34m\u001b[0m\u001b[0m\n",
      "\u001b[0;32m<__array_function__ internals>\u001b[0m in \u001b[0;36mappend\u001b[0;34m(*args, **kwargs)\u001b[0m\n",
      "\u001b[0;32m~/miniconda3/envs/jupybook/lib/python3.9/site-packages/numpy/lib/function_base.py\u001b[0m in \u001b[0;36mappend\u001b[0;34m(arr, values, axis)\u001b[0m\n\u001b[1;32m   4669\u001b[0m         \u001b[0mvalues\u001b[0m \u001b[0;34m=\u001b[0m \u001b[0mravel\u001b[0m\u001b[0;34m(\u001b[0m\u001b[0mvalues\u001b[0m\u001b[0;34m)\u001b[0m\u001b[0;34m\u001b[0m\u001b[0;34m\u001b[0m\u001b[0m\n\u001b[1;32m   4670\u001b[0m         \u001b[0maxis\u001b[0m \u001b[0;34m=\u001b[0m \u001b[0marr\u001b[0m\u001b[0;34m.\u001b[0m\u001b[0mndim\u001b[0m\u001b[0;34m-\u001b[0m\u001b[0;36m1\u001b[0m\u001b[0;34m\u001b[0m\u001b[0;34m\u001b[0m\u001b[0m\n\u001b[0;32m-> 4671\u001b[0;31m     \u001b[0;32mreturn\u001b[0m \u001b[0mconcatenate\u001b[0m\u001b[0;34m(\u001b[0m\u001b[0;34m(\u001b[0m\u001b[0marr\u001b[0m\u001b[0;34m,\u001b[0m \u001b[0mvalues\u001b[0m\u001b[0;34m)\u001b[0m\u001b[0;34m,\u001b[0m \u001b[0maxis\u001b[0m\u001b[0;34m=\u001b[0m\u001b[0maxis\u001b[0m\u001b[0;34m)\u001b[0m\u001b[0;34m\u001b[0m\u001b[0;34m\u001b[0m\u001b[0m\n\u001b[0m\u001b[1;32m   4672\u001b[0m \u001b[0;34m\u001b[0m\u001b[0m\n\u001b[1;32m   4673\u001b[0m \u001b[0;34m\u001b[0m\u001b[0m\n",
      "\u001b[0;32m<__array_function__ internals>\u001b[0m in \u001b[0;36mconcatenate\u001b[0;34m(*args, **kwargs)\u001b[0m\n",
      "\u001b[0;31mValueError\u001b[0m: all the input array dimensions for the concatenation axis must match exactly, but along dimension 0, the array at index 0 has size 3 and the array at index 1 has size 2"
     ]
    }
   ],
   "source": [
    "L1 = np.array([[2.3, 2.5], [3.14, 3.16], [3.14, 4.17]])\n",
    "L2 = np.array([[1.2, 3.7], [4.2, 3.1]])\n",
    "\n",
    "L3 = np.append(L1, L2)  # On aplatit les tableaux pour obtenir un vecteur.\n",
    "print(L3)\n",
    "\n",
    "L4 = np.append(L1, L2, axis=0)  # On place L2 sous L1\n",
    "print(L4)\n",
    "\n",
    "L5 = np.append(L1, L2, axis=1)  # Renvoie un erreur car on ne peut placer L2 à droite de L1 : pas le même nombre de lignes\n",
    "print(L5)"
   ]
  },
  {
   "cell_type": "markdown",
   "id": "brilliant-looking",
   "metadata": {},
   "source": [
    "### Sélection d'une partie d'un tableau.\n",
    "```{attention}\n",
    "* La méthode présentée ne fonctionne pas avec une liste de listes classique. Uniquement avec des tableaux `numpy`\n",
    "* Attention, l'__indexation commence toujours à 0__\n",
    "```\n",
    "\n",
    "#### Sélection d'un élément."
   ]
  },
  {
   "cell_type": "code",
   "execution_count": 7,
   "id": "impaired-remains",
   "metadata": {},
   "outputs": [
    {
     "name": "stdout",
     "output_type": "stream",
     "text": [
      "4.17\n"
     ]
    },
    {
     "data": {
      "text/plain": [
       "'\\n2 : sélection de la troisième ligne\\n1 : sélection de la deuxième colonne\\n\\nOn affiche donc 4.17\\n'"
      ]
     },
     "execution_count": 7,
     "metadata": {},
     "output_type": "execute_result"
    }
   ],
   "source": [
    "L1 = np.array([[2.3, 2.5], [3.14, 3.16], [3.14, 4.17]])\n",
    "print(L1[2, 1])\n",
    "\"\"\"\n",
    "2 : sélection de la troisième ligne\n",
    "1 : sélection de la deuxième colonne\n",
    "\n",
    "On affiche donc 4.17\n",
    "\"\"\""
   ]
  },
  {
   "cell_type": "markdown",
   "id": "heard-machinery",
   "metadata": {},
   "source": [
    "#### Sélection d'une portion d'un tableau\n",
    "```{margin}\n",
    "On rappelle que L1[1:3] sélectionne jusqu'à l'index 3 (quatrième élément ) __non inclus__.\n",
    "```"
   ]
  },
  {
   "cell_type": "code",
   "execution_count": 8,
   "id": "economic-player",
   "metadata": {},
   "outputs": [
    {
     "name": "stdout",
     "output_type": "stream",
     "text": [
      "Première sélection [[ 2.5   6.8 ]\n",
      " [ 3.16 -1.3 ]]\n",
      "Deuxième sélection [2.5  3.16 4.17 4.2 ]\n",
      "Troisième sélection [ 3.14  3.16 -1.3 ]\n",
      "Quatrième sélection [ 3.14  3.16 -1.3 ]\n",
      "Cinquième sélection [ 1.6  4.2 -8.2]\n"
     ]
    }
   ],
   "source": [
    "L1 = np.array([[2.3, 2.5, 6.8], [3.14, 3.16, -1.3], [3.14, 4.17, 3.45], [1.6, 4.2,  -8.2]])\n",
    "print(\"Première sélection\", L1[0:2, 1:3])  # Sélection des deux premières lignes (0 et 1) et colonnes d'index (1 et 2). C'est un tableau.\n",
    "print(\"Deuxième sélection\", L1[:, 1])  # Permet de sélectionner la deuxième colonne en entier (c'est un vecteur)\n",
    "print(\"Troisième sélection\", L1[1, :])  # Permet de sélectionner la deuxième ligne en entier (c'est un vecteur)\n",
    "print(\"Quatrième sélection\", L1[1])  # Permet de sélectionner la deuxième ligne en entier aussi (c'est un vecteur)\n",
    "print(\"Cinquième sélection\", L1[-1, :])  # Permet de sélectionner la dernière ligne en entier (c'est un vecteur)"
   ]
  },
  {
   "cell_type": "markdown",
   "id": "unusual-electricity",
   "metadata": {},
   "source": [
    "## Si j'ai bien compris...\n",
    "```{admonition} Exercice\n",
    ":class: tip\n",
    "Essayer de prévoir ce qu'affichera chaque `print` puis observer le résultat en cliquant sur la croix en bas à droite.\n",
    "```"
   ]
  },
  {
   "cell_type": "code",
   "execution_count": 9,
   "id": "advisory-relevance",
   "metadata": {
    "tags": [
     "hide-output"
    ]
   },
   "outputs": [
    {
     "name": "stdout",
     "output_type": "stream",
     "text": [
      "Cas 1 : [[0. 1. 2. 3.]\n",
      " [0. 1. 4. 9.]\n",
      " [1. 1. 1. 1.]]\n",
      "Cas 2 : 1.0\n",
      "Cas 3 : 1.0\n",
      "Cas 4 : [0. 1. 4. 9.]\n",
      "Cas 5 : [1. 1. 1. 1.]\n",
      "Cas 6 : [3. 9. 1.]\n",
      "Cas 7 : [2. 4. 1.]\n",
      "Cas 8 : [[0.]]\n",
      "Cas 9 : [1. 1.]\n",
      "Cas 10 : [[1. 2.]\n",
      " [1. 4.]]\n"
     ]
    }
   ],
   "source": [
    "L1 = np.arange(0, 4)\n",
    "L2 = L1 * L1\n",
    "L3 = np.ones(4)\n",
    "\n",
    "\"\"\"\n",
    "Ci-dessous : une méthode pour créer un tableau à partir de 3 vecteurs de même taille.\n",
    "Les L1, L2, L3 sont les lignes du tableau.\n",
    "\"\"\"\n",
    "M1 = np.array([L1, L2, L3])\n",
    "\n",
    "print(\"Cas 1 :\", M1)\n",
    "print(\"Cas 2 :\", M1[2, 3])\n",
    "print(\"Cas 3 :\", M1[-1, 2])\n",
    "print(\"Cas 4 :\", M1[1])\n",
    "print(\"Cas 5 :\", M1[2, :])\n",
    "print(\"Cas 6 :\", M1[:, -1])\n",
    "print(\"Cas 7 :\", M1[:, -2])\n",
    "print(\"Cas 8 :\", M1[1:2, 0:1])\n",
    "print(\"Cas 9 :\", M1[:-1, 1])  # Un peu plus compliqué...\n",
    "print(\"Cas 10 :\", M1[-3:-1, -3:3])  # On se concentre bien..."
   ]
  },
  {
   "cell_type": "code",
   "execution_count": 10,
   "id": "loose-milan",
   "metadata": {
    "tags": [
     "remove-input",
     "remove-output"
    ]
   },
   "outputs": [
    {
     "data": {
      "text/plain": [
       "array([[0., 1., 2., 3.],\n",
       "       [0., 1., 4., 9.],\n",
       "       [1., 1., 1., 1.]])"
      ]
     },
     "metadata": {
      "scrapbook": {
       "mime_prefix": "",
       "name": "cas_1"
      }
     },
     "output_type": "display_data"
    },
    {
     "data": {
      "text/plain": [
       "1.0"
      ]
     },
     "metadata": {
      "scrapbook": {
       "mime_prefix": "",
       "name": "cas_2"
      }
     },
     "output_type": "display_data"
    },
    {
     "data": {
      "text/plain": [
       "1.0"
      ]
     },
     "metadata": {
      "scrapbook": {
       "mime_prefix": "",
       "name": "cas_3"
      }
     },
     "output_type": "display_data"
    },
    {
     "data": {
      "text/plain": [
       "array([0., 1., 4., 9.])"
      ]
     },
     "metadata": {
      "scrapbook": {
       "mime_prefix": "",
       "name": "cas_4"
      }
     },
     "output_type": "display_data"
    },
    {
     "data": {
      "text/plain": [
       "array([1., 1., 1., 1.])"
      ]
     },
     "metadata": {
      "scrapbook": {
       "mime_prefix": "",
       "name": "cas_5"
      }
     },
     "output_type": "display_data"
    },
    {
     "data": {
      "text/plain": [
       "array([3., 9., 1.])"
      ]
     },
     "metadata": {
      "scrapbook": {
       "mime_prefix": "",
       "name": "cas_6"
      }
     },
     "output_type": "display_data"
    },
    {
     "data": {
      "text/plain": [
       "array([2., 4., 1.])"
      ]
     },
     "metadata": {
      "scrapbook": {
       "mime_prefix": "",
       "name": "cas_7"
      }
     },
     "output_type": "display_data"
    },
    {
     "data": {
      "text/plain": [
       "array([[0.]])"
      ]
     },
     "metadata": {
      "scrapbook": {
       "mime_prefix": "",
       "name": "cas_8"
      }
     },
     "output_type": "display_data"
    },
    {
     "data": {
      "text/plain": [
       "array([1., 1.])"
      ]
     },
     "metadata": {
      "scrapbook": {
       "mime_prefix": "",
       "name": "cas_9"
      }
     },
     "output_type": "display_data"
    },
    {
     "data": {
      "text/plain": [
       "array([[1., 2.],\n",
       "       [1., 4.]])"
      ]
     },
     "metadata": {
      "scrapbook": {
       "mime_prefix": "",
       "name": "cas_10"
      }
     },
     "output_type": "display_data"
    }
   ],
   "source": [
    "L1 = np.arange(0, 4)\n",
    "L2 = L1 * L1\n",
    "L3 = np.ones(4)\n",
    "\n",
    "\"\"\"\n",
    "Ci-dessous : une méthode pour créer un tableau à partir de 3 vecteurs de même taille.\n",
    "Les L1, L2, L3 sont les lignes du tableau.\n",
    "\"\"\"\n",
    "M1 = np.array([L1, L2, L3])\n",
    "\n",
    "glue(\"cas_1\", M1)\n",
    "glue(\"cas_2\", M1[2, 3])\n",
    "glue(\"cas_3\", M1[-1, 2])\n",
    "glue(\"cas_4\", M1[1])\n",
    "glue(\"cas_5\", M1[2, :])\n",
    "glue(\"cas_6\", M1[:, -1])\n",
    "glue(\"cas_7\", M1[:, -2])\n",
    "glue(\"cas_8\", M1[1:2, 0:1])\n",
    "glue(\"cas_9\", M1[:-1, 1])  # Un peu plus compliqué...\n",
    "glue(\"cas_10\", M1[-3:-1, -3:3])  # On se concentre bien..."
   ]
  },
  {
   "cell_type": "markdown",
   "id": "frequent-transcription",
   "metadata": {},
   "source": [
    "```{dropdown} Explication des réponses\n",
    "__Les vecteurs__ :\n",
    "* L1 crée une liste d'entier partant de 0 jusqu'à 4 __exclus__ soit `[0, 1, 2, 3]`\n",
    "* L2 est la multiplication terme à terme L1 par lui-même, on passe chaque élément au carré soit `[0, 1, 4, 9]`\n",
    "* L3 est une liste de 4 éléments composées uniquement de 1.\n",
    "\n",
    "__Le tableau__ :\n",
    "* M est le tableau composé des trois vecteurs. Il est donc de taille 3*4 (3 lignes, 4 colonnes).\n",
    "\n",
    "__Les affichage__:\n",
    "* Cas 1 : Affichage du tableau complet\n",
    "* Cas 2 : Affichage de l'élément de la troisième ligne, quatrième colonne, soit {glue:}`cas_2`\n",
    "* Cas 3 : Afficahge de l'élément de la dernière ligne, troisième colonne soit {glue:}`cas_3`\n",
    "* Cas 4 : Affichage de la __deuxième ligne__ soit {glue:}`cas_4`\n",
    "* Cas 5 : Affichage de la troisième ligne soit {glue:}`cas_5`\n",
    "* Cas 6 : Affichage de la dernière colonne soit {glue:}`cas_6`\n",
    "* Cas 7 : Affichage de l'avant-dernière colonne soit {glue:}`cas_7`\n",
    "* Cas 8 : Affichage du tableau limité à la deuxième ligne (de l'indice 1 à l'indice 2 __exclus__) et à la première colonne soit {glue:}`cas_8` (de l'indice 0 à l'indice 1 __exclus__). _C'est bien un tableau mais avec une seule valeur !_\n",
    "* Cas 9 : Affichage de la deuxième colonne mais sans la dernière ligne (on va jusqu'au -1 __exclus__) {glue:}`cas_9`\n",
    "* Cas 10 : Affichage du tableau limité aux deux premières lignes (de l'indice -3 soit indice 0 - puisqu'il y a 3 lignes - jusqu'à l'indice -1 (dernier) __exclus__) et à la deuxième et troisième (de l'indice - 3 soit la colonne d'indice 1 - puisque qu'il y a 4 colonnes - jusqu'à l'indice 3 soit la dernière colonne __exclus__) soit {glue:}`cas_10`\n",
    "```\n",
    "\n",
    "## Fonctions de la bibliothèque\n",
    "`numpy` embarque de nombreuses fonctions très utiles qui seront présentées durant l'année. Vous apprendrez ainsi la syntaxe associée à ces fonctions au fur et à mesure. Citons à titre d'exemple :\n",
    "* `polyfit` :  Permet l'ajustement d'un modèle (linéaire en général)\n",
    "* Sous-module `random` : contient plusieurs fonctions permettant des tirages aléatoires (`uniform`, `normal`) : utile pour les simulations de Monte-Carlo en physique-chimie."
   ]
  }
 ],
 "metadata": {
  "jupytext": {
   "encoding": "# -*- coding: utf-8 -*-",
   "formats": "ipynb,md:myst",
   "split_at_heading": true,
   "text_representation": {
    "extension": ".md",
    "format_name": "myst",
    "format_version": 0.13,
    "jupytext_version": "1.10.3"
   }
  },
  "kernelspec": {
   "display_name": "Python 3",
   "language": "python",
   "name": "python3"
  },
  "language_info": {
   "codemirror_mode": {
    "name": "ipython",
    "version": 3
   },
   "file_extension": ".py",
   "mimetype": "text/x-python",
   "name": "python",
   "nbconvert_exporter": "python",
   "pygments_lexer": "ipython3",
   "version": "3.9.2"
  },
  "source_map": [
   15,
   26,
   28,
   41,
   56,
   134,
   149,
   159,
   175,
   185,
   194,
   243,
   255,
   265,
   275,
   282,
   290,
   298,
   322,
   344
  ]
 },
 "nbformat": 4,
 "nbformat_minor": 5
}