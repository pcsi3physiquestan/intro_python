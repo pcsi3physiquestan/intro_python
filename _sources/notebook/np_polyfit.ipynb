{
 "cells": [
  {
   "cell_type": "markdown",
   "id": "departmental-notebook",
   "metadata": {},
   "source": [
    "# Régression linéaire\n",
    "\n",
    "Il arrive fréquemment qu'on veuille ajuster un modèle théorique sur des points de données expérimentaux. Le plus courramment utilisé pour nous est l'ajustement d'un modèle affine $Y = aX + b$ à des points expérimentaux $(x_i, y_i)$ (i allant de 1 à  k). On veut connaître les valeurs de $a$ et $b$ qui donne une droite passant au plus près des points expérimentaux (on parle de __régression linéaire__).\n",
    "\n",
    "## Modélisation du problème\n",
    "\n",
    "Nous allons donner, sans rentrer dans les détails un sens au terme \"au plus près\". La méthode proposée ici s'appelle la méthode des __moindres carrés__. Dans toute la suite la méthode proposée suppose qu'il n'y a pas d'incertitudes sur les abscisses $x_i$ ou qu'elles sont négligeables devant celles sur les $y_i$.\n",
    "\n",
    "```{margin}\n",
    "Cf. les cours de physique et chimie pour la notion d'incertitude de mesure. On gardera l'idée qu'elle quantifie la variabilité de la mesure d'une grandeur.\n",
    "```\n",
    "\n",
    "En effet, du fait des incertitudes (de la variabilité des mesures), les points $(x_i, y_i)$ ne sont jamais complètement alignés. Pour une droite d'ajustement $y_{adj} = ax + b$, il y aura un écart entre $y_i$ et $y_{adj}(x_i)$. _La méthode des moindres carrés consiste à minimiser globalement ces écarts, c'est-à-dire à minimiser par rapport à a et b la somme des carrés des écarts, soit la fonction_ :\n",
    "\n",
    "$$\n",
    "\\Gamma(a, b) = \\sum_{i=1}^{i=k} \\left( y_i - y_{adj}(x_i) \\right)^2 = \\sum_{i=1}^{i=k} \\left( y_i - (a x_i + b) \\right)^2\n",
    "$$\n",
    "\n",
    "On ne présente pas ici les calculs permettant de minimiser une fonction de plusieurs variables mais on admettra que dans le cas précédent, les valeurs $\\hat a$ et $\\hat b$ qui minimise $\\Gamma(a,b)$ sont calculables analytiquement. Elles ont pour expression :\n",
    "\n",
    "$$\n",
    "\\begin{cases}\n",
    "\t\\hat a &= \\frac{\\frac{1}{k}\\sum_i x_i y_i - \\left (\\frac{1}{k}\\sum x_i\\right ) \\left (\\frac{1}{k}\\sum y_i\\right )}{\\frac{1}{k}\\sum_i x_i^2 - {\\left (\\frac{1}{k}\\sum x_i\\right )}^2}\\\\\n",
    "\t\\hat b &= \\overline{y} - \\hat a \\overline{x}\n",
    "\\end{cases}\n",
    "$$\n",
    "\n",
    "avec $\\overline{y}$ la moyenne des $y_i$ et $\\overline{x}$ la moyenne des $x_i$.\n",
    "\n",
    "## numpy.polyfit\n",
    "\n",
    "### Syntaxe\n",
    "La majorité des méthodes numériques proposées par les logiciels utilisent la méthode des moindres carrés (DROITEREG sous Excel et Libreoffice par exemple). C'est aussi le cas de la fonction `polyfit` de la bibliothèque `numpy`. Sa syntaxe (version simple) est:\n",
    "\n",
    "```{code-block}\n",
    "polyfit(x, y, deg)\n",
    "```\n",
    "où :\n",
    "* `x` est le vecteur contenant les valeurs des abscisses\n",
    "* `y` est le vecteur contenant les valeurs des ordonnées\n",
    "* `deg` le degré (un entier) du polynôme d'ajustement. Pour nous, ce sera toujours 1.\n",
    "\n",
    "```{margin}\n",
    "`polyfit` permet en effet un ajustement _polynomial_ par un polynôme de degré supérieur à 1.\n",
    "```\n",
    "\n",
    "Cette fonction renvoie un vecteur contenant les coefficient du polynôme par __degré décroissants__. Ainsi, pour un degré 1 et si on écrit la droite d'ajustement $Y = aX + b$, le vecteur aura la forme : `array([a, b])`\n",
    "\n",
    "\n",
    "\n",
    "### Méthode d'utilisation.\n",
    "Réaliser une régression linéaire demande de la rigueur, il ne faut pas simplement appliquer la formule précédente. Vous devez :\n",
    "1. Tracer le nuage de points des $(x_i, y_i)$ __et vérifier qu'ils sont globalement alignés__. Il ne sert à rien de faire une régression linéaire s'il y a des points qui dévient clairement d'un modèle affine ou si la tendance n'est pas affine.\n",
    "2. Ensuite seulement, utiliser la fonction polyfit pour obtenir les paramètres d'ajustment optimaux.\n",
    "3. Représenter la droite d'ajustement sur le même graphique pour vérifier qu'elle est cohérente avec les points de mesures. Des méthodes de tests seront présentées plus précisément en physique et en chimie.\n",
    "\n",
    "```{margin}\n",
    "On ne trace pas des ajustments affine à tout va. Il est notamment __inutile__ de tracer une droite d'ajustement si le modèle théorique attendue n'est pas affine...\n",
    "\n",
    "```\n",
    "\n",
    "\n",
    "### Un exemple de syntaxe"
   ]
  },
  {
   "cell_type": "code",
   "execution_count": 1,
   "id": "varied-canadian",
   "metadata": {},
   "outputs": [
    {
     "data": {
      "text/plain": [
       "' Ce sont des fausses données sans incertitude de mesure, on ne va donc pas comparer le modèle ajusté aux résultats expérimentaux.'"
      ]
     },
     "execution_count": 1,
     "metadata": {},
     "output_type": "execute_result"
    },
    {
     "data": {
      "image/png": "[encoded data removed]",
      "text/plain": [
       "<Figure size 432x288 with 1 Axes>"
      ]
     },
     "metadata": {
      "filenames": {
       "image/png": "/home/ubuntu/Dropbox/Enseignement prepas/approche_numeriques/intro_python/_build/jupyter_execute/notebook/np_polyfit_1_1.png"
      },
      "needs_background": "light"
     },
     "output_type": "display_data"
    }
   ],
   "source": [
    "import numpy as np\n",
    "import matplotlib.pyplot as plt\n",
    "\n",
    "\"\"\" Fausses (!) données expérimentales \"\"\"\n",
    "xi = np.array([0.2, 0.8, 1.6, 3.4, 4.5, 7.5])\n",
    "yi = np.array([4.4, 5.7, 7.2, 11.7, 13.3, 21.8])\n",
    "\n",
    "\"\"\"Ajustement linéaire\"\"\"\n",
    "p = np.polyfit(xi, yi, 1)  # p est un vecteur contenant les coefficients.\n",
    "y_adj = p[0] * xi + p[1]  # On applique la droite ajusté aux xi pour comparaison.\n",
    "\n",
    "\n",
    "f, ax = plt.subplots()\n",
    "f.suptitle(\"Ajustement linéaire\")\n",
    "\n",
    "ax.plot(xi, yi, marker='+', label='Données expérimentales', linestyle='', color='red')  # On voit l'intérêt des options pour ne pas relier les points\n",
    "\"\"\"L'observation des points de mesure montre effectivement une tendance linéaire\"\"\"\n",
    "\n",
    "ax.plot(xi, y_adj, marker='', label='Ajustement', linestyle='-', color='blue')  # On voit l'intérêt des options\n",
    "\n",
    "ax.legend()\n",
    "\n",
    "\"\"\" Ce sont des fausses données sans incertitude de mesure, on ne va donc pas comparer le modèle ajusté aux résultats expérimentaux.\"\"\""
   ]
  }
 ],
 "metadata": {
  "jupytext": {
   "encoding": "# -*- coding: utf-8 -*-",
   "formats": "ipynb,md:myst",
   "split_at_heading": true,
   "text_representation": {
    "extension": ".md",
    "format_name": "myst",
    "format_version": 0.13,
    "jupytext_version": "1.10.3"
   }
  },
  "kernelspec": {
   "display_name": "Python 3",
   "language": "python",
   "name": "python3"
  },
  "language_info": {
   "codemirror_mode": {
    "name": "ipython",
    "version": 3
   },
   "file_extension": ".py",
   "mimetype": "text/x-python",
   "name": "python",
   "nbconvert_exporter": "python",
   "pygments_lexer": "ipython3",
   "version": "3.9.2"
  },
  "source_map": [
   15,
   80
  ]
 },
 "nbformat": 4,
 "nbformat_minor": 5
}