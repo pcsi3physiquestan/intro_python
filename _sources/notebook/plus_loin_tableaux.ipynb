{
 "cells": [
  {
   "cell_type": "markdown",
   "id": "7b8ac0ae",
   "metadata": {},
   "source": [
    "Certains points abordés ici serviront très peu ou seront abordés pendant l'année. Il s'agit d'approfondissement pour ceux qui ont déjà bien compris les parties précédentes."
   ]
  },
  {
   "cell_type": "code",
   "execution_count": 1,
   "id": "6aa0beb3",
   "metadata": {},
   "outputs": [],
   "source": [
    "\"\"\"On importe les bibliothèques scientifiques car elles seront utilisées ensuite\"\"\"\n",
    "import numpy as np\n",
    "import matplotlib.pyplot as plt\n"
   ]
  },
  {
   "cell_type": "markdown",
   "id": "3126e914",
   "metadata": {},
   "source": [
    "(tableau_numpy)=\n",
    "# Tableaux numpy : manipulations\n",
    "\n",
    "## Opérations usuelles et concaténation\n",
    "* Les opérations usuelles et fonctions mathématiques présentées précédemment s'appliquent à nouveau pour les tableaux numpy.\n",
    "* Concaténation : La fonction `append` doit prendre un troisième argument si on concatène deux tableaux (ou un tableau et un vecteur). L'argument `axis = `:\n",
    "    * `axis = 0` : Concaténer _verticalement_ : les deux tableaux doivent donc avec le même nombre de colonnes. Sinon Python renverra une erreur.\n",
    "    * `axis = 1` : Concaténer _horizontalement_ : les deux tableaux doivent donc avec le même nombre de lignes. Sinon Python renverra une erreur.\n",
    "    * Pas de `axis` : Python va transformer les tableaux en vecteurs et concaténer les vecteurs."
   ]
  },
  {
   "cell_type": "code",
   "execution_count": 2,
   "id": "6283dcd6",
   "metadata": {},
   "outputs": [
    {
     "name": "stdout",
     "output_type": "stream",
     "text": [
      "[2.3  2.5  3.14 3.16 3.14 4.17 1.2  3.7  4.2  3.1 ]\n",
      "[[2.3  2.5 ]\n",
      " [3.14 3.16]\n",
      " [3.14 4.17]\n",
      " [1.2  3.7 ]\n",
      " [4.2  3.1 ]]\n"
     ]
    },
    {
     "ename": "ValueError",
     "evalue": "all the input array dimensions for the concatenation axis must match exactly, but along dimension 0, the array at index 0 has size 3 and the array at index 1 has size 2",
     "output_type": "error",
     "traceback": [
      "\u001b[1;31m---------------------------------------------------------------------------\u001b[0m",
      "\u001b[1;31mValueError\u001b[0m                                Traceback (most recent call last)",
      "\u001b[1;32m~\\AppData\\Local\\Temp/ipykernel_9440/4271976788.py\u001b[0m in \u001b[0;36m<module>\u001b[1;34m\u001b[0m\n\u001b[0;32m      8\u001b[0m \u001b[0mprint\u001b[0m\u001b[1;33m(\u001b[0m\u001b[0mL4\u001b[0m\u001b[1;33m)\u001b[0m\u001b[1;33m\u001b[0m\u001b[1;33m\u001b[0m\u001b[0m\n\u001b[0;32m      9\u001b[0m \u001b[1;33m\u001b[0m\u001b[0m\n\u001b[1;32m---> 10\u001b[1;33m \u001b[0mL5\u001b[0m \u001b[1;33m=\u001b[0m \u001b[0mnp\u001b[0m\u001b[1;33m.\u001b[0m\u001b[0mappend\u001b[0m\u001b[1;33m(\u001b[0m\u001b[0mL1\u001b[0m\u001b[1;33m,\u001b[0m \u001b[0mL2\u001b[0m\u001b[1;33m,\u001b[0m \u001b[0maxis\u001b[0m\u001b[1;33m=\u001b[0m\u001b[1;36m1\u001b[0m\u001b[1;33m)\u001b[0m  \u001b[1;31m# Renvoie un erreur car on ne peut placer L2 à droite de L1 : pas le même nombre de lignes\u001b[0m\u001b[1;33m\u001b[0m\u001b[1;33m\u001b[0m\u001b[0m\n\u001b[0m\u001b[0;32m     11\u001b[0m \u001b[0mprint\u001b[0m\u001b[1;33m(\u001b[0m\u001b[0mL5\u001b[0m\u001b[1;33m)\u001b[0m\u001b[1;33m\u001b[0m\u001b[1;33m\u001b[0m\u001b[0m\n",
      "\u001b[1;32m<__array_function__ internals>\u001b[0m in \u001b[0;36mappend\u001b[1;34m(*args, **kwargs)\u001b[0m\n",
      "\u001b[1;32mD:\\cedri\\anaconda3\\envs\\prepa\\lib\\site-packages\\numpy\\lib\\function_base.py\u001b[0m in \u001b[0;36mappend\u001b[1;34m(arr, values, axis)\u001b[0m\n\u001b[0;32m   4815\u001b[0m         \u001b[0mvalues\u001b[0m \u001b[1;33m=\u001b[0m \u001b[0mravel\u001b[0m\u001b[1;33m(\u001b[0m\u001b[0mvalues\u001b[0m\u001b[1;33m)\u001b[0m\u001b[1;33m\u001b[0m\u001b[1;33m\u001b[0m\u001b[0m\n\u001b[0;32m   4816\u001b[0m         \u001b[0maxis\u001b[0m \u001b[1;33m=\u001b[0m \u001b[0marr\u001b[0m\u001b[1;33m.\u001b[0m\u001b[0mndim\u001b[0m\u001b[1;33m-\u001b[0m\u001b[1;36m1\u001b[0m\u001b[1;33m\u001b[0m\u001b[1;33m\u001b[0m\u001b[0m\n\u001b[1;32m-> 4817\u001b[1;33m     \u001b[1;32mreturn\u001b[0m \u001b[0mconcatenate\u001b[0m\u001b[1;33m(\u001b[0m\u001b[1;33m(\u001b[0m\u001b[0marr\u001b[0m\u001b[1;33m,\u001b[0m \u001b[0mvalues\u001b[0m\u001b[1;33m)\u001b[0m\u001b[1;33m,\u001b[0m \u001b[0maxis\u001b[0m\u001b[1;33m=\u001b[0m\u001b[0maxis\u001b[0m\u001b[1;33m)\u001b[0m\u001b[1;33m\u001b[0m\u001b[1;33m\u001b[0m\u001b[0m\n\u001b[0m\u001b[0;32m   4818\u001b[0m \u001b[1;33m\u001b[0m\u001b[0m\n\u001b[0;32m   4819\u001b[0m \u001b[1;33m\u001b[0m\u001b[0m\n",
      "\u001b[1;32m<__array_function__ internals>\u001b[0m in \u001b[0;36mconcatenate\u001b[1;34m(*args, **kwargs)\u001b[0m\n",
      "\u001b[1;31mValueError\u001b[0m: all the input array dimensions for the concatenation axis must match exactly, but along dimension 0, the array at index 0 has size 3 and the array at index 1 has size 2"
     ]
    }
   ],
   "source": [
    "L1 = np.array([[2.3, 2.5], [3.14, 3.16], [3.14, 4.17]])\n",
    "L2 = np.array([[1.2, 3.7], [4.2, 3.1]])\n",
    "\n",
    "L3 = np.append(L1, L2)  # On aplatit les tableaux pour obtenir un vecteur.\n",
    "print(L3)\n",
    "\n",
    "L4 = np.append(L1, L2, axis=0)  # On place L2 sous L1\n",
    "print(L4)\n",
    "\n",
    "L5 = np.append(L1, L2, axis=1)  # Renvoie un erreur car on ne peut placer L2 à droite de L1 : pas le même nombre de lignes\n",
    "print(L5)"
   ]
  },
  {
   "cell_type": "markdown",
   "id": "9b7f10f5",
   "metadata": {},
   "source": [
    "## Sélection d'une partie d'un tableau.\n",
    "```{attention}\n",
    "* La méthode présentée ne fonctionne pas avec une liste de listes classique. Uniquement avec des tableaux `numpy`\n",
    "* Attention, l'__indexation commence toujours à 0__\n",
    "```\n",
    "\n",
    "### Sélection d'un élément."
   ]
  },
  {
   "cell_type": "code",
   "execution_count": 3,
   "id": "60445188",
   "metadata": {},
   "outputs": [
    {
     "name": "stdout",
     "output_type": "stream",
     "text": [
      "4.17\n"
     ]
    },
    {
     "data": {
      "text/plain": [
       "'\\n2 : sélection de la troisième ligne\\n1 : sélection de la deuxième colonne\\n\\nOn affiche donc 4.17\\n'"
      ]
     },
     "execution_count": 3,
     "metadata": {},
     "output_type": "execute_result"
    }
   ],
   "source": [
    "L1 = np.array([[2.3, 2.5], [3.14, 3.16], [3.14, 4.17]])\n",
    "print(L1[2, 1])\n",
    "\"\"\"\n",
    "2 : sélection de la troisième ligne\n",
    "1 : sélection de la deuxième colonne\n",
    "\n",
    "On affiche donc 4.17\n",
    "\"\"\""
   ]
  },
  {
   "cell_type": "markdown",
   "id": "06da74eb",
   "metadata": {},
   "source": [
    "### Sélection d'une portion d'un tableau\n",
    "```{margin}\n",
    "On rappelle que L1[1:3] sélectionne jusqu'à l'index 3 (quatrième élément ) __non inclus__.\n",
    "```"
   ]
  },
  {
   "cell_type": "code",
   "execution_count": 4,
   "id": "379047d2",
   "metadata": {},
   "outputs": [
    {
     "name": "stdout",
     "output_type": "stream",
     "text": [
      "Première sélection [[ 2.5   6.8 ]\n",
      " [ 3.16 -1.3 ]]\n",
      "Deuxième sélection [2.5  3.16 4.17 4.2 ]\n",
      "Troisième sélection [ 3.14  3.16 -1.3 ]\n",
      "Quatrième sélection [ 3.14  3.16 -1.3 ]\n",
      "Cinquième sélection [ 1.6  4.2 -8.2]\n"
     ]
    }
   ],
   "source": [
    "L1 = np.array([[2.3, 2.5, 6.8], [3.14, 3.16, -1.3], [3.14, 4.17, 3.45], [1.6, 4.2,  -8.2]])\n",
    "print(\"Première sélection\", L1[0:2, 1:3])  # Sélection des deux premières lignes (0 et 1) et colonnes d'index (1 et 2). C'est un tableau.\n",
    "print(\"Deuxième sélection\", L1[:, 1])  # Permet de sélectionner la deuxième colonne en entier (c'est un vecteur)\n",
    "print(\"Troisième sélection\", L1[1, :])  # Permet de sélectionner la deuxième ligne en entier (c'est un vecteur)\n",
    "print(\"Quatrième sélection\", L1[1])  # Permet de sélectionner la deuxième ligne en entier aussi (c'est un vecteur)\n",
    "print(\"Cinquième sélection\", L1[-1, :])  # Permet de sélectionner la dernière ligne en entier (c'est un vecteur)"
   ]
  },
  {
   "cell_type": "markdown",
   "id": "85c40c54",
   "metadata": {},
   "source": [
    "Voici le tableau `L1` avec les indices des lignes et colonnes pour mieux comprendre.\n",
    "\n",
    "![Tableau numpy 2](./images/tableau_2.png)\n",
    "\n",
    "## Si j'ai bien compris...\n",
    "```{admonition} Exercice\n",
    ":class: tip\n",
    "Essayer de prévoir ce qu'affichera chaque `print` puis observer le résultat en cliquant sur la croix en bas à droite.\n",
    "```"
   ]
  },
  {
   "cell_type": "code",
   "execution_count": 5,
   "id": "21d0bfeb",
   "metadata": {
    "tags": [
     "hide-output"
    ]
   },
   "outputs": [
    {
     "name": "stdout",
     "output_type": "stream",
     "text": [
      "Cas 1 : [[0. 1. 2. 3.]\n",
      " [0. 1. 4. 9.]\n",
      " [1. 1. 1. 1.]]\n",
      "Cas 2 : 1.0\n",
      "Cas 3 : 1.0\n",
      "Cas 4 : [0. 1. 4. 9.]\n",
      "Cas 5 : [1. 1. 1. 1.]\n",
      "Cas 6 : [3. 9. 1.]\n",
      "Cas 7 : [2. 4. 1.]\n",
      "Cas 8 : [[0.]]\n",
      "Cas 9 : [1. 1.]\n",
      "Cas 10 : [[1. 2.]\n",
      " [1. 4.]]\n"
     ]
    }
   ],
   "source": [
    "L1 = np.arange(0, 4)\n",
    "L2 = L1 * L1\n",
    "L3 = np.ones(4)\n",
    "\n",
    "\"\"\"\n",
    "Ci-dessous : une méthode pour créer un tableau à partir de 3 vecteurs de même taille.\n",
    "Les L1, L2, L3 sont les lignes du tableau.\n",
    "\"\"\"\n",
    "M1 = np.array([L1, L2, L3])\n",
    "\n",
    "print(\"Cas 1 :\", M1)\n",
    "print(\"Cas 2 :\", M1[2, 3])\n",
    "print(\"Cas 3 :\", M1[-1, 2])\n",
    "print(\"Cas 4 :\", M1[1])\n",
    "print(\"Cas 5 :\", M1[2, :])\n",
    "print(\"Cas 6 :\", M1[:, -1])\n",
    "print(\"Cas 7 :\", M1[:, -2])\n",
    "print(\"Cas 8 :\", M1[1:2, 0:1])\n",
    "print(\"Cas 9 :\", M1[:-1, 1])  # Un peu plus compliqué...\n",
    "print(\"Cas 10 :\", M1[-3:-1, -3:3])  # On se concentre bien..."
   ]
  },
  {
   "cell_type": "code",
   "execution_count": 6,
   "id": "ba2fc83f",
   "metadata": {
    "tags": [
     "remove-input",
     "remove-output"
    ]
   },
   "outputs": [
    {
     "data": {
      "text/plain": [
       "array([[0., 1., 2., 3.],\n",
       "       [0., 1., 4., 9.],\n",
       "       [1., 1., 1., 1.]])"
      ]
     },
     "metadata": {
      "scrapbook": {
       "mime_prefix": "",
       "name": "cas_1"
      }
     },
     "output_type": "display_data"
    },
    {
     "data": {
      "text/plain": [
       "1.0"
      ]
     },
     "metadata": {
      "scrapbook": {
       "mime_prefix": "",
       "name": "cas_2"
      }
     },
     "output_type": "display_data"
    },
    {
     "data": {
      "text/plain": [
       "1.0"
      ]
     },
     "metadata": {
      "scrapbook": {
       "mime_prefix": "",
       "name": "cas_3"
      }
     },
     "output_type": "display_data"
    },
    {
     "data": {
      "text/plain": [
       "array([0., 1., 4., 9.])"
      ]
     },
     "metadata": {
      "scrapbook": {
       "mime_prefix": "",
       "name": "cas_4"
      }
     },
     "output_type": "display_data"
    },
    {
     "data": {
      "text/plain": [
       "array([1., 1., 1., 1.])"
      ]
     },
     "metadata": {
      "scrapbook": {
       "mime_prefix": "",
       "name": "cas_5"
      }
     },
     "output_type": "display_data"
    },
    {
     "data": {
      "text/plain": [
       "array([3., 9., 1.])"
      ]
     },
     "metadata": {
      "scrapbook": {
       "mime_prefix": "",
       "name": "cas_6"
      }
     },
     "output_type": "display_data"
    },
    {
     "data": {
      "text/plain": [
       "array([2., 4., 1.])"
      ]
     },
     "metadata": {
      "scrapbook": {
       "mime_prefix": "",
       "name": "cas_7"
      }
     },
     "output_type": "display_data"
    },
    {
     "data": {
      "text/plain": [
       "array([[0.]])"
      ]
     },
     "metadata": {
      "scrapbook": {
       "mime_prefix": "",
       "name": "cas_8"
      }
     },
     "output_type": "display_data"
    },
    {
     "data": {
      "text/plain": [
       "array([1., 1.])"
      ]
     },
     "metadata": {
      "scrapbook": {
       "mime_prefix": "",
       "name": "cas_9"
      }
     },
     "output_type": "display_data"
    },
    {
     "data": {
      "text/plain": [
       "array([[1., 2.],\n",
       "       [1., 4.]])"
      ]
     },
     "metadata": {
      "scrapbook": {
       "mime_prefix": "",
       "name": "cas_10"
      }
     },
     "output_type": "display_data"
    }
   ],
   "source": [
    "from myst_nb import glue\n",
    "\n",
    "L1 = np.arange(0, 4)\n",
    "L2 = L1 * L1\n",
    "L3 = np.ones(4)\n",
    "\n",
    "\"\"\"\n",
    "Ci-dessous : une méthode pour créer un tableau à partir de 3 vecteurs de même taille.\n",
    "Les L1, L2, L3 sont les lignes du tableau.\n",
    "\"\"\"\n",
    "M1 = np.array([L1, L2, L3])\n",
    "\n",
    "glue(\"cas_1\", M1)\n",
    "glue(\"cas_2\", M1[2, 3])\n",
    "glue(\"cas_3\", M1[-1, 2])\n",
    "glue(\"cas_4\", M1[1])\n",
    "glue(\"cas_5\", M1[2, :])\n",
    "glue(\"cas_6\", M1[:, -1])\n",
    "glue(\"cas_7\", M1[:, -2])\n",
    "glue(\"cas_8\", M1[1:2, 0:1])\n",
    "glue(\"cas_9\", M1[:-1, 1])  # Un peu plus compliqué...\n",
    "glue(\"cas_10\", M1[-3:-1, -3:3])  # On se concentre bien..."
   ]
  },
  {
   "cell_type": "markdown",
   "id": "c0726176",
   "metadata": {},
   "source": [
    "```{dropdown} Explication des réponses\n",
    "__Les vecteurs__ :\n",
    "* L1 crée une liste d'entier partant de 0 jusqu'à 4 __exclus__ soit `[0, 1, 2, 3]`\n",
    "* L2 est la multiplication terme à terme L1 par lui-même, on passe chaque élément au carré soit `[0, 1, 4, 9]`\n",
    "* L3 est une liste de 4 éléments composées uniquement de 1.\n",
    "\n",
    "__Le tableau__ :\n",
    "* M est le tableau composé des trois vecteurs. Il est donc de taille 3*4 (3 lignes, 4 colonnes). Soit :\n",
    "\n",
    "![Tableau numpy](./images/matrice_numpy.png)\n",
    "\n",
    "__Les affichage__:\n",
    "* Cas 1 : Affichage du tableau complet\n",
    "* Cas 2 : Affichage de l'élément de la troisième ligne (indice 2), quatrième colonne (indice 3), soit {glue:}`cas_2`\n",
    "* Cas 3 : Afficahge de l'élément de la dernière ligne (indice -1), troisième colonne (indice 2) soit {glue:}`cas_3`\n",
    "* Cas 4 : Affichage de la __deuxième ligne (indice 1)__ soit {glue:}`cas_4`\n",
    "* Cas 5 : Affichage de la troisième ligne (indice 2) soit {glue:}`cas_5`\n",
    "* Cas 6 : Affichage de la dernière colonne (indice -1) soit {glue:}`cas_6`\n",
    "* Cas 7 : Affichage de l'avant-dernière colonne (indice -2) soit {glue:}`cas_7`\n",
    "* Cas 8 : Affichage du tableau limité à la deuxième ligne (de l'indice 1 à l'indice 2 __exclus__) et à la première colonne soit {glue:}`cas_8` (de l'indice 0 à l'indice 1 __exclus__). _C'est bien un tableau mais avec une seule valeur !_\n",
    "* Cas 9 : Affichage de la deuxième colonne mais sans la dernière ligne (on va jusqu'au -1 __exclus__) {glue:}`cas_9`\n",
    "* Cas 10 : Affichage du tableau limité aux deux premières lignes (de l'indice -3 soit indice 0 - puisqu'il y a 3 lignes - jusqu'à l'indice -1 (dernier) __exclus__) et à la deuxième et troisième colonne (de l'indice - 3 soit la colonne d'indice 1 - puisque qu'il y a 4 colonnes - jusqu'à l'indice 3 soit la dernière colonne __exclus__) soit {glue:}`cas_10`\n",
    "```"
   ]
  }
 ],
 "metadata": {
  "jupytext": {
   "encoding": "# -*- coding: utf-8 -*-",
   "formats": "ipynb,md:myst",
   "split_at_heading": true,
   "text_representation": {
    "extension": ".md",
    "format_name": "myst",
    "format_version": 0.13,
    "jupytext_version": "1.10.3"
   }
  },
  "kernelspec": {
   "display_name": "Python 3",
   "language": "python",
   "name": "python3"
  },
  "language_info": {
   "codemirror_mode": {
    "name": "ipython",
    "version": 3
   },
   "file_extension": ".py",
   "mimetype": "text/x-python",
   "name": "python",
   "nbconvert_exporter": "python",
   "pygments_lexer": "ipython3",
   "version": "3.7.12"
  },
  "source_map": [
   15,
   19,
   24,
   36,
   49,
   59,
   69,
   76,
   84,
   96,
   120,
   144
  ]
 },
 "nbformat": 4,
 "nbformat_minor": 5
}