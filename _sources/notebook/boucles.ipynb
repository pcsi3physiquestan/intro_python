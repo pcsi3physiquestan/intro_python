{
 "cells": [
  {
   "cell_type": "markdown",
   "id": "b0b1f880",
   "metadata": {},
   "source": [
    "# Instructions itératives.\n",
    "Les boucles permettent de réaliser plusieurs fois la même série d'instructions. On distingue deux types de boucles :\n",
    "* les boucles bornées (`for`) : on sait quand la boucle va s'arrêter.\n",
    "* les boucles non bornées (`while`) : on impose une condition d'arrêt de la boucle sans savoir quand elle sera réalisée.\n",
    "\n",
    "## Boucle for\n",
    "\n",
    "### Un exemple \n",
    "\n",
    "(exemple-for)="
   ]
  },
  {
   "cell_type": "code",
   "execution_count": 1,
   "id": "f81261fb",
   "metadata": {},
   "outputs": [
    {
     "name": "stdout",
     "output_type": "stream",
     "text": [
      "1\n",
      "9\n",
      "25\n",
      "49\n",
      "81\n"
     ]
    }
   ],
   "source": [
    "L = [1, 3, 5, 7, 9]\n",
    "\n",
    "for n in L:\n",
    "\tprint(n**2)"
   ]
  },
  {
   "cell_type": "markdown",
   "id": "75365542",
   "metadata": {},
   "source": [
    "### Syntaxe\n",
    "* Début de la boucle : `for variable_d_iteration in objet_iterable:` : le `:` est obligatoire\n",
    "* Eviter d'utiliser comme `variable_d_iteration` une variable qui existe déjà.\n",
    "* Un `objet_iterable` est un objet qui contient plusieurs éléments et qui peut être parcouru (itéré). La `variable_d_iteration` prendre comme valeur à chaque tour de boucle les différents éléments. Pour nous les `objet_iterable` sont :\n",
    "    * les listes\n",
    "    * les vecteurs numpy (cf. suite)\n",
    "    * des objets créés pour la boucle comme `range(5)` qui va créer une suire de nombres (0, 1, 2, 3, 4)\n",
    "* Le corps de la boucle (série d'instruction à exécuter en boucle) doit __être indenté__.\n",
    "\n",
    "### Exemple\n",
    "* A partir d'une liste déjà créée : cf. l'[exemple précédent](exemple-for).\n",
    "* On utilise `range(n)` :"
   ]
  },
  {
   "cell_type": "code",
   "execution_count": 2,
   "id": "4074e07f",
   "metadata": {},
   "outputs": [
    {
     "name": "stdout",
     "output_type": "stream",
     "text": [
      "0\n",
      "1\n",
      "4\n",
      "9\n"
     ]
    }
   ],
   "source": [
    "for n in range(4):  # On aura donc n=0, n=1, n=2, n=3 et on sort de la boucle\n",
    "\tprint(n**2)"
   ]
  },
  {
   "cell_type": "markdown",
   "id": "2e93d592",
   "metadata": {},
   "source": [
    "```{important}\n",
    "La \"liste\" créée par `range(n)` commence à 0 et s'arrête à __n-1__\n",
    "```\n",
    "\n",
    "### Aller plus loin avec range\n",
    "La syntaxe précédente `range(n)` suffit en général. Mais il existe une autre syntaxe plus complète : `range(start, stop, step)` qui créé une suite de nombre partant de `start` inclus jusqu'à `stop` __non inclus__ par pas de `step`\n",
    "\n",
    "````{admonition} Exemples\n",
    ":class: note\n",
    "* `range(3, 8, 2)` crée la suite de nombres `3, 5, 7`\n",
    "* `range(3, 9, 2)` crée la suite de nombres `3, 5, 7` (pas le 9 qui est exclus)\n",
    "* `range(3, 5, 2)` crée la suite de nombres `3`\n",
    "* `range(7, 5, 1)` crée une suite vide puisque 7 est plus grand que 5\n",
    "\n",
    "On peut aussi utiliser un pas négatif (avec `start` > `stop`) :\n",
    "* `range(8, 4, -1)` crée la suite de nombres `8, 7, 6, 5`\n",
    "````\n",
    "\n",
    "```{margin}\n",
    "C'est un détail pour nous mais `range(n)` ne crée pas une liste (on peut s'en rendre compte en demande `print(range(3))` ou `type(range(3))`). Si on veut le transformer en liste, il faudra écrire `list(range(3))`. Cela dit, il est conseillé alors d'utiliser un vecteur numpy (cf. suite).\n",
    "\n",
    "```\n",
    "\n",
    "## Boucle while\n",
    "### Un exemple"
   ]
  },
  {
   "cell_type": "code",
   "execution_count": 3,
   "id": "ee30670e",
   "metadata": {},
   "outputs": [
    {
     "name": "stdout",
     "output_type": "stream",
     "text": [
      "0\n",
      "1\n",
      "8\n",
      "27\n"
     ]
    }
   ],
   "source": [
    "i = 0  # Initialisation\n",
    "while i < 4:\n",
    "\tprint(i ** 3)\n",
    "\ti = i + 1  # Incrémentation"
   ]
  },
  {
   "cell_type": "markdown",
   "id": "4f0ea33d",
   "metadata": {},
   "source": [
    "### Syntaxe\n",
    "* __Initialisation__ : Une boucle nécessite en général une initialisation (précédemment définir le `i` et lui donner une valeur de départ).\n",
    "* `while condition:` : le `:` est obligatoire\n",
    "* le bloc d'instruction __doit être indenté__.\n",
    "* le bloc d'instruction __doit contenir une instruction qui modifie la condition__ : sinon on crée un boucle infinie ! (précédemment, l'incrémentation modifie la valeur de `i` et donc la condition).\n",
    "\n",
    "```{margin}\n",
    "Un microcontrolleur (comme Arduino) est programmé avec une boucle infinie pour réaliser sans fin les instructions qu'on lui a donné. Dans nos programmes, on le fera rarement...\n",
    "```\n",
    "\n",
    "### Exemple"
   ]
  },
  {
   "cell_type": "code",
   "execution_count": 4,
   "id": "509a912f",
   "metadata": {},
   "outputs": [
    {
     "name": "stdout",
     "output_type": "stream",
     "text": [
      "[0, 1, 4, 9]\n"
     ]
    }
   ],
   "source": [
    "\"\"\"On va remplir une liste avec le carré des entiers n tant que n^2 - 2n < 5.\n",
    "On ne peut utiliser une boucle for car on ne sait pas jusqu'à quel n aller.\n",
    "\"\"\"\n",
    "N = 5\n",
    "\n",
    "\"\"\" Initialisation de la boucle \"\"\"\n",
    "l = []  # Création de la liste qu'on va remplir\n",
    "n = 0  # Initialisation des entiers.\n",
    "\n",
    "while n**2 - 2*n < N:  # Condition à vérifier\n",
    "\tl.append(n**2)  # Importance de l'initialisation : sinon on ne peut ajouter de valeur à la liste.\n",
    "\tn = n + 1  # Sans l'incrémentation, n garde la même valeur et la boucle est infinie.\n",
    "\n",
    "print(l)"
   ]
  },
  {
   "cell_type": "markdown",
   "id": "565b79a0",
   "metadata": {},
   "source": [
    "## Pour vous entraîner\n",
    "Voici le [lien vers les exercices pour vous entraîner](https://pcsi3physiquestan.github.io/intro_python_td/notebook/exo_general.html)"
   ]
  }
 ],
 "metadata": {
  "jupytext": {
   "encoding": "# -*- coding: utf-8 -*-",
   "formats": "ipynb,md:myst",
   "split_at_heading": true,
   "text_representation": {
    "extension": ".md",
    "format_name": "myst",
    "format_version": 0.13,
    "jupytext_version": "1.10.3"
   }
  },
  "kernelspec": {
   "display_name": "Python 3",
   "language": "python",
   "name": "python3"
  },
  "language_info": {
   "codemirror_mode": {
    "name": "ipython",
    "version": 3
   },
   "file_extension": ".py",
   "mimetype": "text/x-python",
   "name": "python",
   "nbconvert_exporter": "python",
   "pygments_lexer": "ipython3",
   "version": "3.7.12"
  },
  "source_map": [
   15,
   27,
   32,
   47,
   50,
   77,
   82,
   95,
   110
  ]
 },
 "nbformat": 4,
 "nbformat_minor": 5
}