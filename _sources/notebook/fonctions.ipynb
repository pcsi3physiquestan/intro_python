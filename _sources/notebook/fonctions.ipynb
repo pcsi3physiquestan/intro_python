{
 "cells": [
  {
   "cell_type": "markdown",
   "id": "stretch-marriage",
   "metadata": {},
   "source": [
    "# Les fonctions.\n",
    "Une fonction est une série d'instructions préenregistrées qui prend en entrée une ou plusieurs données (on parle __d'arguments__) et qui après exécution des instructions peut renvoyer une ou plusieurs données (les __retours__).\n",
    "\n",
    "## Exécuter une fonction\n",
    "Syntaxe : `nomfonction(argument1, argument 2)`\n",
    "\n",
    "```{margin}\n",
    "Pensez à assigner ce que renvoie la fonction dans une variable pour une utilisation ultérieure.\n",
    "```\n",
    "\n",
    "## Signature d'une fonction\n",
    "La signature d'une fonction définit les entrées et les sorties d'une fonction. Un signature définit ainsi :\n",
    "* le nombre d'arguments en entrée et le type attendus de chaque argument.\n",
    "* les valeurs en sortie et le type de chaque retour.\n",
    "\n",
    "La signature est en général donnée dans l'aide de la fonction pour savoir comment l'utiliser.\n",
    "\n",
    "## Les fonctions existantes\n",
    "\n",
    "### La bibliothèque standard\n",
    "Il existe de nombreuses fonctions natives dans Python qui peuvent être utilisées directement (on parle de _bibliothèque standard_). On a déjà présenté quelques fonctions utiles ainsi que les types auxquels elles s'appliquaient."
   ]
  },
  {
   "cell_type": "code",
   "execution_count": 1,
   "id": "swedish-checklist",
   "metadata": {},
   "outputs": [
    {
     "name": "stdout",
     "output_type": "stream",
     "text": [
      "3\n"
     ]
    }
   ],
   "source": [
    "\"\"\"Exemple d'utilisation d'une fonction native\"\"\"\n",
    "a = min(3, 5, 6, 12)  # Fonction qui renvoie le minimum de l'ensemble des arguments données.\n",
    "print(a)"
   ]
  },
  {
   "cell_type": "markdown",
   "id": "linear-kingston",
   "metadata": {},
   "source": [
    "Quelques fonctions utiles (non exhaustif):\n",
    "* `print(a)` : Affiche la variable\n",
    "* `len(l)` : Longueur d'une liste ou d'une chaine de caractères\n",
    "* `round(nombre, digits)` : Arrondi le flottant au nombre de digits après la virgule.\n",
    "* `min(a, b, ...)` et `max(a, b, ...)`\n",
    "* `int(b)` : Transforme en entier (utile pour transformer une chaine de caractère `\"1\"` en entier `1`)\n",
    "* `float(b)` : Transforme en flottant (utile pour transformer une chaine de caractère `\"1.23\"` en flottant `1.23`)\n",
    "* `str(a)` : Transforme (un nombre) en une chaine de caractère. Utile pour afficher un nombre dans une phrase.\n",
    "* `type(a)` : Renvoie le type de la variable.\n",
    "* `help(nom_fonction)` : Affiche l'aide d'une fonction.\n",
    "\n",
    "### Les modules supplémentaires\n",
    "Des fonctions supplémentaires (entre autre) sont contenus dans des modules (ou bibliothèques) qui nécessitent d'être importés. Les méthodes d'importations sont :\n",
    "\n",
    "````{tabbed} Importation dans l'espace standard\n",
    "```{code-block} ipython3\n",
    "from math import *\n",
    "```\n",
    "\n",
    "On importe toutes les fonctions du modules dans l'espace standard. La fonction `sin` du module `math` est appelé par :\n",
    "```{code-block} ipython3\n",
    "sin(3.14)\n",
    "```\n",
    "````\n",
    "\n",
    "````{tabbed} Importation dans un espace nommé\n",
    "```{code-block} ipython3\n",
    "import math as mt\n",
    "```\n",
    "\n",
    "On importe toutes les fonctions du modules dans un espace nommé (ici `mt`). La fonction `sin` du module `math` est appelé par :\n",
    "```{code-block} ipython3\n",
    "mt.sin(3.14)\n",
    "```\n",
    "````\n",
    "\n",
    "```{important}\n",
    "Si on vous donne un programme déjà partiellement écrit, pensez à regarder comment le module a été importé pour utiliser correctement les fonctions du module.\n",
    "```\n",
    "\n",
    "## Créer sa fonction\n",
    "\n",
    "### Un exemple"
   ]
  },
  {
   "cell_type": "code",
   "execution_count": 2,
   "id": "opponent-fellow",
   "metadata": {},
   "outputs": [],
   "source": [
    "def somme3(arg1, arg2, arg3):\n",
    "\t\"\"\"\n",
    "\tIci le corps de la fonction, par exemple on ajoute les trois arguments\n",
    "\tet on assigne le résultat à la variable total\n",
    "\t\"\"\"\n",
    "\ttotal = arg1 + arg2 + arg3\n",
    "\t# Ne pas oublier de renvoyer la valeur\n",
    "\treturn total"
   ]
  },
  {
   "cell_type": "markdown",
   "id": "mounted-catalyst",
   "metadata": {},
   "source": [
    "### Structure d'une fonction\n",
    "Les instructions ci-dessous sont le minimum dans une fonction :\n",
    "* le mot-clé `def` est indispensable et le `:` à la fin aussi.\n",
    "* __L'indentation (décalage du corps de la fonction vers la droite) est obligatoire en Python.__\n",
    "* choisir un nom de fonction (ici `somme3`) explicite (les règles de nommage sont les mêmes que pour les variables)\n",
    "* Le nom des arguments `arg1, ...` sera celui utilisé _dans_ le bloc d'instruction de la fonction. `arg1` n'existe pas en dehors de la fonction.\n",
    "* pensez au `return` sans quoi votre fonction ne renverra rien... Ici, on pourra accéder contenu de la variable `total` en dehors de la fonction.\n",
    "\n",
    "```{margin}\n",
    "Il peut arriver qu'une fonction ne prennent aucun argument ou ne renvoie rien. Mais c'est prévu par le concepteur de la fonction.\n",
    "```\n",
    "\n",
    "\n",
    "### Pensez à commenter votre fonction pour qu'elle soit compréhensible.\n",
    "Tout est dans le titre...\n",
    "\n",
    "### Créer n'est pas appeler.\n",
    "La cellule précédente a créé la fonction mais n'a pas _utilisé la fonction_ (on dit __appeler la fonction__). Une fois créée, il faut encore l'appeler pour qu'elle soit exécuter dans un programme. L'appel de la fonction se fait comme pour une fonction native."
   ]
  },
  {
   "cell_type": "code",
   "execution_count": 3,
   "id": "embedded-morning",
   "metadata": {},
   "outputs": [
    {
     "name": "stdout",
     "output_type": "stream",
     "text": [
      "6\n"
     ]
    }
   ],
   "source": [
    "\"\"\" On appelle la fonction qu'on vient de créer précédemment\"\"\"\n",
    "toti = somme3(1, 2, 3)  # On appelle la fonction et on stocke son retour dans la variable toti\n",
    "print(toti)"
   ]
  }
 ],
 "metadata": {
  "jupytext": {
   "encoding": "# -*- coding: utf-8 -*-",
   "formats": "ipynb,md:myst",
   "split_at_heading": true,
   "text_representation": {
    "extension": ".md",
    "format_name": "myst",
    "format_version": 0.13,
    "jupytext_version": "1.10.3"
   }
  },
  "kernelspec": {
   "display_name": "Python 3",
   "language": "python",
   "name": "python3"
  },
  "language_info": {
   "codemirror_mode": {
    "name": "ipython",
    "version": 3
   },
   "file_extension": ".py",
   "mimetype": "text/x-python",
   "name": "python",
   "nbconvert_exporter": "python",
   "pygments_lexer": "ipython3",
   "version": "3.9.2"
  },
  "source_map": [
   15,
   39,
   43,
   89,
   98,
   119
  ]
 },
 "nbformat": 4,
 "nbformat_minor": 5
}