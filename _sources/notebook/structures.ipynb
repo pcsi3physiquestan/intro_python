{
 "cells": [
  {
   "cell_type": "markdown",
   "id": "optional-programmer",
   "metadata": {},
   "source": [
    "# Blocs d'instructions.\n",
    "On distingue deux blocs d'instructions :\n",
    "* les instructions conditionnelles\n",
    "* les instructions itératives (boucles)\n",
    "\n",
    "## Instructions conditionnelles\n",
    "\n",
    "### Un exemple pas très utile..."
   ]
  },
  {
   "cell_type": "code",
   "execution_count": 1,
   "id": "anticipated-consumption",
   "metadata": {},
   "outputs": [
    {
     "name": "stdout",
     "output_type": "stream",
     "text": [
      "La longueur de la liste est supérieure à 3\n"
     ]
    }
   ],
   "source": [
    "L = [1, 4, 9, 2, 1]\n",
    "\n",
    "if len(L) < 3:\n",
    "\tprint(\"La longueur de la liste est inférieure à 3\")\n",
    "else:\n",
    "\tprint(\"La longueur de la liste est supérieure à 3\")"
   ]
  },
  {
   "cell_type": "markdown",
   "id": "premium-castle",
   "metadata": {},
   "source": [
    "### Syntaxe\n",
    "La syntaxe :\n",
    "* Premiere condition à tester : `if condition :`. Le `:` est obligatoire.\n",
    "* Deuxième condition à tester : `elif condition :`\n",
    "* Bloc de fin : `else:` (facultatif)\n",
    "* Sous chaque condition : __le bloc d'instruction à exécuter sous condition doit être indenté__.\n",
    "\n",
    "### Les conditions\n",
    "Un condition renvoie un booléen `True ` ou `False`. Exemples de condition :\n",
    "* Egalité : `==` (__pas `=`__)\n",
    "* Inégalité : `<, >, <=, >=`\n",
    "* Appartenance à une liste : `3 in L` (renvoie True si `3` est un élément de la liste `L`)\n",
    "\n",
    "### Un autre exemple"
   ]
  },
  {
   "cell_type": "code",
   "execution_count": 2,
   "id": "combined-sociology",
   "metadata": {},
   "outputs": [
    {
     "name": "stdout",
     "output_type": "stream",
     "text": [
      "9\n",
      "16\n",
      "1000\n"
     ]
    }
   ],
   "source": [
    "\"\"\" \n",
    "On va utiliser les instructions conditionnelles pour créer une fonction mathématique par morceaux\n",
    "\"\"\"\n",
    "def fonction_morceau(x):\n",
    "\tif x < 3:  # Si x < 3\n",
    "\t\ta = x - 4\n",
    "\telif x < 5:  # Si 3 <= x < 5\n",
    "\t\ta = x ** 2\n",
    "\telse:  # Si x >=5\n",
    "\t\tb = x + 4\n",
    "\t\ta = b ** 3\n",
    "\treturn a\n",
    "\n",
    "print(fonction_morceau(3))\n",
    "print(fonction_morceau(4))\n",
    "print(fonction_morceau(6))"
   ]
  },
  {
   "cell_type": "markdown",
   "id": "toxic-skirt",
   "metadata": {},
   "source": [
    "```{margin}\n",
    "L'exemple précédent montre que si le premier test est vrai, les tests suivant n'auront pas lieu, on sort du bloc conditionnel. Idem si le second test est vrai, on n'exécute pas le `else`.\n",
    "```\n",
    "\n",
    "## Instructions itératives.\n",
    "Les boucles permettent de réaliser plusieurs fois la même série d'instructions. On distingue deux types de boucles :\n",
    "* les boucles bornées (`for`) : on sait quand la boucle va s'arrêter.\n",
    "* les boucles non bornées (`while`) : on impose une condition d'arrêt de la boucle sans savoir quand elle sera réalisée.\n",
    "\n",
    "### Boucle for\n",
    "\n",
    "#### Un exemple \n",
    "\n",
    "(exemple-for)="
   ]
  },
  {
   "cell_type": "code",
   "execution_count": 3,
   "id": "royal-persian",
   "metadata": {},
   "outputs": [
    {
     "name": "stdout",
     "output_type": "stream",
     "text": [
      "1\n",
      "9\n",
      "25\n",
      "49\n",
      "81\n"
     ]
    }
   ],
   "source": [
    "L = [1, 3, 5, 7, 9]\n",
    "\n",
    "for n in L:\n",
    "\tprint(n**2)"
   ]
  },
  {
   "cell_type": "markdown",
   "id": "uniform-principal",
   "metadata": {},
   "source": [
    "#### Syntaxe\n",
    "* Début de la boucle : `for variable_d_iteration in objet_iterable:` : le `:` est obligatoire\n",
    "* Eviter d'utiliser comme `variable_d_iteration` une variable qui existe déjà.\n",
    "* Un `objet_iterable` est un objet qui contient plusieurs éléments et qui peut être parcouru (itéré). La `variable_d_iteration` prendre comme valeur à chaque tour de boucle les différents éléments. Pour nous les `objet_iterable` sont :\n",
    "    * les listes\n",
    "    * les vecteurs numpy (cf. suite)\n",
    "    * des objets crée pour la boucle comme `range(5)` qui va créer une sorte de \"liste\" [0, 1, 2, 3, 4]\n",
    "* Le corps de la boucle (série d'instruction à exécuter en boucle) doit __être indenté__.\n",
    "\n",
    "#### Exemple\n",
    "* A partir d'une liste déjà créée : cf. l'[exemple précédent](exemple-for).\n",
    "* On utilise `range(n)` :"
   ]
  },
  {
   "cell_type": "code",
   "execution_count": 4,
   "id": "underlying-initial",
   "metadata": {},
   "outputs": [
    {
     "name": "stdout",
     "output_type": "stream",
     "text": [
      "0\n",
      "1\n",
      "4\n",
      "9\n"
     ]
    }
   ],
   "source": [
    "for n in range(4):  # On aura donc n=0, n=1, n=2, n=3 et on sort de la boucle\n",
    "\tprint(n**2)"
   ]
  },
  {
   "cell_type": "markdown",
   "id": "incorporate-trigger",
   "metadata": {},
   "source": [
    "```{important}\n",
    "La \"liste\" créée par `range(n)` commence à 0 et s'arrête à __n-1__\n",
    "```\n",
    "\n",
    "\n",
    "\n",
    "### Boucle while\n",
    "#### Un exemple"
   ]
  },
  {
   "cell_type": "code",
   "execution_count": 5,
   "id": "stock-douglas",
   "metadata": {},
   "outputs": [
    {
     "name": "stdout",
     "output_type": "stream",
     "text": [
      "0\n",
      "1\n",
      "8\n",
      "27\n"
     ]
    }
   ],
   "source": [
    "i = 0  # Initialisation\n",
    "while i < 4:\n",
    "\tprint(i ** 3)\n",
    "\ti = i + 1  # Incrémentation"
   ]
  },
  {
   "cell_type": "markdown",
   "id": "controlled-vatican",
   "metadata": {},
   "source": [
    "#### Syntaxe\n",
    "* __Initialisation__ : Une boucle nécessite en général une initialisation (précédemment définir le `i` et lui donner une valeur de départ).\n",
    "* `while condition:` : le `:` est obligatoire\n",
    "* le bloc d'instruction __doit être indenté__.\n",
    "* le bloc d'instruction __doit contenir une instruction qui modifie la condition__ : sinon on crée un boucle infinie ! (précédemment, l'incrémentation modifie la valeur de `i` et donc la condition).\n",
    "\n",
    "```{margin}\n",
    "Un microcontrolleur (comme Arduino) est programmé avec une boucle infinie pour réaliser sans fin les instructions qu'on lui a donné. Dans nos programmes, on le fera rarement...\n",
    "```\n",
    "\n",
    "#### Exemple"
   ]
  },
  {
   "cell_type": "code",
   "execution_count": 6,
   "id": "selective-bicycle",
   "metadata": {},
   "outputs": [
    {
     "name": "stdout",
     "output_type": "stream",
     "text": [
      "[0, 1, 4, 9]\n"
     ]
    }
   ],
   "source": [
    "\"\"\"On va remplir une liste avec le carré des entiers n tant que n^2 - 2n < 5.\n",
    "On ne peut utiliser une boucle for car on ne sait pas jusqu'à quel n aller.\n",
    "\"\"\"\n",
    "N = 5\n",
    "\n",
    "\"\"\" Initialisation de la boucle \"\"\"\n",
    "l = []  # Création de la liste qu'on va remplir\n",
    "n = 0  # Initialisation des entiers.\n",
    "\n",
    "while n**2 - 2*n < N:  # Condition à vérifier\n",
    "\tl.append(n**2)  # Importance de l'initialisation : sinon on ne peut ajouter de valeur à la liste.\n",
    "\tn = n + 1  # Sans l'incrémentation, n garde la même valeur et la boucle est infinie.\n",
    "\n",
    "print(l)"
   ]
  }
 ],
 "metadata": {
  "jupytext": {
   "encoding": "# -*- coding: utf-8 -*-",
   "formats": "ipynb,md:myst",
   "split_at_heading": true,
   "text_representation": {
    "extension": ".md",
    "format_name": "myst",
    "format_version": 0.13,
    "jupytext_version": "1.10.3"
   }
  },
  "kernelspec": {
   "display_name": "Python 3",
   "language": "python",
   "name": "python3"
  },
  "language_info": {
   "codemirror_mode": {
    "name": "ipython",
    "version": 3
   },
   "file_extension": ".py",
   "mimetype": "text/x-python",
   "name": "python",
   "nbconvert_exporter": "python",
   "pygments_lexer": "ipython3",
   "version": "3.9.2"
  },
  "source_map": [
   15,
   25,
   32,
   49,
   66,
   82,
   87,
   102,
   105,
   115,
   120,
   133
  ]
 },
 "nbformat": 4,
 "nbformat_minor": 5
}