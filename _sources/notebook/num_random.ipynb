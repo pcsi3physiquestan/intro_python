{
 "cells": [
  {
   "cell_type": "markdown",
   "id": "57def062",
   "metadata": {},
   "source": [
    "# La bibliothèque numpy.random\n",
    "La sous-bibliothèque `numpy.random` sera très utile en physique et en chimie pour les calculs d'incertitude (simulation de Monte-Carlo). Elle propose des fonctions qui permettent de simuler un tirage aléatoire suivant une loi choisi. On présente deux fonctions en particulier : `uniform` et `normal`.\n",
    "\n",
    "## Rappel : Importation de la bibliothèque"
   ]
  },
  {
   "cell_type": "code",
   "execution_count": 1,
   "id": "29a14632",
   "metadata": {},
   "outputs": [],
   "source": [
    "import numpy.random as rd  # Il est conseillé d'importer les bibliothèques au début de votre script\n",
    "\n",
    "\"\"\"On importe aussi les autres bibliothèques scientifiques qui vont être utiles\"\"\"\n",
    "import matplotlib.pyplot as plt\n",
    "import numpy as np\n"
   ]
  },
  {
   "cell_type": "markdown",
   "id": "7be62695",
   "metadata": {},
   "source": [
    "## Signature des fonctions usuelles\n",
    "On ne présente pas ici les loi de probabilités. Voici quelques informations :\n",
    "* [Loi uniforme - Wikipedia](https://fr.wikipedia.org/wiki/Loi_uniforme_continue)\n",
    "* [Loi normale (ou gaussienne) - Wikipedia](https://fr.wikipedia.org/wiki/Loi_normale)\n",
    "\n",
    "La syntaxe :\n",
    "* `rd.uniform(a, b, N)` va réaliser N tirages aléatoires suivant une loi uniforme entre les valeurs `a` et `b`.\n",
    "* `rd.normal(m, s, N)` va réaliser N tirages aléatoires suivant une loi normale d'espérance `m` et d'écart-type `s`\n",
    "\n",
    "```{note} \n",
    "Les deux fonctions renvoient un vecteur `numpy`\n",
    "```"
   ]
  },
  {
   "cell_type": "code",
   "execution_count": 2,
   "id": "823936d9",
   "metadata": {},
   "outputs": [
    {
     "name": "stdout",
     "output_type": "stream",
     "text": [
      "Wall time: 0 ns\n"
     ]
    },
    {
     "data": {
      "image/png": "[encoded data removed]",
      "text/plain": [
       "<Figure size 432x288 with 1 Axes>"
      ]
     },
     "metadata": {
      "filenames": {
       "image/png": "D:\\cedri\\Dropbox\\Enseignement prepas\\approche_numeriques\\intro_python\\_build\\jupyter_execute\\notebook\\num_random_3_1.png"
      },
      "needs_background": "light"
     },
     "output_type": "display_data"
    }
   ],
   "source": [
    "%time  # Permet d'afficher le temps d'exécution (pas à connaître). \n",
    "# On verra qu'on peut ainsi faire un grande nombre de simulation rapidement\n",
    "\n",
    "N = 1000000  # Nombre d'échantillons\n",
    "X1 = rd.uniform(-4, 6, N)  # Distribution uniforme entre -4 et 6\n",
    "X2 = rd.normal(8, 2, N)  # Distribution normale de moyenne 8 et d'écart-type 2\n",
    "\n",
    "f, ax = plt.subplots()\n",
    "ax.hist(X1, bins='rice', color='red', label='Distribution uniforme')\n",
    "ax.hist(X2, bins='rice', color='blue', label='Distribution normale')\n",
    "ax.legend()\n",
    "plt.show()\n"
   ]
  },
  {
   "cell_type": "markdown",
   "id": "fe8c8f3f",
   "metadata": {},
   "source": [
    "## Intérêt de la vectorialisation\n",
    "Les fonctions `uniform` et `normal` renvoient des _vecteurs numpy_. On __peut donc réaliser des opérations termes à termes entre deux vecteurs issus de ces fonctions.__\n",
    "\n",
    "````{admonition} Exemple\n",
    ":class: note\n",
    "On dispose de deux variables aléatoires $X_1$ et $X_2$ qui suivent deux lois :\n",
    "* $X_1$ suit une loi uniforme entre 2 et 4\n",
    "* $X_2$ suit une loi normale d'espérance 1 et d'écart-type 1.\n",
    "\n",
    "On désire connaître la loi que suit la variable définie par $Y = X_2 / X_1$. Pour le savoir, on va réaliser N tirages de $X_1$ et $X_2$ et évaluer leur rapport à chaque fois. On obtient ainsi N échantillons simulés de $Y$ dont on va tracer l'histogramme.\n",
    "````"
   ]
  },
  {
   "cell_type": "code",
   "execution_count": 3,
   "id": "8bfca9c1",
   "metadata": {},
   "outputs": [
    {
     "data": {
      "image/png": "[encoded data removed]",
      "text/plain": [
       "<Figure size 432x288 with 1 Axes>"
      ]
     },
     "metadata": {
      "filenames": {
       "image/png": "D:\\cedri\\Dropbox\\Enseignement prepas\\approche_numeriques\\intro_python\\_build\\jupyter_execute\\notebook\\num_random_5_0.png"
      },
      "needs_background": "light"
     },
     "output_type": "display_data"
    }
   ],
   "source": [
    "N = 1000000\n",
    "X1 = rd.uniform(2, 4, N)  # N simulations de X1\n",
    "X2 = rd.normal(1, 1, N)  # N simulations de X2\n",
    "Y = X2 / X1  # On utilise la vectorialisation des opérations pour estimer Y\n",
    "\n",
    "f, ax = plt.subplots()\n",
    "ax.hist(Y, bins='rice', color='red', label='Y = X2 / X1')\n",
    "ax.legend()\n",
    "plt.show()"
   ]
  },
  {
   "cell_type": "markdown",
   "id": "3bf2d66d",
   "metadata": {},
   "source": [
    "```{note}\n",
    "Ce principe consistant à simuler ungrand nombre de tirages des $X_i$ pour obtenir la distribution de $Y$ puis sa valeur moyenne et son écart-type s'appelle __simulation de Monte-Carlo__. Elle sera utilisée en physique et en chimie pour estimer des incertitudes de mesure.\n",
    "```\n",
    "\n",
    "## Caractéristique d'une distribution\n",
    "`numpy` permet aussi de remonter à des grandeurs utiles sur une distribution statistique : sa moyenne et son écart-type. Ces fonctions seront aussi utiles avec des données expérimentales.\n",
    "\n",
    "* `mean(vec)` renvoie la moyenne des éléments du vecteur numpy `vec`\n",
    "* `std(vec, ddof=1)` renvoie l'écart-type des éléments du vecteur numpy `vec`\n",
    "\n",
    "```{margin}\n",
    "On ne rentre pas les détails, mais l'option `ddof=1` est importante sinon le calcul de  `std` ne sera pas correct.\n",
    "```\n",
    "\n",
    "## Pour vous entraîner\n",
    "Voici le [lien vers les exercices pour vous entraîner sur l'importation et l'utilisation de la bibliothèque random](https://pcsi3physiquestan.github.io/intro_python_td/notebook/exo_science_2.html)"
   ]
  }
 ],
 "metadata": {
  "jupytext": {
   "encoding": "# -*- coding: utf-8 -*-",
   "formats": "ipynb,md:myst",
   "split_at_heading": true,
   "text_representation": {
    "extension": ".md",
    "format_name": "myst",
    "format_version": 0.13,
    "jupytext_version": "1.10.3"
   }
  },
  "kernelspec": {
   "display_name": "Python 3",
   "language": "python",
   "name": "python3"
  },
  "language_info": {
   "codemirror_mode": {
    "name": "ipython",
    "version": 3
   },
   "file_extension": ".py",
   "mimetype": "text/x-python",
   "name": "python",
   "nbconvert_exporter": "python",
   "pygments_lexer": "ipython3",
   "version": "3.7.12"
  },
  "source_map": [
   15,
   21,
   28,
   43,
   57,
   71,
   81
  ]
 },
 "nbformat": 4,
 "nbformat_minor": 5
}