{
 "cells": [
  {
   "cell_type": "markdown",
   "id": "reliable-fireplace",
   "metadata": {},
   "source": [
    "# Instructions conditionnelles\n",
    "\n",
    "## Un exemple pas très utile..."
   ]
  },
  {
   "cell_type": "code",
   "execution_count": 1,
   "id": "union-legislation",
   "metadata": {},
   "outputs": [
    {
     "name": "stdout",
     "output_type": "stream",
     "text": [
      "La longueur de la liste est supérieure à 3\n"
     ]
    }
   ],
   "source": [
    "L = [1, 4, 9, 2, 1]\n",
    "\n",
    "if len(L) < 3:\n",
    "\tprint(\"La longueur de la liste est inférieure à 3\")\n",
    "else:\n",
    "\tprint(\"La longueur de la liste est supérieure à 3\")"
   ]
  },
  {
   "cell_type": "markdown",
   "id": "female-overhead",
   "metadata": {},
   "source": [
    "## Syntaxe\n",
    "La syntaxe :\n",
    "* Premiere condition à tester : `if condition :`. Le `:` est obligatoire.\n",
    "* Deuxième condition à tester : `elif condition :`\n",
    "* Bloc de fin : `else:` (facultatif)\n",
    "* Sous chaque condition : __le bloc d'instruction à exécuter sous condition doit être indenté__.\n",
    "\n",
    "## Les conditions\n",
    "Un condition renvoie un booléen `True ` ou `False`. Exemples de condition :\n",
    "* Egalité : `==` (__pas `=`__)\n",
    "* Inégalité : `<, >, <=, >=`\n",
    "* Appartenance à une liste : `3 in L` (renvoie True si `3` est un élément de la liste `L`)\n",
    "* Négation : `not(condition_a_nier)`\n",
    "* Ou et Et : `(condition 1) and (condition 2)`; `(condition 1) or (condition 2)`\n",
    "\n",
    "## Un autre exemple"
   ]
  },
  {
   "cell_type": "code",
   "execution_count": 2,
   "id": "special-finance",
   "metadata": {},
   "outputs": [
    {
     "name": "stdout",
     "output_type": "stream",
     "text": [
      "9\n",
      "16\n",
      "1000\n"
     ]
    }
   ],
   "source": [
    "\"\"\" \n",
    "On va utiliser les instructions conditionnelles pour créer une fonction mathématique par morceaux\n",
    "\"\"\"\n",
    "def fonction_morceau(x):\n",
    "\tif x < 3:  # Si x < 3\n",
    "\t\ta = x - 4\n",
    "\telif x < 5:  # Si 3 <= x < 5\n",
    "\t\ta = x ** 2\n",
    "\telse:  # Si x >=5\n",
    "\t\tb = x + 4\n",
    "\t\ta = b ** 3\n",
    "\treturn a\n",
    "\n",
    "print(fonction_morceau(3))\n",
    "print(fonction_morceau(4))\n",
    "print(fonction_morceau(6))"
   ]
  },
  {
   "cell_type": "markdown",
   "id": "developed-switzerland",
   "metadata": {},
   "source": [
    "```{margin}\n",
    "L'exemple précédent montre que si le premier test est vrai, les tests suivant n'auront pas lieu, on sort du bloc conditionnel. Idem si le second test est vrai, on n'exécute pas le `else`.\n",
    "```"
   ]
  }
 ],
 "metadata": {
  "jupytext": {
   "encoding": "# -*- coding: utf-8 -*-",
   "formats": "ipynb,md:myst",
   "split_at_heading": true,
   "text_representation": {
    "extension": ".md",
    "format_name": "myst",
    "format_version": 0.13,
    "jupytext_version": "1.10.3"
   }
  },
  "kernelspec": {
   "display_name": "Python 3",
   "language": "python",
   "name": "python3"
  },
  "language_info": {
   "codemirror_mode": {
    "name": "ipython",
    "version": 3
   },
   "file_extension": ".py",
   "mimetype": "text/x-python",
   "name": "python",
   "nbconvert_exporter": "python",
   "pygments_lexer": "ipython3",
   "version": "3.9.2"
  },
  "source_map": [
   15,
   20,
   27,
   46,
   63
  ]
 },
 "nbformat": 4,
 "nbformat_minor": 5
}