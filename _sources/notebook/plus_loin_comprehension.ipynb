{
 "cells": [
  {
   "cell_type": "markdown",
   "id": "20b2ed46",
   "metadata": {},
   "source": [
    "Certains points abordés ici serviront très peu ou seront abordés pendant l'année. Il s'agit d'approfondissement pour ceux qui ont déjà bien compris les parties précédentes."
   ]
  },
  {
   "cell_type": "code",
   "execution_count": 1,
   "id": "429fade3",
   "metadata": {},
   "outputs": [],
   "source": [
    "\"\"\"On importe les bibliothèques scientifiques car elles seront utilisées ensuite\"\"\"\n",
    "import numpy as np\n",
    "import matplotlib.pyplot as plt\n"
   ]
  },
  {
   "cell_type": "markdown",
   "id": "775b0714",
   "metadata": {},
   "source": [
    "# La compréhension des listes"
   ]
  },
  {
   "cell_type": "markdown",
   "id": "2761499e",
   "metadata": {},
   "source": [
    "## Position du problème\n",
    "On a vu que les listes classiques ne permettaient pas d'appliquer une fonction `f` à chaque élément en écrivant `f(L)` (`L` étant une liste classique). Cela a motivé l'utilisation des listes numpy. Néanmoins :\n",
    "* On est quelques fois obligé d'utiliser les listes classiques\n",
    "* La syntaxe `f(L)` ne fonctionne que si `f` est _vectorialisable_, c'est-à-dire programmée pour pouvoir s'appliquer à chaque élément.\n",
    "\n",
    "```{admonition} Fonctions et opérateurs vectorialisables\n",
    ":class: tip\n",
    "Non exhaustif :\n",
    "* Les opérateurs classiues `+,-,/,*` sont vectorialisables\n",
    "* Les fonctions de la bibliothèques numpy (sin, cos, exp...) sont vectorialisables.\n",
    "```\n",
    "\n",
    "Un exemple fréquent est quand la fonction `f` fait appelle à un structure conditionnelle qui n'est pas vectorialisable. On reprend la fonction définie par morceau :"
   ]
  },
  {
   "cell_type": "code",
   "execution_count": 2,
   "id": "8a327117",
   "metadata": {},
   "outputs": [],
   "source": [
    "def fonction_morceau(x):\n",
    "  if x < 3:  # Si x < 3\n",
    "    a = x - 4\n",
    "  elif x < 5:  # Si 3 <= x < 5\n",
    "    a = x ** 2\n",
    "  else:  # Si x >=5\n",
    "    b = x + 4\n",
    "    a = b ** 3\n",
    "  return a"
   ]
  },
  {
   "cell_type": "markdown",
   "id": "9b5669d3",
   "metadata": {},
   "source": [
    "Impossible de l'appliquer directement à un vecteur numpy (pour la tracer par exemple:"
   ]
  },
  {
   "cell_type": "code",
   "execution_count": 3,
   "id": "daf6c8ab",
   "metadata": {},
   "outputs": [
    {
     "ename": "ValueError",
     "evalue": "The truth value of an array with more than one element is ambiguous. Use a.any() or a.all()",
     "output_type": "error",
     "traceback": [
      "\u001b[1;31m---------------------------------------------------------------------------\u001b[0m",
      "\u001b[1;31mValueError\u001b[0m                                Traceback (most recent call last)",
      "\u001b[1;32m~\\AppData\\Local\\Temp/ipykernel_3664/4177233307.py\u001b[0m in \u001b[0;36m<module>\u001b[1;34m\u001b[0m\n\u001b[0;32m      1\u001b[0m \u001b[0mx\u001b[0m \u001b[1;33m=\u001b[0m \u001b[0mnp\u001b[0m\u001b[1;33m.\u001b[0m\u001b[0mlinspace\u001b[0m\u001b[1;33m(\u001b[0m\u001b[1;36m0\u001b[0m\u001b[1;33m,\u001b[0m \u001b[1;36m15\u001b[0m\u001b[1;33m,\u001b[0m \u001b[1;36m1000\u001b[0m\u001b[1;33m)\u001b[0m  \u001b[1;31m# Vecteur de 1000 valeurs entre 0 et 15\u001b[0m\u001b[1;33m\u001b[0m\u001b[1;33m\u001b[0m\u001b[0m\n\u001b[1;32m----> 2\u001b[1;33m \u001b[0my\u001b[0m \u001b[1;33m=\u001b[0m \u001b[0mfonction_morceau\u001b[0m\u001b[1;33m(\u001b[0m\u001b[0mx\u001b[0m\u001b[1;33m)\u001b[0m\u001b[1;33m\u001b[0m\u001b[1;33m\u001b[0m\u001b[0m\n\u001b[0m",
      "\u001b[1;32m~\\AppData\\Local\\Temp/ipykernel_3664/840554964.py\u001b[0m in \u001b[0;36mfonction_morceau\u001b[1;34m(x)\u001b[0m\n\u001b[0;32m      1\u001b[0m \u001b[1;32mdef\u001b[0m \u001b[0mfonction_morceau\u001b[0m\u001b[1;33m(\u001b[0m\u001b[0mx\u001b[0m\u001b[1;33m)\u001b[0m\u001b[1;33m:\u001b[0m\u001b[1;33m\u001b[0m\u001b[1;33m\u001b[0m\u001b[0m\n\u001b[1;32m----> 2\u001b[1;33m   \u001b[1;32mif\u001b[0m \u001b[0mx\u001b[0m \u001b[1;33m<\u001b[0m \u001b[1;36m3\u001b[0m\u001b[1;33m:\u001b[0m  \u001b[1;31m# Si x < 3\u001b[0m\u001b[1;33m\u001b[0m\u001b[1;33m\u001b[0m\u001b[0m\n\u001b[0m\u001b[0;32m      3\u001b[0m     \u001b[0ma\u001b[0m \u001b[1;33m=\u001b[0m \u001b[0mx\u001b[0m \u001b[1;33m-\u001b[0m \u001b[1;36m4\u001b[0m\u001b[1;33m\u001b[0m\u001b[1;33m\u001b[0m\u001b[0m\n\u001b[0;32m      4\u001b[0m   \u001b[1;32melif\u001b[0m \u001b[0mx\u001b[0m \u001b[1;33m<\u001b[0m \u001b[1;36m5\u001b[0m\u001b[1;33m:\u001b[0m  \u001b[1;31m# Si 3 <= x < 5\u001b[0m\u001b[1;33m\u001b[0m\u001b[1;33m\u001b[0m\u001b[0m\n\u001b[0;32m      5\u001b[0m     \u001b[0ma\u001b[0m \u001b[1;33m=\u001b[0m \u001b[0mx\u001b[0m \u001b[1;33m**\u001b[0m \u001b[1;36m2\u001b[0m\u001b[1;33m\u001b[0m\u001b[1;33m\u001b[0m\u001b[0m\n",
      "\u001b[1;31mValueError\u001b[0m: The truth value of an array with more than one element is ambiguous. Use a.any() or a.all()"
     ]
    }
   ],
   "source": [
    "x = np.linspace(0, 15, 1000)  # Vecteur de 1000 valeurs entre 0 et 15\n",
    "y = fonction_morceau(x)\n"
   ]
  },
  {
   "cell_type": "markdown",
   "id": "347ba6da",
   "metadata": {},
   "source": [
    "`The truth value of an array with more than one element is ambiguous.` : Le message est clair : il cherche à travailler sur le vecteur et non sur chaque élément."
   ]
  },
  {
   "cell_type": "markdown",
   "id": "f7c350d1",
   "metadata": {},
   "source": [
    "## Première solution\n",
    "On peut écrire une boucle classique qui parcout tous les éléments de `x` et leur applique `fonction_morceau` :"
   ]
  },
  {
   "cell_type": "code",
   "execution_count": 4,
   "id": "6a0cbe46",
   "metadata": {},
   "outputs": [
    {
     "data": {
      "image/png": "[encoded data removed]",
      "text/plain": [
       "<Figure size 432x288 with 1 Axes>"
      ]
     },
     "metadata": {
      "filenames": {
       "image/png": "D:\\cedri\\Dropbox\\Enseignement prepas\\approche_numeriques\\intro_python\\_build\\jupyter_execute\\notebook\\plus_loin_comprehension_9_0.png"
      },
      "needs_background": "light"
     },
     "output_type": "display_data"
    }
   ],
   "source": [
    "x = np.linspace(0, 15, 1000)\n",
    "y = np.zeros(len(x))  # On crée un vecteur nul qu'on va remplir\n",
    "\n",
    "for i in range(len(x)):  # i prendra les indices de 0 à len(x) - 1\n",
    "  y[i] = fonction_morceau(x[i])  # On remplit l'élément d'indice i\n",
    "\n",
    "\n",
    "\"\"\"On peut même le tracer\"\"\"\n",
    "f, ax = plt.subplots()  # On ne va pas légender le graphique puisqu'il n'y a pas de contexte ici.\n",
    "ax.plot(x, y)\n",
    "\n",
    "plt.show()\n"
   ]
  },
  {
   "cell_type": "markdown",
   "id": "e7f2cd42",
   "metadata": {},
   "source": [
    "## Utilisation de la compréhension des listes.\n",
    "Une __liste en compréhension__ est une liste qui est obtenue par action (et/ou filtrage) de chaque élément d'une autre liste. La syntaxe est simple :\n",
    "\n",
    "```python\n",
    "L1 = [fonction(x) for x in L]  # L est une liste et L1 la nouvelle liste en compréhension\n",
    "```\n",
    "\n",
    "La syntaxe est assez clair : \"Applique la `fonction` à `x` pour `x` qui parcourt chaque élément de `L`\"\n",
    "\n",
    "```{margin}\n",
    "Ca fonction si `L` est un vecteur `numpy`\n",
    "\n",
    "```\n",
    "\n",
    "````{attention}\n",
    "Cette méthode renvoie une liste __classique__, pas un vecteur `numpy`. Si vous voulez obtenir un vecteur numpy, il faudra utiliser la fonction `array` :\n",
    "```python\n",
    "L1 = np.array([fonction(x) for x in L])\n",
    "```\n",
    "````\n",
    "\n",
    "A titre d'exemple :"
   ]
  },
  {
   "cell_type": "code",
   "execution_count": 5,
   "id": "9c292d45",
   "metadata": {},
   "outputs": [
    {
     "data": {
      "image/png": "[encoded data removed]",
      "text/plain": [
       "<Figure size 432x288 with 1 Axes>"
      ]
     },
     "metadata": {
      "filenames": {
       "image/png": "D:\\cedri\\Dropbox\\Enseignement prepas\\approche_numeriques\\intro_python\\_build\\jupyter_execute\\notebook\\plus_loin_comprehension_11_0.png"
      },
      "needs_background": "light"
     },
     "output_type": "display_data"
    }
   ],
   "source": [
    "x = np.linspace(0, 15, 1000)\n",
    "y = np.array([fonction_morceau(i) for i in x])\n",
    "\n",
    "\n",
    "\"\"\"On peut même le tracer\"\"\"\n",
    "f, ax = plt.subplots()  # On ne va pas légender le graphique puisqu'il n'y a pas de contexte ici.\n",
    "ax.plot(x, y)\n",
    "\n",
    "plt.show()\n"
   ]
  },
  {
   "cell_type": "markdown",
   "id": "a739a9d0",
   "metadata": {},
   "source": [
    "```{margin}\n",
    "On peut aussi filtrer la liste pour n'appliquer `fonction(x)` que sous certaines conditions :\n",
    "\n",
    "`[fonction(x) for x in L if x > 1]`\n",
    "\n",
    "```"
   ]
  }
 ],
 "metadata": {
  "jupytext": {
   "encoding": "# -*- coding: utf-8 -*-",
   "formats": "ipynb,md:myst",
   "split_at_heading": true,
   "text_representation": {
    "extension": ".md",
    "format_name": "myst",
    "format_version": 0.13,
    "jupytext_version": "1.10.3"
   }
  },
  "kernelspec": {
   "display_name": "Python 3",
   "language": "python",
   "name": "python3"
  },
  "language_info": {
   "codemirror_mode": {
    "name": "ipython",
    "version": 3
   },
   "file_extension": ".py",
   "mimetype": "text/x-python",
   "name": "python",
   "nbconvert_exporter": "python",
   "pygments_lexer": "ipython3",
   "version": "3.7.12"
  },
  "source_map": [
   15,
   19,
   24,
   28,
   44,
   54,
   58,
   62,
   66,
   71,
   87,
   112,
   123
  ]
 },
 "nbformat": 4,
 "nbformat_minor": 5
}