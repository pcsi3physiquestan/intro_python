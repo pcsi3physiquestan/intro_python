{
 "cells": [
  {
   "cell_type": "markdown",
   "id": "documentary-scout",
   "metadata": {},
   "source": [
    "# Environnement de développement.\n",
    "Un environnement de développement (IDE) est un logiciel permettant d'écrire du code Python et de l'interpréter grâce à l'interface du logiciel. Il existe de nombreux IDE pour Python. Celui conseillé pour l'instant est Pyzo, une présentation rapide a été donnée avec [le tutoriel sur l'installation de Pyzo](https://filedn.com/lykEJ3axFalJygD0EVAUyWS/Stan/Pyzo_Anaconda/Python_pyzo_insta_gen_auroraW/index.html).\n",
    "\n",
    "## Quelques bonnes pratiques.\n",
    "Vous serez amenés à créer des fichiers contenant vos scripts ou à récupérer des fichiers donnés par vos enseignants. Il est donc important de savoir où les enregistrer pour les utiliser sous Pyzo. L'organisation sera de plus importante lorsqu'il sera question de manipuler des fichiers de données expérimentales.\n",
    "\n",
    "Il est donc conseillé de créer un répertoire spécifique dans lequel vous enregistrerez vos fichiers. Pour cela, il suffit d'ouvrir l'_explorateur de fichiers_ (Windows) ou _Finder_ (MacOs) pour créer un répertoire.  __Préférez créer votre répertoire dans le répertoire `Documents` (ou `MesDocuments`)__, cela facilitera l'accès aux fichiers si vous êtes amenés plus tard à utiliser des logiciels comme Jupyter. Dans l'exemple ci-dessous, un dossier `python_prepa` a été créé dans `Documents`. _Plusieurs sous dossiers pour chaque matière ont été créés, à vous de vous organiser au mieux par la suite._\n",
    "\n",
    "![Dossier Python](./images/repertoire_python.jpg)\n",
    "\n",
    "# Indentation\n",
    "L'indentation est le décalage de certaines lignes de code appartenant au même bloc (corps d'une fonction, d'une boucle...). On décale (on indente) une ligne grâce à `Espace` (plusieurs fois) ou `Tab`.\n",
    "\n",
    "```{code-block}\n",
    "n = 10  # Code non indenté\n",
    "for i in range(n):  # Démarrage d'une boucle : le corps de la boucle doit être indenté\n",
    "    a = i ** 2  # Partie indenté\n",
    "    b = a + 2\n",
    "    print(b)  # Fin de la partie indenté (donc du bloc)\n",
    "```\n",
    "\n",
    "Dans beaucoup de langage, l'indentation est optionnelle pour rendre le code plus lisible. Dans Python, __elle est obligatoire__ pour définir l'ensemble d'instructions qui feront partie d'un même bloc (ensemble d'instruction d'une fonction par exemple). Les blocs (fonction, condition, boucle) seront présentés ensuite.\n",
    "\n",
    "\n",
    "\n",
    "# Les types et opérations usuelles.\n",
    "On ne décrit ici que les types simples et les opérations que nous utiliserons le plus. D'autres types plus particuliers ou issus de bibliothèques non standards seront présentés plus tard.\n",
    "\n",
    "```{tabbed} Les entiers\n",
    "Type : `int`\n",
    "Exemple : `3` ou `123543654` ou `-3465`\n",
    "\n",
    "Opérateur/Fonctions usuelles :\n",
    "* Addition : `3 + 4`\n",
    "* Soustraction : `3 - 4`\n",
    "* Multiplication : `3 * 4`\n",
    "* Division entière : `5 // 3` (renvoie 1)\n",
    "* Reste de la division euclidienne : `5 % 3` (renvoie 2)\n",
    "* Puissance : `3 ** 2` (renvoie 9)\n",
    "```\n",
    "\n",
    "````{tabbed} Les flottants (nombres réels)\n",
    "Type : `float`\n",
    "Exemple : `3.45`ou `3254.234` ou `-23.34` ou `3.` ou `-5.` (observez le `.` après le 3 et le 5).\n",
    "\n",
    "Opérateur/Fonctions usuelles :\n",
    "* Addition : `3.2 + 4.1`\n",
    "* Soustraction : `3. - 4.5`\n",
    "* Multiplication : `3.1 * 4.2`\n",
    "* Division : `3.3 / 4.`\n",
    "* Puissance : `3.3 ** 4.`\n",
    "\n",
    "```{note}\n",
    "Une opération entre un entier et un flottant est possible, elle renverra un flottant.\n",
    "```\n",
    "````\n",
    "\n",
    "\n",
    "```{tabbed} Les booléens (Vrai ou Faux)\n",
    "Type : `bool`\n",
    "Exemple : `True`, `False`\n",
    "\n",
    "Opérateur/Fonctions usuelles :\n",
    "* Négation : `not`\n",
    "* Ou : `or`\n",
    "* Et : `and`\n",
    "```\n",
    "\n",
    "````{tabbed} Les chaines de caractères\n",
    "Type : `str`\n",
    "Exemple : `\"Hello World !\"`, `\"Les guillemets sont importantes\"`, `'Ou des apostrophes'`\n",
    "\n",
    "Opérateur/Fonctions usuelles :\n",
    "* Concaténation : `\"Hello\" + \"World !\"` renvoie `\"HelloWorld !\"`\n",
    "* Longueur : `len(\"Hello\")` renvoie `5`\n",
    "* Transformer un nombre en chaine de caractère : `str(345.2)` renvoie la chaine de caractère `\"345.2\"`\n",
    "* Accès à un caractère : `\"Hello\"[0]` renvoie `\"H\"`, `\"Hello\"[4]` renvoie `\"o\"`,\n",
    "\n",
    "```{attention}\n",
    "La position des caractères commence à 0 et non à 1\n",
    "```\n",
    "\n",
    "````\n",
    "\n",
    "Il existe aussi d'autres fonctions générales qui s'appliquent sur les différents types comme `print(...)` qui sert à afficher l'objet considéré.\n",
    "\n",
    "# Variables et affection\n",
    "Une variable est un élément servant à stocker des données dans un espace mémoire dédié.\n",
    "\n",
    "## Affection\n",
    "On utilise le signal `=`. Ci dessous l'affection de l'entier `1` dans la variable `a`"
   ]
  },
  {
   "cell_type": "code",
   "execution_count": 1,
   "id": "postal-briefs",
   "metadata": {
    "tags": [
     "remove-output"
    ]
   },
   "outputs": [],
   "source": [
    "a = 1"
   ]
  },
  {
   "cell_type": "markdown",
   "id": "vulnerable-backing",
   "metadata": {},
   "source": [
    "```{important}\n",
    "Affecter n'est pas afficher. Si vous voulez afficher le contenu d'une variable, il faut utiliser la fonction `print(nom_de_variable)`.\n",
    "```\n",
    "\n",
    "## Manipulation\n",
    "Une variable peut être utilisée par les opérateurs et fonctions associées au type de la données stockées. Par exemple, avec des flottants :"
   ]
  },
  {
   "cell_type": "code",
   "execution_count": 2,
   "id": "respected-ecology",
   "metadata": {},
   "outputs": [
    {
     "name": "stdout",
     "output_type": "stream",
     "text": [
      "24.599999999999998\n"
     ]
    }
   ],
   "source": [
    "longueur = 8.2  # Affection du flottant 8.2 dans la variable longueur\n",
    "largeur = 3  # Affection de l'entier 3 dans la variable largeur\n",
    "aire = longueur * largeur  # Calcul du produit. aire est un flottant\n",
    "print(aire)  # On affiche la valeur calculée."
   ]
  },
  {
   "cell_type": "markdown",
   "id": "distinguished-partnership",
   "metadata": {},
   "source": [
    "## Type d'une variable\n",
    "Pour connaître le type d'une variable, on utilise la fonction `type()` :"
   ]
  },
  {
   "cell_type": "code",
   "execution_count": 3,
   "id": "brazilian-organ",
   "metadata": {},
   "outputs": [
    {
     "name": "stdout",
     "output_type": "stream",
     "text": [
      "Le type de cette variable est : <class 'int'>\n",
      "Le type de cette variable est : <class 'float'>\n",
      "Le type de cette variable est : <class 'str'>\n",
      "Le type de cette variable est : <class 'bool'>\n"
     ]
    }
   ],
   "source": [
    "a = 3\n",
    "print(\"Le type de cette variable est : \" + str(type(a)))\n",
    "a = 3.34\n",
    "print(\"Le type de cette variable est : \" + str(type(a)))\n",
    "a = \"Une phrase !\"\n",
    "print(\"Le type de cette variable est : \" + str(type(a)))\n",
    "a = True\n",
    "print(\"Le type de cette variable est : \" + str(type(a)))"
   ]
  },
  {
   "cell_type": "markdown",
   "id": "hollywood-party",
   "metadata": {},
   "source": [
    "## Règles de nommage\n",
    "Un nom de variable :\n",
    "* peut contenir des lettres (minuscules ou majuscules), des chiffres, le caractère `_`\n",
    "* ne peut pas commencer par un chiffre\n",
    "* ne peut être un mot reservé par python (comme `print`) (Python renverra une erreur le cas échéant donc pas la peine d'apprendre ces mots par coeur !)\n",
    "\n",
    "# Les listes\n",
    "Les listes sont des objets Python un peu plus complexes qui permettent de stocker, un ensemble d'objets dans un ordre choisi.\n",
    "\n",
    "## Créer et manipuler une liste\n",
    "```{margin}\n",
    "`list` est une fonction dans Python, on évitera de l'utiliser comme nom de variable\n",
    "```\n",
    "\n",
    "* Créer une liste vide : `l = []`\n",
    "* Créer une liste à partir de données : `l = [3, \"phrase\", 4.2, \"teste\"]`\n",
    "* Ajouter un élément à une liste `l2` __à la fin__ : `l2.append(\"Un ajout\")`\n",
    "* Concaténer deux listes `l1` et `l3` : `l1 + l3`"
   ]
  },
  {
   "cell_type": "code",
   "execution_count": 4,
   "id": "amateur-knight",
   "metadata": {},
   "outputs": [
    {
     "name": "stdout",
     "output_type": "stream",
     "text": [
      "[]\n",
      "[3, 'phrase', 4.2, 'teste']\n",
      "[1, 2, 4.3]\n",
      "[3, 'phrase', 4.2, 'teste', 1, 2, 4.3]\n"
     ]
    }
   ],
   "source": [
    "\"\"\"Liste vide\"\"\"\n",
    "l1 = []\n",
    "print(l1)\n",
    "\n",
    "\"\"\" Liste remplie\"\"\"\n",
    "l1 = [3, \"phrase\", 4.2, \"teste\"]\n",
    "print(l1)\n",
    "\n",
    "\"\"\" Ajout d'un élément\"\"\"\n",
    "l2 = [1, 2]\n",
    "l2.append(4.3)\n",
    "print(l2)\n",
    "\n",
    "\"\"\" Concaténation\"\"\"\n",
    "l = l1 + l2\n",
    "print(l)"
   ]
  },
  {
   "cell_type": "markdown",
   "id": "romance-county",
   "metadata": {},
   "source": [
    "```{margin}\n",
    "On peut mettre n'importe quel type de données (ou presque) dans une liste et notamment... des listes ! On peut donc créer une liste de liste ce qui se rapproche le plus d'un tableau.\n",
    "```\n",
    "\n",
    "## Extraction\n",
    "### Un élément\n",
    "On peut extraire un élément d'une liste comme pour une chaine de caractère :"
   ]
  },
  {
   "cell_type": "code",
   "execution_count": 5,
   "id": "completed-daily",
   "metadata": {},
   "outputs": [
    {
     "name": "stdout",
     "output_type": "stream",
     "text": [
      "1\n",
      "7\n"
     ]
    },
    {
     "ename": "IndexError",
     "evalue": "list index out of range",
     "output_type": "error",
     "traceback": [
      "\u001b[0;31m---------------------------------------------------------------------------\u001b[0m",
      "\u001b[0;31mIndexError\u001b[0m                                Traceback (most recent call last)",
      "\u001b[0;32m<ipython-input-5-0207c8f16480>\u001b[0m in \u001b[0;36m<module>\u001b[0;34m\u001b[0m\n\u001b[1;32m      5\u001b[0m \u001b[0ma\u001b[0m \u001b[0;34m=\u001b[0m \u001b[0ml\u001b[0m\u001b[0;34m[\u001b[0m\u001b[0;36m3\u001b[0m\u001b[0;34m]\u001b[0m  \u001b[0;31m# Il s'agit du... quatrième élément\u001b[0m\u001b[0;34m\u001b[0m\u001b[0;34m\u001b[0m\u001b[0m\n\u001b[1;32m      6\u001b[0m \u001b[0mprint\u001b[0m\u001b[0;34m(\u001b[0m\u001b[0ma\u001b[0m\u001b[0;34m)\u001b[0m  \u001b[0;31m# Renvoie 7\u001b[0m\u001b[0;34m\u001b[0m\u001b[0;34m\u001b[0m\u001b[0m\n\u001b[0;32m----> 7\u001b[0;31m \u001b[0ma\u001b[0m \u001b[0;34m=\u001b[0m \u001b[0ml\u001b[0m\u001b[0;34m[\u001b[0m\u001b[0;36m5\u001b[0m\u001b[0;34m]\u001b[0m  \u001b[0;31m# Il n'y a pas de 6ème élément : Python affiche une erreur.\u001b[0m\u001b[0;34m\u001b[0m\u001b[0;34m\u001b[0m\u001b[0m\n\u001b[0m",
      "\u001b[0;31mIndexError\u001b[0m: list index out of range"
     ]
    }
   ],
   "source": [
    "l = [1, 3, 5, 7, 9]\n",
    "\n",
    "a = l[0]  # On commence le positionnement à 0\n",
    "print(a)  # Renvoie 1\n",
    "a = l[3]  # Il s'agit du... quatrième élément\n",
    "print(a)  # Renvoie 7\n",
    "a = l[5]  # Il n'y a pas de 6ème élément : Python affiche une erreur."
   ]
  },
  {
   "cell_type": "markdown",
   "id": "adverse-electron",
   "metadata": {},
   "source": [
    "```{margin}\n",
    "Vous pouvez retenir le message d'erreur très significatif : `index out of range`. Reconnaître les messages d'erreurs est utile pour corriger son code.\n",
    "```\n",
    "\n",
    "```{tip}\n",
    "On peut utiliser des nombres négatifs pour \"partir de la fin\", le nombre -1 désigne alors le __dernier élément de la liste__.\n",
    "\n",
    "![Liste et index](./images/liste_index.png)\n",
    "\n",
    "Dans l'exemple précédent, `l[-1]` renvoie `9` et `l[-2]` renvoie `7`.\n",
    "```\n",
    "\n",
    "### Une partie de la liste\n",
    "On peut extraire un ensemble d'éléments d'une liste (on obtient alors une liste).\n",
    "\n",
    "`l[3:6]` : on commence au 4ème élément (l'indexation commence à 0) et on s'arrête au 7ème élément __non inclus__."
   ]
  },
  {
   "cell_type": "code",
   "execution_count": 6,
   "id": "leading-essay",
   "metadata": {},
   "outputs": [
    {
     "name": "stdout",
     "output_type": "stream",
     "text": [
      "[5, 7]\n"
     ]
    }
   ],
   "source": [
    "l = [1, 3, 5, 7, 9]\n",
    "\n",
    "a = l[2:4] # renvoie la portion du troisième élément (5) au cinquième non inclus, donc on s'arrête à 7\n",
    "print(a)"
   ]
  },
  {
   "cell_type": "markdown",
   "id": "ordered-membrane",
   "metadata": {},
   "source": [
    "```{admonition} Syntaxes utiles :\n",
    ":class: tip\n",
    "* `l[1:]` : renvoie depuis le deuxième élément jusqu'à la fin de la liste (précédemment :  `[3, 5, 7, 9]`).\n",
    "* `l[:3]` : renvoie du début de la liste jusqu'au 4ème élément __non inclus__  (précédemment :  `[1, 3, 5]`).\n",
    "* On peut utiliser les nombres négatifs comme présentés précémment.\n",
    "```\n",
    "\n",
    "\n",
    "## Fonctions de bases\n",
    "Plusieurs fonctions de bases s'appliquent à une liste (ici la liste s'appellera `l`).\n",
    "\n",
    "* Longueur de la liste : `len(l)`\n",
    "* Enlever le (i+1)ème élément de la liste `l` : `l.pop(i)` (__C'est bien la variable `l` qui est modifiée comme pour append__).\n",
    "\n",
    "# Les commentaires\n",
    "On peut ajouter des commentaires (parties non interprêtées) :\n",
    "* commentaires sur une ligne avec `#`\n",
    "* commentaires sur plusieurs lignes entre `\"\"\"` et `\"\"\"`"
   ]
  }
 ],
 "metadata": {
  "jupytext": {
   "encoding": "# -*- coding: utf-8 -*-",
   "formats": "ipynb,md:myst",
   "split_at_heading": true,
   "text_representation": {
    "extension": ".md",
    "format_name": "myst",
    "format_version": 0.13,
    "jupytext_version": "1.10.3"
   }
  },
  "kernelspec": {
   "display_name": "Python 3",
   "language": "python",
   "name": "python3"
  },
  "language_info": {
   "codemirror_mode": {
    "name": "ipython",
    "version": 3
   },
   "file_extension": ".py",
   "mimetype": "text/x-python",
   "name": "python",
   "nbconvert_exporter": "python",
   "pygments_lexer": "ipython3",
   "version": "3.9.2"
  },
  "source_map": [
   15,
   109,
   112,
   121,
   126,
   131,
   140,
   161,
   178,
   188,
   196,
   215,
   220
  ]
 },
 "nbformat": 4,
 "nbformat_minor": 5
}