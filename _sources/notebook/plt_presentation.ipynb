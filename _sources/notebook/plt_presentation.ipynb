{
 "cells": [
  {
   "cell_type": "markdown",
   "id": "bearing-advertiser",
   "metadata": {},
   "source": [
    "# Matplotlib : tracés graphiques\n",
    "\n",
    "Le module `matplotlib` permet le tracé graphique à partir de listes de valeurs (ou plus souvent de vecteurs `numpy`). \n",
    "\n",
    "## Importation du module\n",
    "\n",
    "La grande majorité des fonctions utiles sont dans le sous module `pyplot`, c'est pourquoi, on importera directement `matplotlib.pyplot` :"
   ]
  },
  {
   "cell_type": "code",
   "execution_count": 1,
   "id": "regulated-cotton",
   "metadata": {},
   "outputs": [],
   "source": [
    "import matplotlib.pyplot as plt"
   ]
  },
  {
   "cell_type": "markdown",
   "id": "possible-scientist",
   "metadata": {},
   "source": [
    "```{admonition} Question\n",
    ":class: tip\n",
    "Pour utiliser la fonction `subplots` de la bibliothèque `matplotlib.pyplot`. On utilise alors `subplots(...)` ou `plt.subplots(...)` ?\n",
    "```\n",
    "\n",
    "```{dropdown} Cliquez pour avoir la réponse.\n",
    "On a importé `matplotlib.pyplot` dans un espace nommé `plt`, on utilisera donc la syntaxe `plt.subplots(...)`.\n",
    "```\n",
    "\n",
    "## Eléments d'un graphique\n",
    "Les éléments principaux sont données sur le schéma ci-dessous.\n",
    "\n",
    "![Graphique matplotlib](./images/graphique_modif.png)\n",
    "\n",
    "On distinguera par la suite la fenêtres graphiques des axes (endroit où on trace des courbes) : une fenêtre graphique peut contenir plusieurs axes comme sur l'exemple suivant (4 axes ou zone de tracé).\n",
    "\n",
    "![Multigraphe](./images/multi_g.png)\n",
    "\n",
    "## Méthode générale\n",
    "\n",
    "### Un exemple basique"
   ]
  },
  {
   "cell_type": "code",
   "execution_count": 2,
   "id": "supposed-carbon",
   "metadata": {},
   "outputs": [
    {
     "data": {
      "image/png": "[encoded data removed]",
      "text/plain": [
       "<Figure size 432x288 with 1 Axes>"
      ]
     },
     "metadata": {
      "filenames": {
       "image/png": "/home/ubuntu/Dropbox/Enseignement prepas/approche_numeriques/intro_python/_build/jupyter_execute/notebook/plt_presentation_3_0.png"
      },
      "needs_background": "light"
     },
     "output_type": "display_data"
    }
   ],
   "source": [
    "\"\"\"\n",
    "On crée les données à tracer. Ici le tracer d'une fonction sinus\n",
    "\"\"\"\n",
    "import numpy as np  # Les vecteurs numpy sont plus facilement manipulables.\n",
    "x = np.linspace(0, 2 * np.pi, 1000)  # 1000 points espacés entre 0 et 2pi\n",
    "y = np.sin(x)  # Numpy permet d'appliquer sin() aux 1000 points en une ligne.\n",
    "\n",
    "\n",
    "\n",
    "\"\"\"\n",
    "On crée maintenant le graphique\n",
    "\"\"\"\n",
    "f, ax = plt.subplots()  # On crée la fenêtre graphique et les axes (= zone de tracé, ici une seule zone)\n",
    "\n",
    "f.suptitle(\"Titre du graphique\")  # On donne un titre au graphique\n",
    "\n",
    "ax.set_xlabel(\"Temps (s)\")  # On légende les abscisses de la zone de tracé\n",
    "ax.set_ylabel(\"Position (m)\")  # On légende les ordonnées de la zone de tracé\n",
    "\n",
    "ax.plot(x, y, label=\"Légende\")  # On trace la courbe voulue\n",
    "\n",
    "ax.legend()  # On affiche la légende de la zone de tracé\n",
    "\n",
    "plt.show()  # On demande d'afficher le graphique."
   ]
  },
  {
   "cell_type": "markdown",
   "id": "nervous-incentive",
   "metadata": {},
   "source": [
    "### Remarques sur le code\n",
    "* `subplots` n'est pas obligatoire mais il permet d'affecter la fenêtre graphique et les axes (zone de tracé) à des variables (ici `f` et `ax`) pour être sûr d'affecter le titre au bon graphique (si on doit en utiliser plusieurs) ou aux bons axes (idem).\n",
    "* Le `f.` permet justement d'ajouter un titre à la fenêtre graphique `f`.\n",
    "* Idem pour `ax.` qui légende les axes de la fenêtres graphiques `ax` (et pas une autre s'il y en a plusieurs). Le tracé plot sera dans la zone de tracé `ax`...\n",
    "* La légende est __affichée__ par la méthode `legend()` mais pour légender __une courbe__ il faut utiliser l'argument `label=\"chaine de caractère\"` dans la fonction `plot`\n",
    "* `show` permet d'afficher les graphiques qui ont été créé.\n",
    "\n",
    "```{margin}\n",
    "Attention, si vous n'utiliser le principe d'affection de la fenêtre et des axes dans des variables (`f` et `ax` par exemple), les noms des fonctions (`suptitle`, `set_xlabel`...) seront un peu différent. On ne donne pas leurs noms ici pour ne pas tout mélanger.\n",
    "```\n",
    "\n",
    "### Les types de courbes utiles.\n",
    "\n",
    "#### Fonctions utiles\n",
    "Sans être exhaustif, on donne trois types de courbes utiles :\n",
    "1. tracé d'un histogramme : `hist(liste_valeurs, bins='rice')`\n",
    "```{toggle}\n",
    "* L'argument `bins='rice'` est optionnel (ou remplaçable par `bins=1000`) mais il permet de demander à Python d'ajuster le nombre de bâtons de l'histogramme en fonction du nombre d'éléments de `liste_valeurs`.\n",
    "\n",
    "Ca évite de tracer 10 bâtons quand on a 1000000 valeurs...\n",
    "```\n",
    "\n",
    "2. tracé d'un nuage de points (reliés ou nom) : `plot(vecteur_abscisse, vecteur ordonnee)` \n",
    "3. tracé d'un nuage de points (reliés ou nom) avec incertitudes : `errorbar(vecteur_abscisse, vecteur ordonnee, xerr=vecteur_incertitude_sur x, , yerr=vecteur_incertitude_sur y)`\n",
    "\n",
    "```{toggle}\n",
    "* Si toutes les incertitudes sont identiques, on peut mettre une valeur seule au lieu d'un vecteur\n",
    "* On peut ne donner qu'une seule des deux incertitudes (sur y seulement par exemple). On trace avec des barres d'incertitude au lieu des croix d'incertitude).\n",
    "```\n",
    "\n",
    "#### Arguments optionnels utiles\n",
    "Les fonctions précédentes permettent d'utiliser des arguments optionnels pour modifier l'allure de la courbe ou légender la courbe. \n",
    "\n",
    "```{code-block}\n",
    "# Un exemple :\n",
    "ax.plot(x, y, marker='+', linestyle='', color='red', label='Nuages')\n",
    "\"\"\"\n",
    "On trace ainsi les points (x[i], y[i]) :\n",
    "- sans relier les points (linestyle = '')\n",
    "- en plaçant des marqueurs + pour chaque points (marker = '+')\n",
    "- en rouge (color = 'red')\n",
    "- avec comme légende \"Nuages\" (label=\"Nuages\")\n",
    "\"\"\"\n",
    "```\n",
    "\n",
    "On cite les plus utiles :\n",
    "\n",
    "````{tabbed} Pour plot et errorbar\n",
    "* `linestyle` : style de ligne qui relie les points (non exhaustif):\n",
    "    * `linestyle = ''` : pas de ligne\n",
    "    * `linestyle = '-'` : ligne continue\n",
    "    * `linestyle = ':'` : pointillés\n",
    "* `marker` : type de marqueurs pour les points (x[i], y[i]) :\n",
    "    * `marker = '+'`\n",
    "    * `marker = '*'`\n",
    "    * `marker = 'o'`\n",
    "    * `marker = ''` : pas de marqueurs\n",
    "* `legend = 'La légende'` : associer une légende à une courbe\n",
    "* `color = 'nom_de_couleur_en_anglais'`\n",
    "````\n",
    "\n",
    "````{tabbed} Pour hist\n",
    "* `legend = 'La légende'` : associer une légende à une courbe\n",
    "* `color = 'nom_de_couleur_en_anglais'`\n",
    "````\n",
    "\n",
    "## Autres fonctions et arguments\n",
    "La liste présente les plus importantes et à connaître. Vous en rencontrerez peut-être d'autres (pas à connaître):\n",
    "* pour sauvegarder la figure\n",
    "* pour mettre une échelle logarithmique sur les abscisses\n",
    "* pour ajuster l'apparence des barres d'incertitudes\n",
    "* pour ajuster la taille de la courbe\n",
    "* pour ajouter du texte ou des flèches"
   ]
  }
 ],
 "metadata": {
  "jupytext": {
   "encoding": "# -*- coding: utf-8 -*-",
   "formats": "ipynb,md:myst",
   "split_at_heading": true,
   "text_representation": {
    "extension": ".md",
    "format_name": "myst",
    "format_version": 0.13,
    "jupytext_version": "1.10.3"
   }
  },
  "kernelspec": {
   "display_name": "Python 3",
   "language": "python",
   "name": "python3"
  },
  "language_info": {
   "codemirror_mode": {
    "name": "ipython",
    "version": 3
   },
   "file_extension": ".py",
   "mimetype": "text/x-python",
   "name": "python",
   "nbconvert_exporter": "python",
   "pygments_lexer": "ipython3",
   "version": "3.9.2"
  },
  "source_map": [
   15,
   25,
   27,
   51,
   76
  ]
 },
 "nbformat": 4,
 "nbformat_minor": 5
}