{
 "cells": [
  {
   "cell_type": "markdown",
   "id": "bright-impossible",
   "metadata": {},
   "source": [
    "Certains points abordés ici serviront très peu ou seront abordés pendant l'année. Il s'agit d'approfondissement pour ceux qui ont déjà bien compris les parties précédentes."
   ]
  },
  {
   "cell_type": "code",
   "execution_count": 1,
   "id": "stylish-watershed",
   "metadata": {},
   "outputs": [],
   "source": [
    "\"\"\"On importe les bibliothèques scientifiques car elles seront utilisées ensuite\"\"\"\n",
    "import numpy as np\n",
    "import matplotlib.pyplot as plt\n"
   ]
  },
  {
   "cell_type": "markdown",
   "id": "eight-token",
   "metadata": {},
   "source": [
    "```{tip}\n",
    "L'ordre des parties va du plus important au moins important.\n",
    "\n",
    "```\n",
    "\n",
    "\n",
    "(tableau_numpy)=\n",
    "# Tableaux numpy : manipulations\n",
    "\n",
    "## Opérations usuelles et concaténation\n",
    "* Les opérations usuelles et fonctions mathématiques présentées précédemment s'appliquent à nouveau pour les tableaux numpy.\n",
    "* Concaténation : La fonction `append` doit prendre un troisième argument si on concatène deux tableaux (ou un tableau et un vecteur). L'argument `axis = `:\n",
    "    * `axis = 0` : Concaténer _verticalement_ : les deux tableaux doivent donc avec le même nombre de colonnes. Sinon Python renverra une erreur.\n",
    "    * `axis = 1` : Concaténer _horizontalement_ : les deux tableaux doivent donc avec le même nombre de lignes. Sinon Python renverra une erreur.\n",
    "    * Pas de `axis` : Python va transformer les tableaux en vecteurs et concaténer les vecteurs."
   ]
  },
  {
   "cell_type": "code",
   "execution_count": 2,
   "id": "abstract-guest",
   "metadata": {},
   "outputs": [
    {
     "name": "stdout",
     "output_type": "stream",
     "text": [
      "[2.3  2.5  3.14 3.16 3.14 4.17 1.2  3.7  4.2  3.1 ]\n",
      "[[2.3  2.5 ]\n",
      " [3.14 3.16]\n",
      " [3.14 4.17]\n",
      " [1.2  3.7 ]\n",
      " [4.2  3.1 ]]\n"
     ]
    },
    {
     "ename": "ValueError",
     "evalue": "all the input array dimensions for the concatenation axis must match exactly, but along dimension 0, the array at index 0 has size 3 and the array at index 1 has size 2",
     "output_type": "error",
     "traceback": [
      "\u001b[0;31m---------------------------------------------------------------------------\u001b[0m",
      "\u001b[0;31mValueError\u001b[0m                                Traceback (most recent call last)",
      "\u001b[0;32m<ipython-input-2-6a2b3cf6bb19>\u001b[0m in \u001b[0;36m<module>\u001b[0;34m\u001b[0m\n\u001b[1;32m      8\u001b[0m \u001b[0mprint\u001b[0m\u001b[0;34m(\u001b[0m\u001b[0mL4\u001b[0m\u001b[0;34m)\u001b[0m\u001b[0;34m\u001b[0m\u001b[0;34m\u001b[0m\u001b[0m\n\u001b[1;32m      9\u001b[0m \u001b[0;34m\u001b[0m\u001b[0m\n\u001b[0;32m---> 10\u001b[0;31m \u001b[0mL5\u001b[0m \u001b[0;34m=\u001b[0m \u001b[0mnp\u001b[0m\u001b[0;34m.\u001b[0m\u001b[0mappend\u001b[0m\u001b[0;34m(\u001b[0m\u001b[0mL1\u001b[0m\u001b[0;34m,\u001b[0m \u001b[0mL2\u001b[0m\u001b[0;34m,\u001b[0m \u001b[0maxis\u001b[0m\u001b[0;34m=\u001b[0m\u001b[0;36m1\u001b[0m\u001b[0;34m)\u001b[0m  \u001b[0;31m# Renvoie un erreur car on ne peut placer L2 à droite de L1 : pas le même nombre de lignes\u001b[0m\u001b[0;34m\u001b[0m\u001b[0;34m\u001b[0m\u001b[0m\n\u001b[0m\u001b[1;32m     11\u001b[0m \u001b[0mprint\u001b[0m\u001b[0;34m(\u001b[0m\u001b[0mL5\u001b[0m\u001b[0;34m)\u001b[0m\u001b[0;34m\u001b[0m\u001b[0;34m\u001b[0m\u001b[0m\n",
      "\u001b[0;32m<__array_function__ internals>\u001b[0m in \u001b[0;36mappend\u001b[0;34m(*args, **kwargs)\u001b[0m\n",
      "\u001b[0;32m~/miniconda3/envs/jupybook/lib/python3.9/site-packages/numpy/lib/function_base.py\u001b[0m in \u001b[0;36mappend\u001b[0;34m(arr, values, axis)\u001b[0m\n\u001b[1;32m   4669\u001b[0m         \u001b[0mvalues\u001b[0m \u001b[0;34m=\u001b[0m \u001b[0mravel\u001b[0m\u001b[0;34m(\u001b[0m\u001b[0mvalues\u001b[0m\u001b[0;34m)\u001b[0m\u001b[0;34m\u001b[0m\u001b[0;34m\u001b[0m\u001b[0m\n\u001b[1;32m   4670\u001b[0m         \u001b[0maxis\u001b[0m \u001b[0;34m=\u001b[0m \u001b[0marr\u001b[0m\u001b[0;34m.\u001b[0m\u001b[0mndim\u001b[0m\u001b[0;34m-\u001b[0m\u001b[0;36m1\u001b[0m\u001b[0;34m\u001b[0m\u001b[0;34m\u001b[0m\u001b[0m\n\u001b[0;32m-> 4671\u001b[0;31m     \u001b[0;32mreturn\u001b[0m \u001b[0mconcatenate\u001b[0m\u001b[0;34m(\u001b[0m\u001b[0;34m(\u001b[0m\u001b[0marr\u001b[0m\u001b[0;34m,\u001b[0m \u001b[0mvalues\u001b[0m\u001b[0;34m)\u001b[0m\u001b[0;34m,\u001b[0m \u001b[0maxis\u001b[0m\u001b[0;34m=\u001b[0m\u001b[0maxis\u001b[0m\u001b[0;34m)\u001b[0m\u001b[0;34m\u001b[0m\u001b[0;34m\u001b[0m\u001b[0m\n\u001b[0m\u001b[1;32m   4672\u001b[0m \u001b[0;34m\u001b[0m\u001b[0m\n\u001b[1;32m   4673\u001b[0m \u001b[0;34m\u001b[0m\u001b[0m\n",
      "\u001b[0;32m<__array_function__ internals>\u001b[0m in \u001b[0;36mconcatenate\u001b[0;34m(*args, **kwargs)\u001b[0m\n",
      "\u001b[0;31mValueError\u001b[0m: all the input array dimensions for the concatenation axis must match exactly, but along dimension 0, the array at index 0 has size 3 and the array at index 1 has size 2"
     ]
    }
   ],
   "source": [
    "L1 = np.array([[2.3, 2.5], [3.14, 3.16], [3.14, 4.17]])\n",
    "L2 = np.array([[1.2, 3.7], [4.2, 3.1]])\n",
    "\n",
    "L3 = np.append(L1, L2)  # On aplatit les tableaux pour obtenir un vecteur.\n",
    "print(L3)\n",
    "\n",
    "L4 = np.append(L1, L2, axis=0)  # On place L2 sous L1\n",
    "print(L4)\n",
    "\n",
    "L5 = np.append(L1, L2, axis=1)  # Renvoie un erreur car on ne peut placer L2 à droite de L1 : pas le même nombre de lignes\n",
    "print(L5)"
   ]
  },
  {
   "cell_type": "markdown",
   "id": "monetary-organization",
   "metadata": {},
   "source": [
    "## Sélection d'une partie d'un tableau.\n",
    "```{attention}\n",
    "* La méthode présentée ne fonctionne pas avec une liste de listes classique. Uniquement avec des tableaux `numpy`\n",
    "* Attention, l'__indexation commence toujours à 0__\n",
    "```\n",
    "\n",
    "### Sélection d'un élément."
   ]
  },
  {
   "cell_type": "code",
   "execution_count": 3,
   "id": "colored-sudan",
   "metadata": {},
   "outputs": [
    {
     "name": "stdout",
     "output_type": "stream",
     "text": [
      "4.17\n"
     ]
    },
    {
     "data": {
      "text/plain": [
       "'\\n2 : sélection de la troisième ligne\\n1 : sélection de la deuxième colonne\\n\\nOn affiche donc 4.17\\n'"
      ]
     },
     "execution_count": 3,
     "metadata": {},
     "output_type": "execute_result"
    }
   ],
   "source": [
    "L1 = np.array([[2.3, 2.5], [3.14, 3.16], [3.14, 4.17]])\n",
    "print(L1[2, 1])\n",
    "\"\"\"\n",
    "2 : sélection de la troisième ligne\n",
    "1 : sélection de la deuxième colonne\n",
    "\n",
    "On affiche donc 4.17\n",
    "\"\"\""
   ]
  },
  {
   "cell_type": "markdown",
   "id": "accepting-departure",
   "metadata": {},
   "source": [
    "### Sélection d'une portion d'un tableau\n",
    "```{margin}\n",
    "On rappelle que L1[1:3] sélectionne jusqu'à l'index 3 (quatrième élément ) __non inclus__.\n",
    "```"
   ]
  },
  {
   "cell_type": "code",
   "execution_count": 4,
   "id": "static-hands",
   "metadata": {},
   "outputs": [
    {
     "name": "stdout",
     "output_type": "stream",
     "text": [
      "Première sélection [[ 2.5   6.8 ]\n",
      " [ 3.16 -1.3 ]]\n",
      "Deuxième sélection [2.5  3.16 4.17 4.2 ]\n",
      "Troisième sélection [ 3.14  3.16 -1.3 ]\n",
      "Quatrième sélection [ 3.14  3.16 -1.3 ]\n",
      "Cinquième sélection [ 1.6  4.2 -8.2]\n"
     ]
    }
   ],
   "source": [
    "L1 = np.array([[2.3, 2.5, 6.8], [3.14, 3.16, -1.3], [3.14, 4.17, 3.45], [1.6, 4.2,  -8.2]])\n",
    "print(\"Première sélection\", L1[0:2, 1:3])  # Sélection des deux premières lignes (0 et 1) et colonnes d'index (1 et 2). C'est un tableau.\n",
    "print(\"Deuxième sélection\", L1[:, 1])  # Permet de sélectionner la deuxième colonne en entier (c'est un vecteur)\n",
    "print(\"Troisième sélection\", L1[1, :])  # Permet de sélectionner la deuxième ligne en entier (c'est un vecteur)\n",
    "print(\"Quatrième sélection\", L1[1])  # Permet de sélectionner la deuxième ligne en entier aussi (c'est un vecteur)\n",
    "print(\"Cinquième sélection\", L1[-1, :])  # Permet de sélectionner la dernière ligne en entier (c'est un vecteur)"
   ]
  },
  {
   "cell_type": "markdown",
   "id": "leading-laser",
   "metadata": {},
   "source": [
    "Voici le tableau `L1` avec les indices des lignes et colonnes pour mieux comprendre.\n",
    "\n",
    "![Tableau numpy 2](./images/tableau_2.png)\n",
    "\n",
    "## Si j'ai bien compris...\n",
    "```{admonition} Exercice\n",
    ":class: tip\n",
    "Essayer de prévoir ce qu'affichera chaque `print` puis observer le résultat en cliquant sur la croix en bas à droite.\n",
    "```"
   ]
  },
  {
   "cell_type": "code",
   "execution_count": 5,
   "id": "fewer-coaching",
   "metadata": {
    "tags": [
     "hide-output"
    ]
   },
   "outputs": [
    {
     "name": "stdout",
     "output_type": "stream",
     "text": [
      "Cas 1 : [[0. 1. 2. 3.]\n",
      " [0. 1. 4. 9.]\n",
      " [1. 1. 1. 1.]]\n",
      "Cas 2 : 1.0\n",
      "Cas 3 : 1.0\n",
      "Cas 4 : [0. 1. 4. 9.]\n",
      "Cas 5 : [1. 1. 1. 1.]\n",
      "Cas 6 : [3. 9. 1.]\n",
      "Cas 7 : [2. 4. 1.]\n",
      "Cas 8 : [[0.]]\n",
      "Cas 9 : [1. 1.]\n",
      "Cas 10 : [[1. 2.]\n",
      " [1. 4.]]\n"
     ]
    }
   ],
   "source": [
    "L1 = np.arange(0, 4)\n",
    "L2 = L1 * L1\n",
    "L3 = np.ones(4)\n",
    "\n",
    "\"\"\"\n",
    "Ci-dessous : une méthode pour créer un tableau à partir de 3 vecteurs de même taille.\n",
    "Les L1, L2, L3 sont les lignes du tableau.\n",
    "\"\"\"\n",
    "M1 = np.array([L1, L2, L3])\n",
    "\n",
    "print(\"Cas 1 :\", M1)\n",
    "print(\"Cas 2 :\", M1[2, 3])\n",
    "print(\"Cas 3 :\", M1[-1, 2])\n",
    "print(\"Cas 4 :\", M1[1])\n",
    "print(\"Cas 5 :\", M1[2, :])\n",
    "print(\"Cas 6 :\", M1[:, -1])\n",
    "print(\"Cas 7 :\", M1[:, -2])\n",
    "print(\"Cas 8 :\", M1[1:2, 0:1])\n",
    "print(\"Cas 9 :\", M1[:-1, 1])  # Un peu plus compliqué...\n",
    "print(\"Cas 10 :\", M1[-3:-1, -3:3])  # On se concentre bien..."
   ]
  },
  {
   "cell_type": "code",
   "execution_count": 6,
   "id": "exterior-amazon",
   "metadata": {
    "tags": [
     "remove-input",
     "remove-output"
    ]
   },
   "outputs": [
    {
     "data": {
      "text/plain": [
       "array([[0., 1., 2., 3.],\n",
       "       [0., 1., 4., 9.],\n",
       "       [1., 1., 1., 1.]])"
      ]
     },
     "metadata": {
      "scrapbook": {
       "mime_prefix": "",
       "name": "cas_1"
      }
     },
     "output_type": "display_data"
    },
    {
     "data": {
      "text/plain": [
       "1.0"
      ]
     },
     "metadata": {
      "scrapbook": {
       "mime_prefix": "",
       "name": "cas_2"
      }
     },
     "output_type": "display_data"
    },
    {
     "data": {
      "text/plain": [
       "1.0"
      ]
     },
     "metadata": {
      "scrapbook": {
       "mime_prefix": "",
       "name": "cas_3"
      }
     },
     "output_type": "display_data"
    },
    {
     "data": {
      "text/plain": [
       "array([0., 1., 4., 9.])"
      ]
     },
     "metadata": {
      "scrapbook": {
       "mime_prefix": "",
       "name": "cas_4"
      }
     },
     "output_type": "display_data"
    },
    {
     "data": {
      "text/plain": [
       "array([1., 1., 1., 1.])"
      ]
     },
     "metadata": {
      "scrapbook": {
       "mime_prefix": "",
       "name": "cas_5"
      }
     },
     "output_type": "display_data"
    },
    {
     "data": {
      "text/plain": [
       "array([3., 9., 1.])"
      ]
     },
     "metadata": {
      "scrapbook": {
       "mime_prefix": "",
       "name": "cas_6"
      }
     },
     "output_type": "display_data"
    },
    {
     "data": {
      "text/plain": [
       "array([2., 4., 1.])"
      ]
     },
     "metadata": {
      "scrapbook": {
       "mime_prefix": "",
       "name": "cas_7"
      }
     },
     "output_type": "display_data"
    },
    {
     "data": {
      "text/plain": [
       "array([[0.]])"
      ]
     },
     "metadata": {
      "scrapbook": {
       "mime_prefix": "",
       "name": "cas_8"
      }
     },
     "output_type": "display_data"
    },
    {
     "data": {
      "text/plain": [
       "array([1., 1.])"
      ]
     },
     "metadata": {
      "scrapbook": {
       "mime_prefix": "",
       "name": "cas_9"
      }
     },
     "output_type": "display_data"
    },
    {
     "data": {
      "text/plain": [
       "array([[1., 2.],\n",
       "       [1., 4.]])"
      ]
     },
     "metadata": {
      "scrapbook": {
       "mime_prefix": "",
       "name": "cas_10"
      }
     },
     "output_type": "display_data"
    }
   ],
   "source": [
    "from myst_nb import glue\n",
    "\n",
    "L1 = np.arange(0, 4)\n",
    "L2 = L1 * L1\n",
    "L3 = np.ones(4)\n",
    "\n",
    "\"\"\"\n",
    "Ci-dessous : une méthode pour créer un tableau à partir de 3 vecteurs de même taille.\n",
    "Les L1, L2, L3 sont les lignes du tableau.\n",
    "\"\"\"\n",
    "M1 = np.array([L1, L2, L3])\n",
    "\n",
    "glue(\"cas_1\", M1)\n",
    "glue(\"cas_2\", M1[2, 3])\n",
    "glue(\"cas_3\", M1[-1, 2])\n",
    "glue(\"cas_4\", M1[1])\n",
    "glue(\"cas_5\", M1[2, :])\n",
    "glue(\"cas_6\", M1[:, -1])\n",
    "glue(\"cas_7\", M1[:, -2])\n",
    "glue(\"cas_8\", M1[1:2, 0:1])\n",
    "glue(\"cas_9\", M1[:-1, 1])  # Un peu plus compliqué...\n",
    "glue(\"cas_10\", M1[-3:-1, -3:3])  # On se concentre bien..."
   ]
  },
  {
   "cell_type": "markdown",
   "id": "inclusive-nowhere",
   "metadata": {},
   "source": [
    "```{dropdown} Explication des réponses\n",
    "__Les vecteurs__ :\n",
    "* L1 crée une liste d'entier partant de 0 jusqu'à 4 __exclus__ soit `[0, 1, 2, 3]`\n",
    "* L2 est la multiplication terme à terme L1 par lui-même, on passe chaque élément au carré soit `[0, 1, 4, 9]`\n",
    "* L3 est une liste de 4 éléments composées uniquement de 1.\n",
    "\n",
    "__Le tableau__ :\n",
    "* M est le tableau composé des trois vecteurs. Il est donc de taille 3*4 (3 lignes, 4 colonnes). Soit :\n",
    "\n",
    "![Tableau numpy](./images/matrice_numpy.png)\n",
    "\n",
    "__Les affichage__:\n",
    "* Cas 1 : Affichage du tableau complet\n",
    "* Cas 2 : Affichage de l'élément de la troisième ligne (indice 2), quatrième colonne (indice 3), soit {glue:}`cas_2`\n",
    "* Cas 3 : Afficahge de l'élément de la dernière ligne (indice -1), troisième colonne (indice 2) soit {glue:}`cas_3`\n",
    "* Cas 4 : Affichage de la __deuxième ligne (indice 1)__ soit {glue:}`cas_4`\n",
    "* Cas 5 : Affichage de la troisième ligne (indice 2) soit {glue:}`cas_5`\n",
    "* Cas 6 : Affichage de la dernière colonne (indice -1) soit {glue:}`cas_6`\n",
    "* Cas 7 : Affichage de l'avant-dernière colonne (indice -2) soit {glue:}`cas_7`\n",
    "* Cas 8 : Affichage du tableau limité à la deuxième ligne (de l'indice 1 à l'indice 2 __exclus__) et à la première colonne soit {glue:}`cas_8` (de l'indice 0 à l'indice 1 __exclus__). _C'est bien un tableau mais avec une seule valeur !_\n",
    "* Cas 9 : Affichage de la deuxième colonne mais sans la dernière ligne (on va jusqu'au -1 __exclus__) {glue:}`cas_9`\n",
    "* Cas 10 : Affichage du tableau limité aux deux premières lignes (de l'indice -3 soit indice 0 - puisqu'il y a 3 lignes - jusqu'à l'indice -1 (dernier) __exclus__) et à la deuxième et troisième colonne (de l'indice - 3 soit la colonne d'indice 1 - puisque qu'il y a 4 colonnes - jusqu'à l'indice 3 soit la dernière colonne __exclus__) soit {glue:}`cas_10`\n",
    "```"
   ]
  },
  {
   "cell_type": "markdown",
   "id": "lonely-northwest",
   "metadata": {},
   "source": [
    "# La compréhension des listes"
   ]
  },
  {
   "cell_type": "markdown",
   "id": "bridal-rochester",
   "metadata": {},
   "source": [
    "## Position du problème\n",
    "On a vu que les listes classiques ne permettaient pas d'appliquer une fonction `f` à chaque élément en écrivant `f(L)` (`L` étant une liste classique). Cela a motivé l'utilisation des listes numpy. Néanmoins :\n",
    "* On est quelques fois obligé d'utiliser les listes classiques\n",
    "* La syntaxe `f(L)` ne fonctionne que si `f` est _vectorialisable_, c'est-à-dire programmée pour pouvoir s'appliquer à chaque élément.\n",
    "\n",
    "```{admonition} Fonctions et opérateurs vectorialisables\n",
    ":class: tip\n",
    "Non exhaustif :\n",
    "* Les opérateurs classiues `+,-,/,*` sont vectorialisables\n",
    "* Les fonctions de la bibliothèques numpy (sin, cos, exp...) sont vectorialisables.\n",
    "```\n",
    "\n",
    "Un exemple fréquent est quand la fonction `f` fait appelle à un structure conditionnelle qui n'est pas vectorialisable. On reprend la fonction définie par morceau :"
   ]
  },
  {
   "cell_type": "code",
   "execution_count": 7,
   "id": "empirical-latino",
   "metadata": {},
   "outputs": [],
   "source": [
    "def fonction_morceau(x):\n",
    "  if x < 3:  # Si x < 3\n",
    "    a = x - 4\n",
    "  elif x < 5:  # Si 3 <= x < 5\n",
    "    a = x ** 2\n",
    "  else:  # Si x >=5\n",
    "    b = x + 4\n",
    "    a = b ** 3\n",
    "  return a"
   ]
  },
  {
   "cell_type": "markdown",
   "id": "christian-wesley",
   "metadata": {},
   "source": [
    "Impossible de l'appliquer directement à un vecteur numpy (pour la tracer par exemple:"
   ]
  },
  {
   "cell_type": "code",
   "execution_count": 8,
   "id": "distinguished-trout",
   "metadata": {},
   "outputs": [
    {
     "ename": "ValueError",
     "evalue": "The truth value of an array with more than one element is ambiguous. Use a.any() or a.all()",
     "output_type": "error",
     "traceback": [
      "\u001b[0;31m---------------------------------------------------------------------------\u001b[0m",
      "\u001b[0;31mValueError\u001b[0m                                Traceback (most recent call last)",
      "\u001b[0;32m<ipython-input-8-c0a804038c36>\u001b[0m in \u001b[0;36m<module>\u001b[0;34m\u001b[0m\n\u001b[1;32m      1\u001b[0m \u001b[0mx\u001b[0m \u001b[0;34m=\u001b[0m \u001b[0mnp\u001b[0m\u001b[0;34m.\u001b[0m\u001b[0mlinspace\u001b[0m\u001b[0;34m(\u001b[0m\u001b[0;36m0\u001b[0m\u001b[0;34m,\u001b[0m \u001b[0;36m15\u001b[0m\u001b[0;34m,\u001b[0m \u001b[0;36m1000\u001b[0m\u001b[0;34m)\u001b[0m  \u001b[0;31m# Vecteur de 1000 valeurs entre 0 et 15\u001b[0m\u001b[0;34m\u001b[0m\u001b[0;34m\u001b[0m\u001b[0m\n\u001b[0;32m----> 2\u001b[0;31m \u001b[0my\u001b[0m \u001b[0;34m=\u001b[0m \u001b[0mfonction_morceau\u001b[0m\u001b[0;34m(\u001b[0m\u001b[0mx\u001b[0m\u001b[0;34m)\u001b[0m\u001b[0;34m\u001b[0m\u001b[0;34m\u001b[0m\u001b[0m\n\u001b[0m",
      "\u001b[0;32m<ipython-input-7-45c6fcf56df6>\u001b[0m in \u001b[0;36mfonction_morceau\u001b[0;34m(x)\u001b[0m\n\u001b[1;32m      1\u001b[0m \u001b[0;32mdef\u001b[0m \u001b[0mfonction_morceau\u001b[0m\u001b[0;34m(\u001b[0m\u001b[0mx\u001b[0m\u001b[0;34m)\u001b[0m\u001b[0;34m:\u001b[0m\u001b[0;34m\u001b[0m\u001b[0;34m\u001b[0m\u001b[0m\n\u001b[0;32m----> 2\u001b[0;31m   \u001b[0;32mif\u001b[0m \u001b[0mx\u001b[0m \u001b[0;34m<\u001b[0m \u001b[0;36m3\u001b[0m\u001b[0;34m:\u001b[0m  \u001b[0;31m# Si x < 3\u001b[0m\u001b[0;34m\u001b[0m\u001b[0;34m\u001b[0m\u001b[0m\n\u001b[0m\u001b[1;32m      3\u001b[0m     \u001b[0ma\u001b[0m \u001b[0;34m=\u001b[0m \u001b[0mx\u001b[0m \u001b[0;34m-\u001b[0m \u001b[0;36m4\u001b[0m\u001b[0;34m\u001b[0m\u001b[0;34m\u001b[0m\u001b[0m\n\u001b[1;32m      4\u001b[0m   \u001b[0;32melif\u001b[0m \u001b[0mx\u001b[0m \u001b[0;34m<\u001b[0m \u001b[0;36m5\u001b[0m\u001b[0;34m:\u001b[0m  \u001b[0;31m# Si 3 <= x < 5\u001b[0m\u001b[0;34m\u001b[0m\u001b[0;34m\u001b[0m\u001b[0m\n\u001b[1;32m      5\u001b[0m     \u001b[0ma\u001b[0m \u001b[0;34m=\u001b[0m \u001b[0mx\u001b[0m \u001b[0;34m**\u001b[0m \u001b[0;36m2\u001b[0m\u001b[0;34m\u001b[0m\u001b[0;34m\u001b[0m\u001b[0m\n",
      "\u001b[0;31mValueError\u001b[0m: The truth value of an array with more than one element is ambiguous. Use a.any() or a.all()"
     ]
    }
   ],
   "source": [
    "x = np.linspace(0, 15, 1000)  # Vecteur de 1000 valeurs entre 0 et 15\n",
    "y = fonction_morceau(x)\n"
   ]
  },
  {
   "cell_type": "markdown",
   "id": "residential-mobile",
   "metadata": {},
   "source": [
    "`The truth value of an array with more than one element is ambiguous.` : Le message est clair : il cherche à travailler sur le vecteur et non sur chaque élément."
   ]
  },
  {
   "cell_type": "markdown",
   "id": "pharmaceutical-domain",
   "metadata": {},
   "source": [
    "## Première solution\n",
    "On peut écrire une boucle classique qui parcout tous les éléments de `x` et leur applique `fonction_morceau` :"
   ]
  },
  {
   "cell_type": "code",
   "execution_count": 9,
   "id": "developed-insertion",
   "metadata": {},
   "outputs": [
    {
     "data": {
      "image/png": "[encoded data removed]",
      "text/plain": [
       "<Figure size 432x288 with 1 Axes>"
      ]
     },
     "metadata": {
      "filenames": {
       "image/png": "/home/ubuntu/Dropbox/Enseignement prepas/approche_numeriques/intro_python/_build/jupyter_execute/notebook/plus_loin_19_0.png"
      },
      "needs_background": "light"
     },
     "output_type": "display_data"
    }
   ],
   "source": [
    "x = np.linspace(0, 15, 1000)\n",
    "y = np.zeros(len(x))  # On crée un vecteur nul qu'on va remplir\n",
    "\n",
    "for i in range(len(x)):  # i prendra les indices de 0 à len(x) - 1\n",
    "  y[i] = fonction_morceau(x[i])  # On remplit l'élément d'indice i\n",
    "\n",
    "\n",
    "\"\"\"On peut même le tracer\"\"\"\n",
    "f, ax = plt.subplots()  # On ne va pas légender le graphique puisqu'il n'y a pas de contexte ici.\n",
    "ax.plot(x, y)\n",
    "\n",
    "plt.show()\n"
   ]
  },
  {
   "cell_type": "markdown",
   "id": "iraqi-error",
   "metadata": {},
   "source": [
    "## Utilisation de la compréhension des listes.\n",
    "Une __liste en compréhension__ est une liste qui est obtenue par action (et/ou filtrage) de chaque élément d'une autre liste. La syntaxe est simple :\n",
    "\n",
    "```python\n",
    "L1 = [fonction(x) for x in L]  # L est une liste et L1 la nouvelle liste en compréhension\n",
    "```\n",
    "\n",
    "La syntaxe est assez clair : \"Applique la `fonction` à `x` pour `x` qui parcourt chaque élément de `L`\"\n",
    "\n",
    "```{margin}\n",
    "Ca fonction si `L` est un vecteur `numpy`\n",
    "\n",
    "```\n",
    "\n",
    "````{attention}\n",
    "Cette méthode renvoie une liste __classique__, pas un vecteur `numpy`. Si vous voulez obtenir un vecteur numpy, il faudra utiliser la fonction `array` :\n",
    "```python\n",
    "L1 = np.array([fonction(x) for x in L])\n",
    "```\n",
    "````\n",
    "\n",
    "A titre d'exemple :"
   ]
  },
  {
   "cell_type": "code",
   "execution_count": 10,
   "id": "fabulous-formula",
   "metadata": {},
   "outputs": [
    {
     "data": {
      "image/png": "[encoded data removed]",
      "text/plain": [
       "<Figure size 432x288 with 1 Axes>"
      ]
     },
     "metadata": {
      "filenames": {
       "image/png": "/home/ubuntu/Dropbox/Enseignement prepas/approche_numeriques/intro_python/_build/jupyter_execute/notebook/plus_loin_21_0.png"
      },
      "needs_background": "light"
     },
     "output_type": "display_data"
    }
   ],
   "source": [
    "x = np.linspace(0, 15, 1000)\n",
    "y = np.array([fonction_morceau(i) for i in x])\n",
    "\n",
    "\n",
    "\"\"\"On peut même le tracer\"\"\"\n",
    "f, ax = plt.subplots()  # On ne va pas légender le graphique puisqu'il n'y a pas de contexte ici.\n",
    "ax.plot(x, y)\n",
    "\n",
    "plt.show()\n"
   ]
  },
  {
   "cell_type": "markdown",
   "id": "neither-carolina",
   "metadata": {},
   "source": [
    "```{margin}\n",
    "On peut aussi filtrer la liste pour n'appliquer `fonction(x)` que sous certaines conditions :\n",
    "\n",
    "`[fonction(x) for x in L if x > 1]`\n",
    "\n",
    "```"
   ]
  },
  {
   "cell_type": "markdown",
   "id": "gothic-method",
   "metadata": {},
   "source": [
    "# Tenir compte des incertitudes avec polyfit.\n",
    "Rappel : On ajuste un modèle $Y=aX+b$ à partir de points de mesures $(x_i, y_i)$.\n",
    "\n",
    "## Sur les ordonnées\n",
    "`polyfit` permet de tenir compte des incertitudes de mesure sur les ordonnées $y_i$ en pondérant la fonction $\\Gamma(a,b)$ à minimiser. Les expressions théoriques auront peut d'utilité mais on donne la syntaxe :\n",
    "\n",
    "```{code-block}\n",
    "polyfit(x, y, deg, w=incy)\n",
    "```\n",
    "où :\n",
    "* `incy` est un vecteur contenant les incertitudes sur les ordonnées\n",
    "\n",
    "## Sur les paramètres estimés.\n",
    "Si l'on veut l'incertitude sur la pente `a` et sur l'ordonnée à l'origine `b`, il existe deux méthodes :\n",
    "* Réaliser une simulation de Monte-Carlo grâce à des tirages aléatoires (on utilisera la bibliothèques `numpy.random`, cf. les cours physique et de chimie)\n",
    "* Utiliser des relations mathématiques entre les incertitudes (on parle de propagation des variances).\n",
    "\n",
    "`polyfit` permet de calculer des incertitudes suivant la deuxième méthode. La syntaxe est :\n",
    "\n",
    "```{code-block}\n",
    "p, V = polyfit(x, y, deg, cov=True)\n",
    "```\n",
    "où :\n",
    "* `V` est une valeur de retour qui est un tableau numpy (on parle de _matrice de covariance_). Pour une droite affine, c'est un tableau $2\\times 2$ et les termes diagonaux donnent le carré des incertitudes de mesure :\n",
    "* `np.sqrt(V[0:0])` donne l'incertitude sur la pente $a$ (donc `p[0]`).\n",
    "* `np.sqrt(V[1:1])` donne l'incertitude sur l'ordonnée à l'origine $b$ (donc `p[1]`).\n",
    "\n",
    "## Combiner les deux\n",
    "Si l'on veut à la fois tenir compte des incertitudes sur les ordonnées ET évaluer l'incertitude sur $a$ et $b$, on utilisera la syntaxe :\n",
    "```{code-block}\n",
    "p, V = polyfit(x, y, deg, w=inc_y, cov='unscaled')\n",
    "```"
   ]
  },
  {
   "cell_type": "markdown",
   "id": "rocky-recruitment",
   "metadata": {},
   "source": [
    "# Les dictionnaires\n",
    "Les __dictionnaires__ sont des objets python un peu plus complexes que vous pourriez rencontrer comme retour d'une fonction native. Un dictionnaire, comme une liste possède un ensemble d'éléments (des entiers, flottants, chaine de caractère, listes, vecteur numpy ...) mais ces éléments sont rangés dans des _champs nommés_. Un exemple avec les différentes manipulations utiles :"
   ]
  },
  {
   "cell_type": "code",
   "execution_count": 11,
   "id": "changing-shopper",
   "metadata": {},
   "outputs": [
    {
     "name": "stdout",
     "output_type": "stream",
     "text": [
      "Nom des champs :\n",
      "fruit\n",
      "couleur\n",
      "nombre\n",
      "prix\n",
      "Contenu des champs :\n",
      "Pomme\n",
      "Rouge\n",
      "234\n",
      "3.45\n"
     ]
    }
   ],
   "source": [
    "\"\"\" On définit un dictionnaire. \n",
    "- Il a 4 champs : fruit, couleur, nombre, prix.\n",
    "- On a assigné à ces champs les valeurs respectives : \"Pomme\", \"Rouge\", 234, 3.45\n",
    "\n",
    "\"\"\"\n",
    "a = {'fruit': \"Pomme\", 'couleur': \"Rouge\", 'nombre': 234, 'prix': 3.45}\n",
    "\n",
    "b = a['fruit']  # Pour accéder au contenu du champ \"fruit\" du dictionnaire a\n",
    "\n",
    "print('Nom des champs :')\n",
    "for truc in a:  # truc prendra les différents nom des champs\n",
    "  print(truc)  # On affiche le nom des champs\n",
    "\n",
    "print('Contenu des champs :')\n",
    "for truc in a:  # truc prendra les différents nom des champs\n",
    "  print(a[truc])  # On affiche le contenu de chaque champ\n"
   ]
  },
  {
   "cell_type": "markdown",
   "id": "established-orleans",
   "metadata": {},
   "source": [
    "```{tip}\n",
    "Attention:\n",
    "* Si `fruit` est le nom d'un champ, on écrit `a[\"fruit\"]` avec des `\"\"` : c'est bien une chaine de caractère\n",
    "* Si `truc` est le nombre de la variable qui contient la chaine de caractère `\"fruit\"`, on écrit `a[truc]`\n",
    "```"
   ]
  },
  {
   "cell_type": "markdown",
   "id": "vital-buddy",
   "metadata": {},
   "source": [
    "# Fonctions et méthodes\n",
    "Vous avez peut-être remarqué que la façon d'appeler les \"fonctions\" pouvait un peu différer suivant les cas :\n",
    "* `print(f)` : La __fonction__ `print` agit sur _l'argument_ `f` en l'affichant.\n",
    "* `f.suptitle()` : la __méthode__  `suptitle` agit sur _l'objet_ `f` en le modifiant\n",
    "\n",
    "On ne revient pas sur les fonctions qui ont déjà été présentées précédemment.\n",
    "\n",
    "Les __méthodes__ sont comme des fonctions mais qui sont étroitement associées à certains types de variables (on parle d'objets). Cette notion est reliée à la __Programmation Orientée Objet__ (POO) rendue possibles par de nombreux langages informatiques (comme Python). \n",
    "\n",
    "Sans rentrer dans les détails, on peut en POO définir des _objets_ qui vont posséder certaines caractéristiques (des _attributs_) et certaines fonctions propres (des _méthodes_) qui permettent de les modifier ou d'obtenir certaines caractéristiques.\n",
    "\n",
    "Par exemple, si je crée un vecteur numpy `v0` : c'est un objet. \n",
    "* Il possède certaines attributs. Ex : `shape` donnera sa taille. Pour obtenir cet attribut, on écrira `v0.shape` (l'attribut `shape` de l'objet `v0`)\n",
    "* Il possède des méthodes. Ex : `fill(valeur)` remplit le vecteur avec la même `valeur`. Pour appliquer cette méthode à `v0`, on écrira `v0.fill(3)`.\n",
    "\n",
    "Il n'est pas nécessaire de maîtriser complètement la POO. Il suffira surtout de repérer quand on utilise la syntaxe d'une fonction (ex : `round(3.4)`) et qu'on il s'agit de la syntaxe d'une méthode (ex : `ax.set_xlabel('Légende des x')`)."
   ]
  }
 ],
 "metadata": {
  "jupytext": {
   "encoding": "# -*- coding: utf-8 -*-",
   "formats": "ipynb,md:myst",
   "split_at_heading": true,
   "text_representation": {
    "extension": ".md",
    "format_name": "myst",
    "format_version": 0.13,
    "jupytext_version": "1.10.3"
   }
  },
  "kernelspec": {
   "display_name": "Python 3",
   "language": "python",
   "name": "python3"
  },
  "language_info": {
   "codemirror_mode": {
    "name": "ipython",
    "version": 3
   },
   "file_extension": ".py",
   "mimetype": "text/x-python",
   "name": "python",
   "nbconvert_exporter": "python",
   "pygments_lexer": "ipython3",
   "version": "3.9.2"
  },
  "source_map": [
   15,
   19,
   24,
   42,
   55,
   65,
   75,
   82,
   90,
   102,
   126,
   150,
   176,
   181,
   197,
   207,
   211,
   215,
   219,
   224,
   240,
   265,
   276,
   285,
   321,
   325,
   343,
   351
  ]
 },
 "nbformat": 4,
 "nbformat_minor": 5
}