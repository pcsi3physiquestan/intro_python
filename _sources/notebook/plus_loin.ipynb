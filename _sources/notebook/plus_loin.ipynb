{
 "cells": [
  {
   "cell_type": "markdown",
   "id": "regular-madonna",
   "metadata": {},
   "source": [
    "Essayez avant tout de bien comprendre la première partie. Certains points abordés ici serviront très peu ou seront abordés pendant l'année."
   ]
  },
  {
   "cell_type": "code",
   "execution_count": 1,
   "id": "mineral-celtic",
   "metadata": {},
   "outputs": [],
   "source": [
    "\"\"\"On importe les bibliothèques scientifiques car elles seront utilisées ensuite\"\"\"\n",
    "import numpy as np\n",
    "import matplotlib.pyplot as plt\n"
   ]
  },
  {
   "cell_type": "markdown",
   "id": "meaningful-estonia",
   "metadata": {},
   "source": [
    "```{tip}\n",
    "L'ordre des parties va du plus important au moins important.\n",
    "\n",
    "```\n",
    "\n",
    "(erreurs)=\n",
    "# Comprendre ses erreurs\n",
    "\n",
    "Quand on écrit du code, on fait des erreurs. Ca arrive à tout le monde. Il y a deux types d'erreurs :\n",
    "* Les erreurs qui empêchent le code de s'exécuter correctement : Python renvoie alors un message d'erreur.\n",
    "* Les erreurs qui n'empêchent pas le code de s'exécuter mais qui font que le programme ne renvoie pas ce qui est attendu.\n",
    "\n",
    "## Python et les messages d'erreurs.\n",
    "\n",
    "### Exemple basique\n",
    "\n",
    "Lorsqu'un script bute sur un erreur d'exécution. Python affiche un message :"
   ]
  },
  {
   "cell_type": "code",
   "execution_count": 2,
   "id": "lovely-lemon",
   "metadata": {},
   "outputs": [
    {
     "ename": "ValueError",
     "evalue": "operands could not be broadcast together with shapes (3,) (2,) ",
     "output_type": "error",
     "traceback": [
      "\u001b[0;31m---------------------------------------------------------------------------\u001b[0m",
      "\u001b[0;31mValueError\u001b[0m                                Traceback (most recent call last)",
      "\u001b[0;32m<ipython-input-2-b43b36e465ad>\u001b[0m in \u001b[0;36m<module>\u001b[0;34m\u001b[0m\n\u001b[1;32m      2\u001b[0m \u001b[0mL2\u001b[0m \u001b[0;34m=\u001b[0m \u001b[0mnp\u001b[0m\u001b[0;34m.\u001b[0m\u001b[0marray\u001b[0m\u001b[0;34m(\u001b[0m\u001b[0;34m[\u001b[0m\u001b[0;36m1\u001b[0m\u001b[0;34m,\u001b[0m \u001b[0;36m2\u001b[0m\u001b[0;34m]\u001b[0m\u001b[0;34m)\u001b[0m\u001b[0;34m\u001b[0m\u001b[0;34m\u001b[0m\u001b[0m\n\u001b[1;32m      3\u001b[0m \u001b[0;34m\u001b[0m\u001b[0m\n\u001b[0;32m----> 4\u001b[0;31m \u001b[0mL3\u001b[0m \u001b[0;34m=\u001b[0m \u001b[0mL1\u001b[0m \u001b[0;34m+\u001b[0m \u001b[0mL2\u001b[0m\u001b[0;34m\u001b[0m\u001b[0;34m\u001b[0m\u001b[0m\n\u001b[0m\u001b[1;32m      5\u001b[0m \u001b[0;34m\u001b[0m\u001b[0m\n\u001b[1;32m      6\u001b[0m \u001b[0ma\u001b[0m \u001b[0;34m=\u001b[0m \u001b[0;36m3\u001b[0m \u001b[0;34m*\u001b[0m \u001b[0;36m4\u001b[0m\u001b[0;34m\u001b[0m\u001b[0;34m\u001b[0m\u001b[0m\n",
      "\u001b[0;31mValueError\u001b[0m: operands could not be broadcast together with shapes (3,) (2,) "
     ]
    }
   ],
   "source": [
    "L1 = np.array([1, 2, 3])\n",
    "L2 = np.array([1, 2])\n",
    "\n",
    "L3 = L1 + L2\n",
    "\n",
    "a = 3 * 4\n",
    "\n",
    "print(L3)\n"
   ]
  },
  {
   "cell_type": "markdown",
   "id": "distinct-buying",
   "metadata": {},
   "source": [
    "Pour comprendre et corriger son erreur, deux points sont importants :\n",
    "* L'endroit où l'erreur a été commise : ici `----> 6 L3 = L1 + L2`. C'est à la ligne 6.\n",
    "* Le message d'erreur : `ValueError: operands could not be broadcast together with shapes (3,) (2,) `. Avec un peu de connaissance en anglais, on comprend que les deux vecteurs numpy n'ont pas la même taille (shape) et qu'on ne peut donc pas les sommer.\n",
    "\n",
    "Dans la majorité des cas, ces deux éléments vont permettront de comprendre votre erreur.\n",
    "\n",
    "### Le cas d'erreur dans une fonction\n",
    "Il arrive que certaines erreurs se trouvent dans une fonction. Le message d'erreur est alors un peu plus compliqué :"
   ]
  },
  {
   "cell_type": "code",
   "execution_count": 3,
   "id": "reliable-travel",
   "metadata": {},
   "outputs": [
    {
     "ename": "TypeError",
     "evalue": "unsupported operand type(s) for ** or pow(): 'str' and 'int'",
     "output_type": "error",
     "traceback": [
      "\u001b[0;31m---------------------------------------------------------------------------\u001b[0m",
      "\u001b[0;31mTypeError\u001b[0m                                 Traceback (most recent call last)",
      "\u001b[0;32m<ipython-input-3-5177d4a278f0>\u001b[0m in \u001b[0;36m<module>\u001b[0;34m\u001b[0m\n\u001b[1;32m      4\u001b[0m \u001b[0ma\u001b[0m \u001b[0;34m=\u001b[0m \u001b[0;34m\"r\"\u001b[0m\u001b[0;34m\u001b[0m\u001b[0;34m\u001b[0m\u001b[0m\n\u001b[1;32m      5\u001b[0m \u001b[0;34m\u001b[0m\u001b[0m\n\u001b[0;32m----> 6\u001b[0;31m \u001b[0mb\u001b[0m \u001b[0;34m=\u001b[0m \u001b[0mx_carre\u001b[0m\u001b[0;34m(\u001b[0m\u001b[0ma\u001b[0m\u001b[0;34m)\u001b[0m\u001b[0;34m\u001b[0m\u001b[0;34m\u001b[0m\u001b[0m\n\u001b[0m\u001b[1;32m      7\u001b[0m \u001b[0;34m\u001b[0m\u001b[0m\n\u001b[1;32m      8\u001b[0m \u001b[0mprint\u001b[0m\u001b[0;34m(\u001b[0m\u001b[0mb\u001b[0m\u001b[0;34m)\u001b[0m\u001b[0;34m\u001b[0m\u001b[0;34m\u001b[0m\u001b[0m\n",
      "\u001b[0;32m<ipython-input-3-5177d4a278f0>\u001b[0m in \u001b[0;36mx_carre\u001b[0;34m(x)\u001b[0m\n\u001b[1;32m      1\u001b[0m \u001b[0;32mdef\u001b[0m \u001b[0mx_carre\u001b[0m\u001b[0;34m(\u001b[0m\u001b[0mx\u001b[0m\u001b[0;34m)\u001b[0m\u001b[0;34m:\u001b[0m\u001b[0;34m\u001b[0m\u001b[0;34m\u001b[0m\u001b[0m\n\u001b[0;32m----> 2\u001b[0;31m   \u001b[0;32mreturn\u001b[0m \u001b[0mx\u001b[0m \u001b[0;34m**\u001b[0m \u001b[0;36m2\u001b[0m\u001b[0;34m\u001b[0m\u001b[0;34m\u001b[0m\u001b[0m\n\u001b[0m\u001b[1;32m      3\u001b[0m \u001b[0;34m\u001b[0m\u001b[0m\n\u001b[1;32m      4\u001b[0m \u001b[0ma\u001b[0m \u001b[0;34m=\u001b[0m \u001b[0;34m\"r\"\u001b[0m\u001b[0;34m\u001b[0m\u001b[0;34m\u001b[0m\u001b[0m\n\u001b[1;32m      5\u001b[0m \u001b[0;34m\u001b[0m\u001b[0m\n",
      "\u001b[0;31mTypeError\u001b[0m: unsupported operand type(s) for ** or pow(): 'str' and 'int'"
     ]
    }
   ],
   "source": [
    "def x_carre(x):\n",
    "  return x ** 2\n",
    "\n",
    "a = \"r\"\n",
    "\n",
    "b = x_carre(a)\n",
    "\n",
    "print(b)\n"
   ]
  },
  {
   "cell_type": "markdown",
   "id": "grave-renaissance",
   "metadata": {},
   "source": [
    "Ici, Python signale deux endroits où il y a une erreur. L'explication est simple : ici le message est assez clair, l'opérateur puissance (`**`) ne peut s'appliquer entre une chaine de caractère `str` et un entier `int` (logique !!). Sauf que cette erreur se produit dans une fonction (`x_carre`). Python signale alors :\n",
    "* l'endroit où la fonction a été appelée `b = x_carre(a)`\n",
    "* l'endroit _dans la fonction_ à l'erreur a été déclenchée (`return x ** 2`)\n",
    "\n",
    "A vous de savoir si le problème est la définition de la fonction ou la manière de l'appeler. Ici c'est vraisemblablement la manière de l'appeler car on ne devrait pas chercher à calculer le carré d'une chaine de caractère !\n",
    "\n",
    "Ce système est très efficace mais peut dérouter, surtout quand on utilise des fonctions déjà existantes qui sont souvent imbriquées. Un exemple ci-dessous."
   ]
  },
  {
   "cell_type": "code",
   "execution_count": 4,
   "id": "inappropriate-steps",
   "metadata": {},
   "outputs": [
    {
     "ename": "ValueError",
     "evalue": "x and y must have same first dimension, but have shapes (3,) and (2,)",
     "output_type": "error",
     "traceback": [
      "\u001b[0;31m---------------------------------------------------------------------------\u001b[0m",
      "\u001b[0;31mValueError\u001b[0m                                Traceback (most recent call last)",
      "\u001b[0;32m<ipython-input-4-c859c85d5b52>\u001b[0m in \u001b[0;36m<module>\u001b[0;34m\u001b[0m\n\u001b[1;32m      3\u001b[0m \u001b[0;34m\u001b[0m\u001b[0m\n\u001b[1;32m      4\u001b[0m \u001b[0mf\u001b[0m\u001b[0;34m,\u001b[0m \u001b[0max\u001b[0m \u001b[0;34m=\u001b[0m \u001b[0mplt\u001b[0m\u001b[0;34m.\u001b[0m\u001b[0msubplots\u001b[0m\u001b[0;34m(\u001b[0m\u001b[0;34m)\u001b[0m\u001b[0;34m\u001b[0m\u001b[0;34m\u001b[0m\u001b[0m\n\u001b[0;32m----> 5\u001b[0;31m \u001b[0max\u001b[0m\u001b[0;34m.\u001b[0m\u001b[0mplot\u001b[0m\u001b[0;34m(\u001b[0m\u001b[0mL1\u001b[0m\u001b[0;34m,\u001b[0m \u001b[0mL2\u001b[0m\u001b[0;34m)\u001b[0m\u001b[0;34m\u001b[0m\u001b[0;34m\u001b[0m\u001b[0m\n\u001b[0m",
      "\u001b[0;32m~/miniconda3/envs/jupybook/lib/python3.9/site-packages/matplotlib/axes/_axes.py\u001b[0m in \u001b[0;36mplot\u001b[0;34m(self, scalex, scaley, data, *args, **kwargs)\u001b[0m\n\u001b[1;32m   1741\u001b[0m         \"\"\"\n\u001b[1;32m   1742\u001b[0m         \u001b[0mkwargs\u001b[0m \u001b[0;34m=\u001b[0m \u001b[0mcbook\u001b[0m\u001b[0;34m.\u001b[0m\u001b[0mnormalize_kwargs\u001b[0m\u001b[0;34m(\u001b[0m\u001b[0mkwargs\u001b[0m\u001b[0;34m,\u001b[0m \u001b[0mmlines\u001b[0m\u001b[0;34m.\u001b[0m\u001b[0mLine2D\u001b[0m\u001b[0;34m)\u001b[0m\u001b[0;34m\u001b[0m\u001b[0;34m\u001b[0m\u001b[0m\n\u001b[0;32m-> 1743\u001b[0;31m         \u001b[0mlines\u001b[0m \u001b[0;34m=\u001b[0m \u001b[0;34m[\u001b[0m\u001b[0;34m*\u001b[0m\u001b[0mself\u001b[0m\u001b[0;34m.\u001b[0m\u001b[0m_get_lines\u001b[0m\u001b[0;34m(\u001b[0m\u001b[0;34m*\u001b[0m\u001b[0margs\u001b[0m\u001b[0;34m,\u001b[0m \u001b[0mdata\u001b[0m\u001b[0;34m=\u001b[0m\u001b[0mdata\u001b[0m\u001b[0;34m,\u001b[0m \u001b[0;34m**\u001b[0m\u001b[0mkwargs\u001b[0m\u001b[0;34m)\u001b[0m\u001b[0;34m]\u001b[0m\u001b[0;34m\u001b[0m\u001b[0;34m\u001b[0m\u001b[0m\n\u001b[0m\u001b[1;32m   1744\u001b[0m         \u001b[0;32mfor\u001b[0m \u001b[0mline\u001b[0m \u001b[0;32min\u001b[0m \u001b[0mlines\u001b[0m\u001b[0;34m:\u001b[0m\u001b[0;34m\u001b[0m\u001b[0;34m\u001b[0m\u001b[0m\n\u001b[1;32m   1745\u001b[0m             \u001b[0mself\u001b[0m\u001b[0;34m.\u001b[0m\u001b[0madd_line\u001b[0m\u001b[0;34m(\u001b[0m\u001b[0mline\u001b[0m\u001b[0;34m)\u001b[0m\u001b[0;34m\u001b[0m\u001b[0;34m\u001b[0m\u001b[0m\n",
      "\u001b[0;32m~/miniconda3/envs/jupybook/lib/python3.9/site-packages/matplotlib/axes/_base.py\u001b[0m in \u001b[0;36m__call__\u001b[0;34m(self, data, *args, **kwargs)\u001b[0m\n\u001b[1;32m    271\u001b[0m                 \u001b[0mthis\u001b[0m \u001b[0;34m+=\u001b[0m \u001b[0margs\u001b[0m\u001b[0;34m[\u001b[0m\u001b[0;36m0\u001b[0m\u001b[0;34m]\u001b[0m\u001b[0;34m,\u001b[0m\u001b[0;34m\u001b[0m\u001b[0;34m\u001b[0m\u001b[0m\n\u001b[1;32m    272\u001b[0m                 \u001b[0margs\u001b[0m \u001b[0;34m=\u001b[0m \u001b[0margs\u001b[0m\u001b[0;34m[\u001b[0m\u001b[0;36m1\u001b[0m\u001b[0;34m:\u001b[0m\u001b[0;34m]\u001b[0m\u001b[0;34m\u001b[0m\u001b[0;34m\u001b[0m\u001b[0m\n\u001b[0;32m--> 273\u001b[0;31m             \u001b[0;32myield\u001b[0m \u001b[0;32mfrom\u001b[0m \u001b[0mself\u001b[0m\u001b[0;34m.\u001b[0m\u001b[0m_plot_args\u001b[0m\u001b[0;34m(\u001b[0m\u001b[0mthis\u001b[0m\u001b[0;34m,\u001b[0m \u001b[0mkwargs\u001b[0m\u001b[0;34m)\u001b[0m\u001b[0;34m\u001b[0m\u001b[0;34m\u001b[0m\u001b[0m\n\u001b[0m\u001b[1;32m    274\u001b[0m \u001b[0;34m\u001b[0m\u001b[0m\n\u001b[1;32m    275\u001b[0m     \u001b[0;32mdef\u001b[0m \u001b[0mget_next_color\u001b[0m\u001b[0;34m(\u001b[0m\u001b[0mself\u001b[0m\u001b[0;34m)\u001b[0m\u001b[0;34m:\u001b[0m\u001b[0;34m\u001b[0m\u001b[0;34m\u001b[0m\u001b[0m\n",
      "\u001b[0;32m~/miniconda3/envs/jupybook/lib/python3.9/site-packages/matplotlib/axes/_base.py\u001b[0m in \u001b[0;36m_plot_args\u001b[0;34m(self, tup, kwargs)\u001b[0m\n\u001b[1;32m    397\u001b[0m \u001b[0;34m\u001b[0m\u001b[0m\n\u001b[1;32m    398\u001b[0m         \u001b[0;32mif\u001b[0m \u001b[0mx\u001b[0m\u001b[0;34m.\u001b[0m\u001b[0mshape\u001b[0m\u001b[0;34m[\u001b[0m\u001b[0;36m0\u001b[0m\u001b[0;34m]\u001b[0m \u001b[0;34m!=\u001b[0m \u001b[0my\u001b[0m\u001b[0;34m.\u001b[0m\u001b[0mshape\u001b[0m\u001b[0;34m[\u001b[0m\u001b[0;36m0\u001b[0m\u001b[0;34m]\u001b[0m\u001b[0;34m:\u001b[0m\u001b[0;34m\u001b[0m\u001b[0;34m\u001b[0m\u001b[0m\n\u001b[0;32m--> 399\u001b[0;31m             raise ValueError(f\"x and y must have same first dimension, but \"\n\u001b[0m\u001b[1;32m    400\u001b[0m                              f\"have shapes {x.shape} and {y.shape}\")\n\u001b[1;32m    401\u001b[0m         \u001b[0;32mif\u001b[0m \u001b[0mx\u001b[0m\u001b[0;34m.\u001b[0m\u001b[0mndim\u001b[0m \u001b[0;34m>\u001b[0m \u001b[0;36m2\u001b[0m \u001b[0;32mor\u001b[0m \u001b[0my\u001b[0m\u001b[0;34m.\u001b[0m\u001b[0mndim\u001b[0m \u001b[0;34m>\u001b[0m \u001b[0;36m2\u001b[0m\u001b[0;34m:\u001b[0m\u001b[0;34m\u001b[0m\u001b[0;34m\u001b[0m\u001b[0m\n",
      "\u001b[0;31mValueError\u001b[0m: x and y must have same first dimension, but have shapes (3,) and (2,)"
     ]
    },
    {
     "data": {
      "image/png": "[encoded data removed]",
      "text/plain": [
       "<Figure size 432x288 with 1 Axes>"
      ]
     },
     "metadata": {
      "filenames": {
       "image/png": "/home/ubuntu/Dropbox/Enseignement prepas/approche_numeriques/intro_python/_build/jupyter_execute/notebook/plus_loin_7_1.png"
      },
      "needs_background": "light"
     },
     "output_type": "display_data"
    }
   ],
   "source": [
    "L1 = np.array([1, 2, 3])\n",
    "L2 = np.array([1, 2])\n",
    "\n",
    "f, ax = plt.subplots()\n",
    "ax.plot(L1, L2)\n"
   ]
  },
  {
   "cell_type": "markdown",
   "id": "static-familiar",
   "metadata": {},
   "source": [
    "Pour corriger son erreur, il faut :\n",
    "* garder son calme !\n",
    "* chercher le message d'erreur (ici `ValueError: x and y must have same first dimension, but have shapes (3,) and (2,)`)\n",
    "* chercher la partie du message d'erreur qui point vers __votre code__ (on peut raisonnablement penser qu'il n'y a pas d'erreurs dans les fonctions des bibliothèques officielles). Ici `ax.plot(L1, L2)` : `L1` et `L2` n'ont pas la même taille, c'est là le problème.\n",
    "\n",
    "## Les parenthèses...\n",
    "Lorsqu'on écrit une formule un peu trop grosse, il arrive qu'on oublie de fermer une parenthèse."
   ]
  },
  {
   "cell_type": "code",
   "execution_count": 5,
   "id": "korean-scale",
   "metadata": {},
   "outputs": [
    {
     "ename": "SyntaxError",
     "evalue": "invalid syntax (<ipython-input-5-8048891cc3a0>, line 10)",
     "output_type": "error",
     "traceback": [
      "\u001b[0;36m  File \u001b[0;32m\"<ipython-input-5-8048891cc3a0>\"\u001b[0;36m, line \u001b[0;32m10\u001b[0m\n\u001b[0;31m    print(ua)\u001b[0m\n\u001b[0m    ^\u001b[0m\n\u001b[0;31mSyntaxError\u001b[0m\u001b[0;31m:\u001b[0m invalid syntax\n"
     ]
    }
   ],
   "source": [
    "u1 = 1\n",
    "u2 = 0.1\n",
    "v1 = 15\n",
    "v2 = 14\n",
    "a = v1 / v2\n",
    "ua = a * np.sqrt((u1 / v1) ** 2 + (u2 / v2) ** 2\n",
    "\n",
    "\n",
    "\n",
    "print(ua)\n"
   ]
  },
  {
   "cell_type": "markdown",
   "id": "accepting-ordering",
   "metadata": {},
   "source": [
    "Problèmes :\n",
    "* le message est peu verbeux (syntaxe invalide)\n",
    "* la ligne pointé par le message n'est pas la ligne où il y a une erreur !\n",
    "\n",
    "En effet, Python  ne se rend compte du problème de parenthèse mal fermée que lorsqu'il arrive sur une nouvelle instruction. C'est pourquoi, __en cas d'erreur de syntaxe invalide, pensez aussi à vérifier l'écriture des lignes _au dessus_ de l'endroit signalé par le message d'erreur.__"
   ]
  },
  {
   "cell_type": "markdown",
   "id": "aggressive-mirror",
   "metadata": {},
   "source": [
    "# La bibliothèque numpy.random\n",
    "La sous-bibliothèque `numpy.random` a été rapidement évoquée dans un exercice. Elle sera très utile en physique et en chimie pourles calculs d'incertitude (simulation de Monte-Carlo). Elle propose des fonctions qui permettent de simuler un tirage aléatoire suivant une loi choisi. On présente deux fonctions en particulier : `uniform` et `normal`.\n",
    "\n",
    "## Rappel : Importation de la bibliothèque"
   ]
  },
  {
   "cell_type": "code",
   "execution_count": 6,
   "id": "novel-percentage",
   "metadata": {},
   "outputs": [],
   "source": [
    "import numpy.random as rd  # Il est conseillé d'importer les bibliothèques au début de votre script\n"
   ]
  },
  {
   "cell_type": "markdown",
   "id": "public-march",
   "metadata": {},
   "source": [
    "## Signature des fonctions\n",
    "On ne présente pas ici les loi de probabilités. Voici quelques informations :\n",
    "* [Loi uniforme - Wikipedia](https://fr.wikipedia.org/wiki/Loi_uniforme_continue)\n",
    "* [Loi normale (ou gaussienne) - Wikipedia](https://fr.wikipedia.org/wiki/Loi_normale)\n",
    "\n",
    "La syntaxe :\n",
    "* `rd.uniform(a, b, N)` va réaliser N tirages aléatoires suivant une loi uniforme entre les valeurs `a` et `b`.\n",
    "* `rd.normal(m, s, N)` va réaliser N tirages aléatoires suivant une loi normale d'espérance `m` et d'écart-type `s`\n",
    "\n",
    "```{note} \n",
    "Les deux fonctions renvoient un vecteur `numpy`\n",
    "```"
   ]
  },
  {
   "cell_type": "code",
   "execution_count": 7,
   "id": "blind-needle",
   "metadata": {},
   "outputs": [
    {
     "name": "stdout",
     "output_type": "stream",
     "text": [
      "CPU times: user 7 µs, sys: 1 µs, total: 8 µs\n",
      "Wall time: 15.7 µs\n"
     ]
    },
    {
     "data": {
      "image/png": "[encoded data removed]",
      "text/plain": [
       "<Figure size 432x288 with 1 Axes>"
      ]
     },
     "metadata": {
      "filenames": {
       "image/png": "/home/ubuntu/Dropbox/Enseignement prepas/approche_numeriques/intro_python/_build/jupyter_execute/notebook/plus_loin_14_1.png"
      },
      "needs_background": "light"
     },
     "output_type": "display_data"
    }
   ],
   "source": [
    "%time  # Permet d'afficher le temps d'exécution (pas à connaître). \n",
    "# On verra qu'on peut ainsi faire un grande nombre de simulation rapidement\n",
    "\n",
    "N = 1000000  # Nombre d'échantillons\n",
    "X1 = rd.uniform(-4, 6, N)\n",
    "X2 = rd.normal(8, 2, N)\n",
    "\n",
    "f, ax = plt.subplots()\n",
    "ax.hist(X1, bins='rice', color='red', label='Distribution uniforme')\n",
    "ax.hist(X2, bins='rice', color='blue', label='Distribution normale')\n",
    "ax.legend()\n",
    "plt.show()\n"
   ]
  },
  {
   "cell_type": "markdown",
   "id": "provincial-witch",
   "metadata": {},
   "source": [
    "## Pour aller encore plus loin...\n",
    "La syntaxe précédente suffira en général. Mais si on a plusieurs variables $u_1, u_2, u_3, ...$ qui suivent le même type de loi (ex : loi uniforme) avec des paramètres différents (entre $a_1$ et$b_1$, entre $a_2$ et$b_2$, entre $a_2$ et $b_2$,...). On peut alors utiliser demander à la fonction  `uniform` (idem pour `normal`) de créer un tableau `numpy` de valeur où chaque colonne contient N tirages suivant chaque distritubion choisie. Ci-après la syntaxe :"
   ]
  },
  {
   "cell_type": "code",
   "execution_count": 8,
   "id": "victorian-hardware",
   "metadata": {},
   "outputs": [
    {
     "data": {
      "image/png": "[encoded data removed]",
      "text/plain": [
       "<Figure size 432x288 with 1 Axes>"
      ]
     },
     "metadata": {
      "filenames": {
       "image/png": "/home/ubuntu/Dropbox/Enseignement prepas/approche_numeriques/intro_python/_build/jupyter_execute/notebook/plus_loin_16_0.png"
      },
      "needs_background": "light"
     },
     "output_type": "display_data"
    }
   ],
   "source": [
    "N = 1000000  # Nombre de tirages\n",
    "u_min = [1, 5, 10]  # 3 valeurs minimales des 3 distributions uniformes\n",
    "u_max = [3, 7, 12]  # 3 valeurs amximales des 3 distributions uniformes\n",
    "\n",
    "k = len(u_min)\n",
    "\n",
    "u_sims = rd.uniform(u_min, u_max, (N, k))  # On demande explicite un tableau de taille N*k\n",
    "\n",
    "X1 = u_sims[:, 0]  # Simulation des u1\n",
    "X2 = u_sims[:, 1]  # Simulation des u2\n",
    "X3 = u_sims[:, 2]  # Simulation des u3\n",
    "\n",
    "f, ax = plt.subplots()\n",
    "ax.hist(X1, bins='rice', color='red', label='Entre 1 et 3')\n",
    "ax.hist(X2, bins='rice', color='blue', label='Entre 5 et 7')\n",
    "ax.hist(X3, bins='rice', color='black', label='Entre 10 et 12')\n",
    "ax.legend()\n",
    "plt.show()\n"
   ]
  },
  {
   "cell_type": "markdown",
   "id": "satisfied-superior",
   "metadata": {},
   "source": [
    "Et avec des lois normales :"
   ]
  },
  {
   "cell_type": "code",
   "execution_count": 9,
   "id": "separate-shannon",
   "metadata": {},
   "outputs": [
    {
     "data": {
      "image/png": "[encoded data removed]",
      "text/plain": [
       "<Figure size 432x288 with 1 Axes>"
      ]
     },
     "metadata": {
      "filenames": {
       "image/png": "/home/ubuntu/Dropbox/Enseignement prepas/approche_numeriques/intro_python/_build/jupyter_execute/notebook/plus_loin_18_0.png"
      },
      "needs_background": "light"
     },
     "output_type": "display_data"
    }
   ],
   "source": [
    "N = 1000000  # Nombre de tirages\n",
    "u_mean = [1, 5, 15]  # 3 valeurs minimales des 3 distributions uniformes\n",
    "u_u = [1, 2, 3]  # 3 valeurs amximales des 3 distributions uniformes\n",
    "\n",
    "k = len(u_min)\n",
    "\n",
    "u_sims = rd.normal(u_mean, u_u, (N, k))  # On demande explicite un tableau de taille N*k\n",
    "\n",
    "X1 = u_sims[:, 0]  # Simulation des u1\n",
    "X2 = u_sims[:, 1]  # Simulation des u2\n",
    "X3 = u_sims[:, 2]  # Simulation des u3\n",
    "\n",
    "f, ax = plt.subplots()\n",
    "ax.hist(X1, bins='rice', color='red', label='m=1, s=1')\n",
    "ax.hist(X2, bins='rice', color='blue', label='m=5, s=2')\n",
    "ax.hist(X3, bins='rice', color='black', label='m=15, s=3')\n",
    "ax.legend()\n",
    "plt.show()"
   ]
  },
  {
   "cell_type": "markdown",
   "id": "competent-courage",
   "metadata": {},
   "source": [
    "```{margin}\n",
    "Voir la [partie sur les tableaux](tableau_numpy) pour la sélection d'une colonne du tableau.\n",
    "```"
   ]
  },
  {
   "cell_type": "markdown",
   "id": "pleased-energy",
   "metadata": {},
   "source": [
    "# La fonction numpy.polyfit\n",
    "\n",
    "Il arrive fréquemment qu'on veuille ajuster un modèle théorique sur des points de données expérimentaux. Le plus courramment utilisé pour non est l'ajustement d'un modèle affine $y = ax + b$ à des points expérimentaux $(x_i, y_i)$ (i allant de 1 à  N). On veut connaître les valeurs de $a$ et $b$ qui donne une droite passant au plus près des points expérimentaux.\n",
    "\n",
    "On ne va pas présenter ici ce que signifie \"au plus près\", ni comment sont déterminer les coefficients $a$ et $b$. On présente juste une fonction (`polyfit`) de la bibliothèque `numpy` qui permet justement de réaliser cet ajustement (on parle de __régression linéaire__).\n",
    "\n",
    "```{note}\n",
    "`polyfit` permet de réaliser un ajustement par un polynôme de degré `n` quelconque. On se limitera ici à $n=1$ soit une droite.\n",
    "```\n",
    "\n",
    "## La syntaxe\n",
    "\n",
    "On dispose de deux vecteurs numpy (ou listes classiques) contenant les $x_i$ (variable `xi`) et les $y_i$ (variable `yi`) expérimentaux. On écrit :\n",
    "\n",
    "```python\n",
    "p = polyfit(xi, yi, n)  # n est le degré du polynôme d'ajustement donc pour nous n=1\n",
    "\n",
    "```\n",
    "\n",
    "```{margin}\n",
    "`polyfit` permet de réaliser un ajustement par un polynôme de degré `n` quelconque. On se limitera ici à $n=1$ soit une droite.\n",
    "```\n",
    "\n",
    "`p` est un vecteur numpy contenant les coefficients du polynôme par ordre de puissance décroissante. Ainsi pour :\n",
    "\n",
    "```python\n",
    "p = polyfit(xi, yi, 1)  # n est le degré du polynôme d'ajustement donc pour nous n=1\n",
    "```\n",
    "\n",
    "`p` contient : `[a, b]` avec comme modèle : `y = ax + b`. On y accède par : `p[0]` (pente) et `p[1]` (ordonnée à l'origine).\n",
    "\n",
    "## Un exemple"
   ]
  },
  {
   "cell_type": "code",
   "execution_count": 10,
   "id": "terminal-amazon",
   "metadata": {},
   "outputs": [
    {
     "data": {
      "text/plain": [
       "<matplotlib.legend.Legend at 0x7f7b31e0b850>"
      ]
     },
     "execution_count": 10,
     "metadata": {},
     "output_type": "execute_result"
    },
    {
     "data": {
      "image/png": "[encoded data removed]",
      "text/plain": [
       "<Figure size 432x288 with 1 Axes>"
      ]
     },
     "metadata": {
      "filenames": {
       "image/png": "/home/ubuntu/Dropbox/Enseignement prepas/approche_numeriques/intro_python/_build/jupyter_execute/notebook/plus_loin_21_1.png"
      },
      "needs_background": "light"
     },
     "output_type": "display_data"
    }
   ],
   "source": [
    "\"\"\" Fausses (!) données expérimentales \"\"\"\n",
    "xi = np.array([0.2, 0.8, 1.6, 3.4, 4.5, 7.5])\n",
    "yi = np.array([4.4, 5.7, 7.2, 11.7, 13.3, 21.8])\n",
    "\n",
    "\"\"\"Ajustement linéaire\"\"\"\n",
    "p = np.polyfit(xi, yi, 1)\n",
    "y_adj = p[0] * xi + p[1]  # On applique la droite ajusté aux xi pour comparaison.\n",
    "\n",
    "\n",
    "f, ax = plt.subplots()\n",
    "f.suptitle(\"Ajustement linéaire\")\n",
    "\n",
    "ax.plot(xi, yi, marker='+', label='Données expérimentales', linestyle='', color='red')  # On voit l'intérêt des options\n",
    "ax.plot(xi, y_adj, marker='', label='Ajustement', linestyle='-', color='blue')  # On voit l'intérêt des options\n",
    "\n",
    "ax.legend()\n"
   ]
  },
  {
   "cell_type": "markdown",
   "id": "wound-perry",
   "metadata": {},
   "source": [
    "(tableau_numpy)=\n",
    "# Tableaux numpy : manipulations\n",
    "\n",
    "## Opérations usuelles et concaténation\n",
    "* Les opérations usuelles et fonctions mathématiques présentées précédemment s'appliquent à nouveau pour les tableaux numpy.\n",
    "* Concaténation : La fonction `append` doit prendre un troisième argument si on concatène deux tableaux (ou un tableau et un vecteur). L'argument `axis = `:\n",
    "    * `axis = 0` : Concaténer _verticalement_ : les deux tableaux doivent donc avec le même nombre de colonnes. Sinon Python renverra une erreur.\n",
    "    * `axis = 1` : Concaténer _horizontalement_ : les deux tableaux doivent donc avec le même nombre de lignes. Sinon Python renverra une erreur.\n",
    "    * Pas de `axis` : Python va transformer les tableaux en vecteurs et concaténer les vecteurs."
   ]
  },
  {
   "cell_type": "code",
   "execution_count": 11,
   "id": "previous-aggregate",
   "metadata": {},
   "outputs": [
    {
     "name": "stdout",
     "output_type": "stream",
     "text": [
      "[2.3  2.5  3.14 3.16 3.14 4.17 1.2  3.7  4.2  3.1 ]\n",
      "[[2.3  2.5 ]\n",
      " [3.14 3.16]\n",
      " [3.14 4.17]\n",
      " [1.2  3.7 ]\n",
      " [4.2  3.1 ]]\n"
     ]
    },
    {
     "ename": "ValueError",
     "evalue": "all the input array dimensions for the concatenation axis must match exactly, but along dimension 0, the array at index 0 has size 3 and the array at index 1 has size 2",
     "output_type": "error",
     "traceback": [
      "\u001b[0;31m---------------------------------------------------------------------------\u001b[0m",
      "\u001b[0;31mValueError\u001b[0m                                Traceback (most recent call last)",
      "\u001b[0;32m<ipython-input-11-6a2b3cf6bb19>\u001b[0m in \u001b[0;36m<module>\u001b[0;34m\u001b[0m\n\u001b[1;32m      8\u001b[0m \u001b[0mprint\u001b[0m\u001b[0;34m(\u001b[0m\u001b[0mL4\u001b[0m\u001b[0;34m)\u001b[0m\u001b[0;34m\u001b[0m\u001b[0;34m\u001b[0m\u001b[0m\n\u001b[1;32m      9\u001b[0m \u001b[0;34m\u001b[0m\u001b[0m\n\u001b[0;32m---> 10\u001b[0;31m \u001b[0mL5\u001b[0m \u001b[0;34m=\u001b[0m \u001b[0mnp\u001b[0m\u001b[0;34m.\u001b[0m\u001b[0mappend\u001b[0m\u001b[0;34m(\u001b[0m\u001b[0mL1\u001b[0m\u001b[0;34m,\u001b[0m \u001b[0mL2\u001b[0m\u001b[0;34m,\u001b[0m \u001b[0maxis\u001b[0m\u001b[0;34m=\u001b[0m\u001b[0;36m1\u001b[0m\u001b[0;34m)\u001b[0m  \u001b[0;31m# Renvoie un erreur car on ne peut placer L2 à droite de L1 : pas le même nombre de lignes\u001b[0m\u001b[0;34m\u001b[0m\u001b[0;34m\u001b[0m\u001b[0m\n\u001b[0m\u001b[1;32m     11\u001b[0m \u001b[0mprint\u001b[0m\u001b[0;34m(\u001b[0m\u001b[0mL5\u001b[0m\u001b[0;34m)\u001b[0m\u001b[0;34m\u001b[0m\u001b[0;34m\u001b[0m\u001b[0m\n",
      "\u001b[0;32m<__array_function__ internals>\u001b[0m in \u001b[0;36mappend\u001b[0;34m(*args, **kwargs)\u001b[0m\n",
      "\u001b[0;32m~/miniconda3/envs/jupybook/lib/python3.9/site-packages/numpy/lib/function_base.py\u001b[0m in \u001b[0;36mappend\u001b[0;34m(arr, values, axis)\u001b[0m\n\u001b[1;32m   4669\u001b[0m         \u001b[0mvalues\u001b[0m \u001b[0;34m=\u001b[0m \u001b[0mravel\u001b[0m\u001b[0;34m(\u001b[0m\u001b[0mvalues\u001b[0m\u001b[0;34m)\u001b[0m\u001b[0;34m\u001b[0m\u001b[0;34m\u001b[0m\u001b[0m\n\u001b[1;32m   4670\u001b[0m         \u001b[0maxis\u001b[0m \u001b[0;34m=\u001b[0m \u001b[0marr\u001b[0m\u001b[0;34m.\u001b[0m\u001b[0mndim\u001b[0m\u001b[0;34m-\u001b[0m\u001b[0;36m1\u001b[0m\u001b[0;34m\u001b[0m\u001b[0;34m\u001b[0m\u001b[0m\n\u001b[0;32m-> 4671\u001b[0;31m     \u001b[0;32mreturn\u001b[0m \u001b[0mconcatenate\u001b[0m\u001b[0;34m(\u001b[0m\u001b[0;34m(\u001b[0m\u001b[0marr\u001b[0m\u001b[0;34m,\u001b[0m \u001b[0mvalues\u001b[0m\u001b[0;34m)\u001b[0m\u001b[0;34m,\u001b[0m \u001b[0maxis\u001b[0m\u001b[0;34m=\u001b[0m\u001b[0maxis\u001b[0m\u001b[0;34m)\u001b[0m\u001b[0;34m\u001b[0m\u001b[0;34m\u001b[0m\u001b[0m\n\u001b[0m\u001b[1;32m   4672\u001b[0m \u001b[0;34m\u001b[0m\u001b[0m\n\u001b[1;32m   4673\u001b[0m \u001b[0;34m\u001b[0m\u001b[0m\n",
      "\u001b[0;32m<__array_function__ internals>\u001b[0m in \u001b[0;36mconcatenate\u001b[0;34m(*args, **kwargs)\u001b[0m\n",
      "\u001b[0;31mValueError\u001b[0m: all the input array dimensions for the concatenation axis must match exactly, but along dimension 0, the array at index 0 has size 3 and the array at index 1 has size 2"
     ]
    }
   ],
   "source": [
    "L1 = np.array([[2.3, 2.5], [3.14, 3.16], [3.14, 4.17]])\n",
    "L2 = np.array([[1.2, 3.7], [4.2, 3.1]])\n",
    "\n",
    "L3 = np.append(L1, L2)  # On aplatit les tableaux pour obtenir un vecteur.\n",
    "print(L3)\n",
    "\n",
    "L4 = np.append(L1, L2, axis=0)  # On place L2 sous L1\n",
    "print(L4)\n",
    "\n",
    "L5 = np.append(L1, L2, axis=1)  # Renvoie un erreur car on ne peut placer L2 à droite de L1 : pas le même nombre de lignes\n",
    "print(L5)"
   ]
  },
  {
   "cell_type": "markdown",
   "id": "painful-connecticut",
   "metadata": {},
   "source": [
    "## Sélection d'une partie d'un tableau.\n",
    "```{attention}\n",
    "* La méthode présentée ne fonctionne pas avec une liste de listes classique. Uniquement avec des tableaux `numpy`\n",
    "* Attention, l'__indexation commence toujours à 0__\n",
    "```\n",
    "\n",
    "### Sélection d'un élément."
   ]
  },
  {
   "cell_type": "code",
   "execution_count": 12,
   "id": "classical-orange",
   "metadata": {},
   "outputs": [
    {
     "name": "stdout",
     "output_type": "stream",
     "text": [
      "4.17\n"
     ]
    },
    {
     "data": {
      "text/plain": [
       "'\\n2 : sélection de la troisième ligne\\n1 : sélection de la deuxième colonne\\n\\nOn affiche donc 4.17\\n'"
      ]
     },
     "execution_count": 12,
     "metadata": {},
     "output_type": "execute_result"
    }
   ],
   "source": [
    "L1 = np.array([[2.3, 2.5], [3.14, 3.16], [3.14, 4.17]])\n",
    "print(L1[2, 1])\n",
    "\"\"\"\n",
    "2 : sélection de la troisième ligne\n",
    "1 : sélection de la deuxième colonne\n",
    "\n",
    "On affiche donc 4.17\n",
    "\"\"\""
   ]
  },
  {
   "cell_type": "markdown",
   "id": "civil-attribute",
   "metadata": {},
   "source": [
    "### Sélection d'une portion d'un tableau\n",
    "```{margin}\n",
    "On rappelle que L1[1:3] sélectionne jusqu'à l'index 3 (quatrième élément ) __non inclus__.\n",
    "```"
   ]
  },
  {
   "cell_type": "code",
   "execution_count": 13,
   "id": "generous-shepherd",
   "metadata": {},
   "outputs": [
    {
     "name": "stdout",
     "output_type": "stream",
     "text": [
      "Première sélection [[ 2.5   6.8 ]\n",
      " [ 3.16 -1.3 ]]\n",
      "Deuxième sélection [2.5  3.16 4.17 4.2 ]\n",
      "Troisième sélection [ 3.14  3.16 -1.3 ]\n",
      "Quatrième sélection [ 3.14  3.16 -1.3 ]\n",
      "Cinquième sélection [ 1.6  4.2 -8.2]\n"
     ]
    }
   ],
   "source": [
    "L1 = np.array([[2.3, 2.5, 6.8], [3.14, 3.16, -1.3], [3.14, 4.17, 3.45], [1.6, 4.2,  -8.2]])\n",
    "print(\"Première sélection\", L1[0:2, 1:3])  # Sélection des deux premières lignes (0 et 1) et colonnes d'index (1 et 2). C'est un tableau.\n",
    "print(\"Deuxième sélection\", L1[:, 1])  # Permet de sélectionner la deuxième colonne en entier (c'est un vecteur)\n",
    "print(\"Troisième sélection\", L1[1, :])  # Permet de sélectionner la deuxième ligne en entier (c'est un vecteur)\n",
    "print(\"Quatrième sélection\", L1[1])  # Permet de sélectionner la deuxième ligne en entier aussi (c'est un vecteur)\n",
    "print(\"Cinquième sélection\", L1[-1, :])  # Permet de sélectionner la dernière ligne en entier (c'est un vecteur)"
   ]
  },
  {
   "cell_type": "markdown",
   "id": "secret-checkout",
   "metadata": {},
   "source": [
    "Voici le tableau `L1` avec les indices des lignes et colonnes pour mieux comprendre.\n",
    "\n",
    "![Tableau numpy 2](./images/tableau_2.png)\n",
    "\n",
    "## Si j'ai bien compris...\n",
    "```{admonition} Exercice\n",
    ":class: tip\n",
    "Essayer de prévoir ce qu'affichera chaque `print` puis observer le résultat en cliquant sur la croix en bas à droite.\n",
    "```"
   ]
  },
  {
   "cell_type": "code",
   "execution_count": 14,
   "id": "defensive-valve",
   "metadata": {
    "tags": [
     "hide-output"
    ]
   },
   "outputs": [
    {
     "name": "stdout",
     "output_type": "stream",
     "text": [
      "Cas 1 : [[0. 1. 2. 3.]\n",
      " [0. 1. 4. 9.]\n",
      " [1. 1. 1. 1.]]\n",
      "Cas 2 : 1.0\n",
      "Cas 3 : 1.0\n",
      "Cas 4 : [0. 1. 4. 9.]\n",
      "Cas 5 : [1. 1. 1. 1.]\n",
      "Cas 6 : [3. 9. 1.]\n",
      "Cas 7 : [2. 4. 1.]\n",
      "Cas 8 : [[0.]]\n",
      "Cas 9 : [1. 1.]\n",
      "Cas 10 : [[1. 2.]\n",
      " [1. 4.]]\n"
     ]
    }
   ],
   "source": [
    "L1 = np.arange(0, 4)\n",
    "L2 = L1 * L1\n",
    "L3 = np.ones(4)\n",
    "\n",
    "\"\"\"\n",
    "Ci-dessous : une méthode pour créer un tableau à partir de 3 vecteurs de même taille.\n",
    "Les L1, L2, L3 sont les lignes du tableau.\n",
    "\"\"\"\n",
    "M1 = np.array([L1, L2, L3])\n",
    "\n",
    "print(\"Cas 1 :\", M1)\n",
    "print(\"Cas 2 :\", M1[2, 3])\n",
    "print(\"Cas 3 :\", M1[-1, 2])\n",
    "print(\"Cas 4 :\", M1[1])\n",
    "print(\"Cas 5 :\", M1[2, :])\n",
    "print(\"Cas 6 :\", M1[:, -1])\n",
    "print(\"Cas 7 :\", M1[:, -2])\n",
    "print(\"Cas 8 :\", M1[1:2, 0:1])\n",
    "print(\"Cas 9 :\", M1[:-1, 1])  # Un peu plus compliqué...\n",
    "print(\"Cas 10 :\", M1[-3:-1, -3:3])  # On se concentre bien..."
   ]
  },
  {
   "cell_type": "code",
   "execution_count": 15,
   "id": "chief-growing",
   "metadata": {
    "tags": [
     "remove-input",
     "remove-output"
    ]
   },
   "outputs": [
    {
     "data": {
      "text/plain": [
       "array([[0., 1., 2., 3.],\n",
       "       [0., 1., 4., 9.],\n",
       "       [1., 1., 1., 1.]])"
      ]
     },
     "metadata": {
      "scrapbook": {
       "mime_prefix": "",
       "name": "cas_1"
      }
     },
     "output_type": "display_data"
    },
    {
     "data": {
      "text/plain": [
       "1.0"
      ]
     },
     "metadata": {
      "scrapbook": {
       "mime_prefix": "",
       "name": "cas_2"
      }
     },
     "output_type": "display_data"
    },
    {
     "data": {
      "text/plain": [
       "1.0"
      ]
     },
     "metadata": {
      "scrapbook": {
       "mime_prefix": "",
       "name": "cas_3"
      }
     },
     "output_type": "display_data"
    },
    {
     "data": {
      "text/plain": [
       "array([0., 1., 4., 9.])"
      ]
     },
     "metadata": {
      "scrapbook": {
       "mime_prefix": "",
       "name": "cas_4"
      }
     },
     "output_type": "display_data"
    },
    {
     "data": {
      "text/plain": [
       "array([1., 1., 1., 1.])"
      ]
     },
     "metadata": {
      "scrapbook": {
       "mime_prefix": "",
       "name": "cas_5"
      }
     },
     "output_type": "display_data"
    },
    {
     "data": {
      "text/plain": [
       "array([3., 9., 1.])"
      ]
     },
     "metadata": {
      "scrapbook": {
       "mime_prefix": "",
       "name": "cas_6"
      }
     },
     "output_type": "display_data"
    },
    {
     "data": {
      "text/plain": [
       "array([2., 4., 1.])"
      ]
     },
     "metadata": {
      "scrapbook": {
       "mime_prefix": "",
       "name": "cas_7"
      }
     },
     "output_type": "display_data"
    },
    {
     "data": {
      "text/plain": [
       "array([[0.]])"
      ]
     },
     "metadata": {
      "scrapbook": {
       "mime_prefix": "",
       "name": "cas_8"
      }
     },
     "output_type": "display_data"
    },
    {
     "data": {
      "text/plain": [
       "array([1., 1.])"
      ]
     },
     "metadata": {
      "scrapbook": {
       "mime_prefix": "",
       "name": "cas_9"
      }
     },
     "output_type": "display_data"
    },
    {
     "data": {
      "text/plain": [
       "array([[1., 2.],\n",
       "       [1., 4.]])"
      ]
     },
     "metadata": {
      "scrapbook": {
       "mime_prefix": "",
       "name": "cas_10"
      }
     },
     "output_type": "display_data"
    }
   ],
   "source": [
    "from myst_nb import glue\n",
    "\n",
    "L1 = np.arange(0, 4)\n",
    "L2 = L1 * L1\n",
    "L3 = np.ones(4)\n",
    "\n",
    "\"\"\"\n",
    "Ci-dessous : une méthode pour créer un tableau à partir de 3 vecteurs de même taille.\n",
    "Les L1, L2, L3 sont les lignes du tableau.\n",
    "\"\"\"\n",
    "M1 = np.array([L1, L2, L3])\n",
    "\n",
    "glue(\"cas_1\", M1)\n",
    "glue(\"cas_2\", M1[2, 3])\n",
    "glue(\"cas_3\", M1[-1, 2])\n",
    "glue(\"cas_4\", M1[1])\n",
    "glue(\"cas_5\", M1[2, :])\n",
    "glue(\"cas_6\", M1[:, -1])\n",
    "glue(\"cas_7\", M1[:, -2])\n",
    "glue(\"cas_8\", M1[1:2, 0:1])\n",
    "glue(\"cas_9\", M1[:-1, 1])  # Un peu plus compliqué...\n",
    "glue(\"cas_10\", M1[-3:-1, -3:3])  # On se concentre bien..."
   ]
  },
  {
   "cell_type": "markdown",
   "id": "marked-thickness",
   "metadata": {},
   "source": [
    "```{dropdown} Explication des réponses\n",
    "__Les vecteurs__ :\n",
    "* L1 crée une liste d'entier partant de 0 jusqu'à 4 __exclus__ soit `[0, 1, 2, 3]`\n",
    "* L2 est la multiplication terme à terme L1 par lui-même, on passe chaque élément au carré soit `[0, 1, 4, 9]`\n",
    "* L3 est une liste de 4 éléments composées uniquement de 1.\n",
    "\n",
    "__Le tableau__ :\n",
    "* M est le tableau composé des trois vecteurs. Il est donc de taille 3*4 (3 lignes, 4 colonnes). Soit :\n",
    "\n",
    "![Tableau numpy](./images/matrice_numpy.png)\n",
    "\n",
    "__Les affichage__:\n",
    "* Cas 1 : Affichage du tableau complet\n",
    "* Cas 2 : Affichage de l'élément de la troisième ligne (indice 2), quatrième colonne (indice 3), soit {glue:}`cas_2`\n",
    "* Cas 3 : Afficahge de l'élément de la dernière ligne (indice -1), troisième colonne (indice 2) soit {glue:}`cas_3`\n",
    "* Cas 4 : Affichage de la __deuxième ligne (indice 1)__ soit {glue:}`cas_4`\n",
    "* Cas 5 : Affichage de la troisième ligne (indice 2) soit {glue:}`cas_5`\n",
    "* Cas 6 : Affichage de la dernière colonne (indice -1) soit {glue:}`cas_6`\n",
    "* Cas 7 : Affichage de l'avant-dernière colonne (indice -2) soit {glue:}`cas_7`\n",
    "* Cas 8 : Affichage du tableau limité à la deuxième ligne (de l'indice 1 à l'indice 2 __exclus__) et à la première colonne soit {glue:}`cas_8` (de l'indice 0 à l'indice 1 __exclus__). _C'est bien un tableau mais avec une seule valeur !_\n",
    "* Cas 9 : Affichage de la deuxième colonne mais sans la dernière ligne (on va jusqu'au -1 __exclus__) {glue:}`cas_9`\n",
    "* Cas 10 : Affichage du tableau limité aux deux premières lignes (de l'indice -3 soit indice 0 - puisqu'il y a 3 lignes - jusqu'à l'indice -1 (dernier) __exclus__) et à la deuxième et troisième colonne (de l'indice - 3 soit la colonne d'indice 1 - puisque qu'il y a 4 colonnes - jusqu'à l'indice 3 soit la dernière colonne __exclus__) soit {glue:}`cas_10`\n",
    "```"
   ]
  },
  {
   "cell_type": "markdown",
   "id": "upper-century",
   "metadata": {},
   "source": [
    "# La compréhension des listes\n",
    "\n",
    "## Position du problème\n",
    "On a vu que les listes classiques ne permettaient pas d'appliquer une fonction `f` à chaque élément en écrivant `f(L)` (`L` étant une liste classique). Cela a motivé l'utilisation des listes numpy. Néanmoins :\n",
    "* On est quelques fois obligé d'utiliser les listes classiques\n",
    "* La syntaxe `f(L)` ne fonctionne que si `f` est _vectorialisable_, c'est-à-dire programmée pour pouvoir s'appliquer à chaque élément.\n",
    "\n",
    "```{admonition} Fonctions et opérateurs vectorialisables\n",
    ":class: tip\n",
    "Non exhaustif :\n",
    "* Les opérateurs classiues `+,-,/,*` sont vectorialisables\n",
    "* Les fonctions de la bibliothèques numpy (sin, cos, exp...) sont vectorialisables.\n",
    "```\n",
    "\n",
    "Un exemple fréquent est quand la fonction `f` fait appelle à un structure conditionnelle qui n'est pas vectorialisable. On reprend la fonction définie par morceau :"
   ]
  },
  {
   "cell_type": "code",
   "execution_count": 16,
   "id": "adolescent-charger",
   "metadata": {},
   "outputs": [],
   "source": [
    "def fonction_morceau(x):\n",
    "  if x < 3:  # Si x < 3\n",
    "    a = x - 4\n",
    "  elif x < 5:  # Si 3 <= x < 5\n",
    "    a = x ** 2\n",
    "  else:  # Si x >=5\n",
    "    b = x + 4\n",
    "    a = b ** 3\n",
    "  return a"
   ]
  },
  {
   "cell_type": "markdown",
   "id": "charming-midnight",
   "metadata": {},
   "source": [
    "Impossible de l'appliquer directement à un vecteur numpy (pour la tracer par exemple:"
   ]
  },
  {
   "cell_type": "code",
   "execution_count": 17,
   "id": "piano-january",
   "metadata": {},
   "outputs": [
    {
     "ename": "ValueError",
     "evalue": "The truth value of an array with more than one element is ambiguous. Use a.any() or a.all()",
     "output_type": "error",
     "traceback": [
      "\u001b[0;31m---------------------------------------------------------------------------\u001b[0m",
      "\u001b[0;31mValueError\u001b[0m                                Traceback (most recent call last)",
      "\u001b[0;32m<ipython-input-17-c0a804038c36>\u001b[0m in \u001b[0;36m<module>\u001b[0;34m\u001b[0m\n\u001b[1;32m      1\u001b[0m \u001b[0mx\u001b[0m \u001b[0;34m=\u001b[0m \u001b[0mnp\u001b[0m\u001b[0;34m.\u001b[0m\u001b[0mlinspace\u001b[0m\u001b[0;34m(\u001b[0m\u001b[0;36m0\u001b[0m\u001b[0;34m,\u001b[0m \u001b[0;36m15\u001b[0m\u001b[0;34m,\u001b[0m \u001b[0;36m1000\u001b[0m\u001b[0;34m)\u001b[0m  \u001b[0;31m# Vecteur de 1000 valeurs entre 0 et 15\u001b[0m\u001b[0;34m\u001b[0m\u001b[0;34m\u001b[0m\u001b[0m\n\u001b[0;32m----> 2\u001b[0;31m \u001b[0my\u001b[0m \u001b[0;34m=\u001b[0m \u001b[0mfonction_morceau\u001b[0m\u001b[0;34m(\u001b[0m\u001b[0mx\u001b[0m\u001b[0;34m)\u001b[0m\u001b[0;34m\u001b[0m\u001b[0;34m\u001b[0m\u001b[0m\n\u001b[0m",
      "\u001b[0;32m<ipython-input-16-45c6fcf56df6>\u001b[0m in \u001b[0;36mfonction_morceau\u001b[0;34m(x)\u001b[0m\n\u001b[1;32m      1\u001b[0m \u001b[0;32mdef\u001b[0m \u001b[0mfonction_morceau\u001b[0m\u001b[0;34m(\u001b[0m\u001b[0mx\u001b[0m\u001b[0;34m)\u001b[0m\u001b[0;34m:\u001b[0m\u001b[0;34m\u001b[0m\u001b[0;34m\u001b[0m\u001b[0m\n\u001b[0;32m----> 2\u001b[0;31m   \u001b[0;32mif\u001b[0m \u001b[0mx\u001b[0m \u001b[0;34m<\u001b[0m \u001b[0;36m3\u001b[0m\u001b[0;34m:\u001b[0m  \u001b[0;31m# Si x < 3\u001b[0m\u001b[0;34m\u001b[0m\u001b[0;34m\u001b[0m\u001b[0m\n\u001b[0m\u001b[1;32m      3\u001b[0m     \u001b[0ma\u001b[0m \u001b[0;34m=\u001b[0m \u001b[0mx\u001b[0m \u001b[0;34m-\u001b[0m \u001b[0;36m4\u001b[0m\u001b[0;34m\u001b[0m\u001b[0;34m\u001b[0m\u001b[0m\n\u001b[1;32m      4\u001b[0m   \u001b[0;32melif\u001b[0m \u001b[0mx\u001b[0m \u001b[0;34m<\u001b[0m \u001b[0;36m5\u001b[0m\u001b[0;34m:\u001b[0m  \u001b[0;31m# Si 3 <= x < 5\u001b[0m\u001b[0;34m\u001b[0m\u001b[0;34m\u001b[0m\u001b[0m\n\u001b[1;32m      5\u001b[0m     \u001b[0ma\u001b[0m \u001b[0;34m=\u001b[0m \u001b[0mx\u001b[0m \u001b[0;34m**\u001b[0m \u001b[0;36m2\u001b[0m\u001b[0;34m\u001b[0m\u001b[0;34m\u001b[0m\u001b[0m\n",
      "\u001b[0;31mValueError\u001b[0m: The truth value of an array with more than one element is ambiguous. Use a.any() or a.all()"
     ]
    }
   ],
   "source": [
    "x = np.linspace(0, 15, 1000)  # Vecteur de 1000 valeurs entre 0 et 15\n",
    "y = fonction_morceau(x)\n"
   ]
  },
  {
   "cell_type": "markdown",
   "id": "iraqi-gentleman",
   "metadata": {},
   "source": [
    "`The truth value of an array with more than one element is ambiguous.` : Le message est clair : il cherche à travailler sur le vecteur et non sur chaque élément.\n",
    "\n",
    "## Première solution\n",
    "On peut écrire une boucle classique qui parcout tous les éléments de `x` et leur applique `fonction_morceau` :"
   ]
  },
  {
   "cell_type": "code",
   "execution_count": 18,
   "id": "infectious-difference",
   "metadata": {},
   "outputs": [
    {
     "data": {
      "image/png": "[encoded data removed]",
      "text/plain": [
       "<Figure size 432x288 with 1 Axes>"
      ]
     },
     "metadata": {
      "filenames": {
       "image/png": "/home/ubuntu/Dropbox/Enseignement prepas/approche_numeriques/intro_python/_build/jupyter_execute/notebook/plus_loin_37_0.png"
      },
      "needs_background": "light"
     },
     "output_type": "display_data"
    }
   ],
   "source": [
    "x = np.linspace(0, 15, 1000)\n",
    "y = np.zeros(len(x))  # On crée un vecteur nul qu'on va remplir\n",
    "\n",
    "for i in range(len(x)):  # i prendra les indices de 0 à len(x) - 1\n",
    "  y[i] = fonction_morceau(x[i])  # On remplit l'élément d'indice i\n",
    "\n",
    "\n",
    "\"\"\"On peut même le tracer\"\"\"\n",
    "f, ax = plt.subplots()  # On ne va pas légender le graphique puisqu'il n'y a pas de contexte ici.\n",
    "ax.plot(x, y)\n",
    "\n",
    "plt.show()\n"
   ]
  },
  {
   "cell_type": "markdown",
   "id": "embedded-closure",
   "metadata": {},
   "source": [
    "## Utilisation de la compréhension des listes.\n",
    "Une __liste en compréhension__ est une liste qui est obtenue par action (et/ou filtrage) de chaque élément d'une autre liste. La syntaxe est simple :\n",
    "\n",
    "```python\n",
    "L1 = [fonction(x) for x in L]  # L est une liste et L1 la nouvelle liste en compréhension\n",
    "```\n",
    "\n",
    "La syntaxe est assez clair : \"Applique la `fonction` à `x` pour `x` qui parcourt chaque élément de `L`\"\n",
    "\n",
    "```{margin}\n",
    "Ca fonction si `L` est un vecteur `numpy`\n",
    "\n",
    "```\n",
    "\n",
    "````{attention}\n",
    "Cette méthode renvoie une liste __classique__, pas un vecteur `numpy`. Si vous voulez obtenir un vecteur numpy, il faudra utiliser la fonction `array` :\n",
    "```python\n",
    "L1 = np.array([fonction(x) for x in L])\n",
    "```\n",
    "````\n",
    "\n",
    "A titre d'exemple :"
   ]
  },
  {
   "cell_type": "code",
   "execution_count": 19,
   "id": "demonstrated-dimension",
   "metadata": {},
   "outputs": [
    {
     "data": {
      "image/png": "[encoded data removed]",
      "text/plain": [
       "<Figure size 432x288 with 1 Axes>"
      ]
     },
     "metadata": {
      "filenames": {
       "image/png": "/home/ubuntu/Dropbox/Enseignement prepas/approche_numeriques/intro_python/_build/jupyter_execute/notebook/plus_loin_39_0.png"
      },
      "needs_background": "light"
     },
     "output_type": "display_data"
    }
   ],
   "source": [
    "x = np.linspace(0, 15, 1000)\n",
    "y = np.array([fonction_morceau(i) for i in x])\n",
    "\n",
    "\n",
    "\"\"\"On peut même le tracer\"\"\"\n",
    "f, ax = plt.subplots()  # On ne va pas légender le graphique puisqu'il n'y a pas de contexte ici.\n",
    "ax.plot(x, y)\n",
    "\n",
    "plt.show()\n"
   ]
  },
  {
   "cell_type": "markdown",
   "id": "stretch-feelings",
   "metadata": {},
   "source": [
    "# Les dictionnaires\n",
    "Les __dictionnaires__ sont des objets python un peu plus complexes que vous pourriez rencontrer comme retour d'une fonction native. Un dictionnaire, comme une liste possède un ensemble d'éléments (des entiers, flottants, chaine de caractère, listes, vecteur numpy ...) mais ces éléments sont rangés dans des _champs nommés_. Un exemple avec les différentes manipulations utiles :"
   ]
  },
  {
   "cell_type": "code",
   "execution_count": 20,
   "id": "coated-omega",
   "metadata": {},
   "outputs": [
    {
     "name": "stdout",
     "output_type": "stream",
     "text": [
      "Nom des champs :\n",
      "fruit\n",
      "couleur\n",
      "nombre\n",
      "prix\n",
      "Contenu des champs :\n",
      "Pomme\n",
      "Rouge\n",
      "234\n",
      "3.45\n"
     ]
    }
   ],
   "source": [
    "\"\"\" On définit un dictionnaire. \n",
    "- Il a 4 champs : fruit, couleur, rouge, prix.\n",
    "- On a assigner à ces champs les valeurs respectives : \"Pomme\", \"Rouge\", 234, 3.45\n",
    "\n",
    "\"\"\"\n",
    "a = {'fruit': \"Pomme\", 'couleur': \"Rouge\", 'nombre': 234, 'prix': 3.45}\n",
    "\n",
    "b = a['fruit']  # Pour accéder au contenu du champ \"fruit\" du dictionnaire a\n",
    "\n",
    "print('Nom des champs :')\n",
    "for truc in a:  # truc prendra les différents nom des champs\n",
    "  print(truc)  # On affiche le nom des champs\n",
    "\n",
    "print('Contenu des champs :')\n",
    "for truc in a:  # truc prendra les différents nom des champs\n",
    "  print(a[truc])  # On affiche le contenu de chaque champ\n"
   ]
  },
  {
   "cell_type": "markdown",
   "id": "thorough-motorcycle",
   "metadata": {},
   "source": [
    "```{tip}\n",
    "Attention:\n",
    "* Si `fruit` est le nom d'un champ, on écrit `a[\"fruit\"]` avec des `\"\"` : c'est bien une chaine de caractère\n",
    "* Si `truc` est le nombre de la variable qui contient la chaine de caractère `\"fruit\"`, on écrit `a[truc]`\n",
    "```"
   ]
  },
  {
   "cell_type": "markdown",
   "id": "optical-attachment",
   "metadata": {},
   "source": [
    "# Fonctions et méthodes\n",
    "Vous avez peut-être remarqué que la façon d'appeler les \"fonctions\" pouvait un peu différer suivant les cas :\n",
    "* `print(f)` : La __fonction__ `print` agit sur _l'argument_ `f` en l'affichant.\n",
    "* `f.suptitle()` : la __méthode__  `suptitle` agit sur _l'objet_ `f` en le modifiant\n",
    "\n",
    "On ne revient pas sur les fonctions qui ont déjà été présentées précédemment.\n",
    "\n",
    "Les __méthodes__ sont comme des fonctions mais qui sont étroitement associées à certains types de variables (on parle d'objets). Cette notion est reliée à la __Programmation Orientée Objet__ (POO) rendue possibles par de nombreux langages informatiques (comme Python). \n",
    "\n",
    "Sans rentrer dans les détails, on peut en POO définir des _objets_ qui vont posséder certaines caractéristiques (des _attributs_) et certaines fonctions propres (des _méthodes_) qui permettent de les modifier ou d'obtenir certaines caractéristiques.\n",
    "\n",
    "Par exemple, si je crée un vecteur numpy `v0` : c'est un objet. \n",
    "* Il possède certaines attributs. Ex : `shape` donnera sa taille. Pour obtenir cet attribut, on écrira `v0.shape` (l'attribut `shape` de l'objet `v0`)\n",
    "* Il possède des méthodes. Ex : `fill(valeur)` remplit le vecteur avec la même `valeur`. Pour appliquer cette méthode à `v0`, on écrira `v0.fill(3)`.\n",
    "\n",
    "Il n'est pas nécessaire de maîtriser complètement la POO. Il suffira surtout de repérer quand on utilise la syntaxe d'une fonction (ex : `round(3.4)`) et qu'on il s'agit de la syntaxe d'une méthode (ex : `ax.set_xlabel('Légende des x')`)."
   ]
  }
 ],
 "metadata": {
  "jupytext": {
   "encoding": "# -*- coding: utf-8 -*-",
   "formats": "ipynb,md:myst",
   "split_at_heading": true,
   "text_representation": {
    "extension": ".md",
    "format_name": "myst",
    "format_version": 0.13,
    "jupytext_version": "1.10.3"
   }
  },
  "kernelspec": {
   "display_name": "Python 3",
   "language": "python",
   "name": "python3"
  },
  "language_info": {
   "codemirror_mode": {
    "name": "ipython",
    "version": 3
   },
   "file_extension": ".py",
   "mimetype": "text/x-python",
   "name": "python",
   "nbconvert_exporter": "python",
   "pygments_lexer": "ipython3",
   "version": "3.9.2"
  },
  "source_map": [
   15,
   19,
   24,
   44,
   55,
   65,
   75,
   85,
   93,
   103,
   115,
   123,
   129,
   132,
   147,
   161,
   166,
   186,
   190,
   209,
   215,
   250,
   270,
   282,
   295,
   305,
   315,
   322,
   330,
   342,
   366,
   390,
   416,
   434,
   444,
   448,
   452,
   459,
   473,
   498,
   510,
   515,
   533,
   541
  ]
 },
 "nbformat": 4,
 "nbformat_minor": 5
}