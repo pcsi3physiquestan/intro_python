{
 "cells": [
  {
   "cell_type": "markdown",
   "id": "excess-complex",
   "metadata": {},
   "source": [
    "# A vous de coder\n",
    "Voici quelques exercices pour vous entraîner à coder. Il est conseillé d'utiliser Pyzo pour créer un fichier par exercice puis les exécuter. Quelques consignes :\n",
    "* Créér un répertoire dans lequel vous mettrez vos fichiers contenant vos scripts.\n",
    "* N'oubliez pas de bien indenter votre code\n",
    "* Pensez à commenter votre code\n",
    "* N'oubliez pas d'importer les bibliothèques numpy et matplotlib.pyplot lorsqu'elles sont utiles.\n",
    "* Essayer de lire les messages d'erreurs quand il y en a pour comprendre où vous avez un problème (numéro de ligne) et quel est le problème.\n",
    "\n",
    "## Exercices\n",
    "\n",
    "```{admonition} Exercice 1\n",
    "Vous devez tracer le graphique de la fonction $f(x) = 2x + 3 * sin(x)$ sur l'intervalle $[0, 4\\pi]$ en prenant $N = 2000$ points pour le tracé.\n",
    "\n",
    "On suppose qu'il s'agit du mouvement d'une \"Masse sur un axe\". Le tracé de la courbe devra être rouge (trait plein). Les abscisses seront des temps (en secondes) et les ordonnées des positions (en mètre). Utilisez ces informations pour légender et titrer votre graphique.\n",
    "```\n",
    "\n",
    "```{toggle} Quelques indices pour s'organiser\n",
    "* Vous avez besoin des deux bibliothèques. N'oubliez pas de les importer.\n",
    "* Vous n'allez pas créer un vecteur de 2000 points manuellement, pensez aux fonction qui permettent de créer automatiquement des vecteurs.\n",
    "* Seule la fonction `sin` de la bibliothèque `numpy` est vectorialisable.\n",
    "* Essayer d'avoir une organisation claire de vos instructions pour créer le graphique. Vous pourrez la réutiliser souvent.\n",
    "```\n",
    "\n",
    "\n",
    "```{admonition} Exercice 2\n",
    "La fonction `uniform(a, b, N)` de la bibliothèque `numpy.random` permet de réaliser N tirages aléatoires suivant une loi uniforme (toutes les valeurs ont la même probabilité) entre a et b. La fonction renvoie un vecteur numpy de taille N contenant les tirages.\n",
    "\n",
    "Vous devez :\n",
    "1. importer la sous-bibliothèque `numpy.random` dans l'espace nommé `rd` pour l'utiliser ensuite.\n",
    "2. Utiliser la fonction `uniform` pour créer un vecteur contenant $N = 1000000$ de tirages aléatoires.\n",
    "3. Obtenir alors le vecteur X contenant le carré de chaque valeur tirées précédemment.\n",
    "4. Tracer l'histogramme des valeurs de X. Le titre sera \"Distribution statistique\", il n'est pas utile d'afficher la légende.\n",
    "\n",
    "```\n",
    "\n",
    "```{toggle} Quelques indices pour s'organiser\n",
    "* Vous avez besoin des deux bibliothèques scientifiques en plus de `numpy.random`. N'oubliez pas de les importer aussi.\n",
    "* Bien comprendre le fonctionnement de `uniform` pour l'utiliser.\n",
    "```"
   ]
  }
 ],
 "metadata": {
  "jupytext": {
   "encoding": "# -*- coding: utf-8 -*-",
   "formats": "ipynb, md:myst, py",
   "split_at_heading": true,
   "text_representation": {
    "extension": ".md",
    "format_name": "myst",
    "format_version": 0.13,
    "jupytext_version": "1.10.3"
   }
  },
  "kernelspec": {
   "display_name": "Python 3",
   "language": "python",
   "name": "python3"
  },
  "language_info": {
   "codemirror_mode": {
    "name": "ipython",
    "version": 3
   },
   "file_extension": ".py",
   "mimetype": "text/x-python",
   "name": "python",
   "nbconvert_exporter": "python",
   "pygments_lexer": "ipython3",
   "version": "3.9.2"
  },
  "source_map": [
   15
  ]
 },
 "nbformat": 4,
 "nbformat_minor": 5
}