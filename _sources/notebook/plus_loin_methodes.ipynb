{
 "cells": [
  {
   "cell_type": "markdown",
   "id": "7aa2a3c7",
   "metadata": {},
   "source": [
    "Certains points abordés ici serviront très peu ou seront abordés pendant l'année. Il s'agit d'approfondissement pour ceux qui ont déjà bien compris les parties précédentes.\n",
    "\n",
    "# Fonctions et méthodes\n",
    "Vous avez peut-être remarqué que la façon d'appeler les \"fonctions\" pouvait un peu différer suivant les cas :\n",
    "* `print(f)` : La __fonction__ `print` agit sur _l'argument_ `f` en l'affichant.\n",
    "* `f.suptitle()` : la __méthode__  `suptitle` agit sur _l'objet_ `f` en le modifiant\n",
    "\n",
    "On ne revient pas sur les fonctions qui ont déjà été présentées précédemment.\n",
    "\n",
    "Les __méthodes__ sont comme des fonctions mais qui sont étroitement associées à certains types de variables (on parle d'objets). Cette notion est reliée à la __Programmation Orientée Objet__ (POO) rendue possibles par de nombreux langages informatiques (comme Python). \n",
    "\n",
    "Sans rentrer dans les détails, on peut en POO définir des _objets_ qui vont posséder certaines caractéristiques (des _attributs_) et certaines fonctions propres (des _méthodes_) qui permettent de les modifier ou d'obtenir certaines caractéristiques.\n",
    "\n",
    "Par exemple, si je crée un vecteur numpy `v0` : c'est un objet. \n",
    "* Il possède certaines attributs. Ex : `shape` donnera sa taille. Pour obtenir cet attribut, on écrira `v0.shape` (l'attribut `shape` de l'objet `v0`)\n",
    "* Il possède des méthodes. Ex : `fill(valeur)` remplit le vecteur avec la même `valeur`. Pour appliquer cette méthode à `v0`, on écrira `v0.fill(3)`.\n",
    "\n",
    "Il n'est pas nécessaire de maîtriser complètement la POO. Il suffira surtout de repérer quand on utilise la syntaxe d'une fonction (ex : `round(3.4)`) et quand il s'agit de la syntaxe d'une méthode (ex : `ax.set_xlabel('Légende des x')`)."
   ]
  }
 ],
 "metadata": {
  "jupytext": {
   "encoding": "# -*- coding: utf-8 -*-",
   "formats": "ipynb,md:myst",
   "split_at_heading": true,
   "text_representation": {
    "extension": ".md",
    "format_name": "myst",
    "format_version": 0.13,
    "jupytext_version": "1.10.3"
   }
  },
  "kernelspec": {
   "display_name": "Python 3",
   "language": "python",
   "name": "python3"
  },
  "language_info": {
   "codemirror_mode": {
    "name": "ipython",
    "version": 3
   },
   "file_extension": ".py",
   "mimetype": "text/x-python",
   "name": "python",
   "nbconvert_exporter": "python",
   "pygments_lexer": "ipython3",
   "version": "3.7.12"
  },
  "source_map": [
   15
  ]
 },
 "nbformat": 4,
 "nbformat_minor": 5
}